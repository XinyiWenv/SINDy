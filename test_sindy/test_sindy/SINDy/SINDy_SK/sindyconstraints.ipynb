{
 "cells": [
  {
   "cell_type": "code",
   "execution_count": 1,
   "metadata": {},
   "outputs": [],
   "source": [
    "import numpy as np\n",
    "import pandas as pd\n",
    "import seaborn as sns\n",
    "import matplotlib.pyplot as plt\n",
    "from pysindy import SINDy\n",
    "from pysindy.optimizers import STLSQ, ConstrainedSR3\n",
    "from pysindy.feature_library import PolynomialLibrary\n",
    "from sklearn.metrics import mean_squared_error\n",
    "from scipy.ndimage import gaussian_filter1d\n",
    "import warnings\n",
    "\n",
    "warnings.filterwarnings(\"ignore\")\n",
    "\n",
    "# Functions from your code\n",
    "def apply_gaussian_filter(data, sigma):\n",
    "    return gaussian_filter1d(data, sigma=sigma)\n",
    "\n",
    "def integrate_data(data, dt=1):\n",
    "    integrated_data = np.zeros(len(data))\n",
    "    for i in range(1, len(data)):\n",
    "        integrated_data[i] = integrated_data[i-1] + data[i] * dt \n",
    "    return integrated_data\n",
    "\n",
    "def calculate_rmse(y_true, y_pred):\n",
    "    return np.sqrt(mean_squared_error(y_true, y_pred))\n",
    "\n"
   ]
  },
  {
   "cell_type": "code",
   "execution_count": 8,
   "metadata": {},
   "outputs": [],
   "source": [
    "import numpy as np\n",
    "import pandas as pd\n",
    "from scipy.ndimage import gaussian_filter1d\n",
    "from scipy.integrate import cumtrapz\n",
    "from sklearn.metrics import mean_squared_error\n",
    "from pysindy import SINDy, PolynomialLibrary, STLSQ, ConstrainedSR3\n",
    "import pickle\n",
    "import os\n",
    "\n",
    "# Existing functions (unchanged)\n",
    "def apply_gaussian_filter(data, sigma):\n",
    "    return gaussian_filter1d(data, sigma=sigma)\n",
    "\n",
    "def integrate_data(omega_data, dt=1, initial_theta=0):\n",
    "    theta_data = cumtrapz(omega_data, dx=dt, initial=initial_theta)\n",
    "    return theta_data\n",
    "\n",
    "def calculate_rmse(y_true, y_pred):\n",
    "    return np.sqrt(mean_squared_error(y_true, y_pred))\n",
    "\n",
    "# Optimized function: Train original model once per chunk\n",
    "def analyze_constrained_sindy(filtered_data, sigma=60, degree=2, divergence_threshold=0.5, transform_name=\"linear_time\"):\n",
    "    feature_names = ['1', 'theta', 'omega', 'time', 'theta^2', 'theta omega', \n",
    "                     'theta time', 'omega^2', 'omega time', 'time^2']\n",
    "    n_features = len(feature_names)\n",
    "\n",
    "    s = 1\n",
    "    delta_t = 1 / s\n",
    "    simulation_steps = 3600\n",
    "    poly_library = PolynomialLibrary(degree=degree)\n",
    "    original_optimizer = STLSQ(threshold=1e-10)\n",
    "\n",
    "    # Store results\n",
    "    results = {\n",
    "        'constraint_index': [],\n",
    "        'constrained_term': [],\n",
    "        'mean_original_rmse': [],\n",
    "        'mean_constrained_rmse': [],\n",
    "        'unstable_original': [],\n",
    "        'unstable_constrained': [],\n",
    "        'total_chunks': []\n",
    "    }\n",
    "    all_rmse_data = {}\n",
    "    all_omega_data = {}\n",
    "\n",
    "    # Precompute original model results for all chunks\n",
    "    original_results = []\n",
    "    total_chunks = 0\n",
    "    print(\"Precomputing unconstrained model for all chunks...\")\n",
    "    for i, chunk in enumerate(filtered_data):\n",
    "        total_chunks += 1\n",
    "        omega_filtered = apply_gaussian_filter(chunk['omega'].values, sigma=sigma)\n",
    "        chunk['omega_filtered'] = omega_filtered\n",
    "        theta_chunk = integrate_data(chunk['omega_filtered'].values)\n",
    "        stacked_data_chunk = np.column_stack((theta_chunk, chunk['omega_filtered'].values))\n",
    "        t_train_chunk = np.arange(0, len(chunk), 1).reshape(-1, 1)\n",
    "        x_train_augmented_chunk = np.hstack([stacked_data_chunk, t_train_chunk])\n",
    "\n",
    "        true_omega = chunk['omega'].values\n",
    "        time_points = np.arange(0, simulation_steps, 1) * delta_t\n",
    "\n",
    "        # Fit original model once per chunk\n",
    "        original_model = SINDy(feature_names=feature_names, \n",
    "                               feature_library=poly_library, \n",
    "                               optimizer=original_optimizer)\n",
    "        original_model.fit(x_train_augmented_chunk, t=1)\n",
    "        original_coefficients = original_model.coefficients()\n",
    "\n",
    "        th = np.zeros(simulation_steps)\n",
    "        om_original = np.zeros(simulation_steps)\n",
    "        t = np.zeros(simulation_steps)\n",
    "        th[0], om_original[0], t[0] = theta_chunk[0], true_omega[0], 0 \n",
    "        limited_simulation = False\n",
    "\n",
    "        for step in range(simulation_steps - 1):\n",
    "            state = np.array([th[step], om_original[step], t[step]])\n",
    "            features = poly_library.fit_transform(state.reshape(1, -1))[0]\n",
    "            derivatives = original_coefficients @ features\n",
    "            th[step + 1] = th[step] + delta_t * derivatives[0]\n",
    "            om_original[step + 1] = om_original[step] + delta_t * derivatives[1]\n",
    "            t[step + 1] = t[step] + delta_t\n",
    "            if np.abs(om_original[step + 1]) > divergence_threshold:\n",
    "                limited_simulation = True\n",
    "                simulation_end = step + 2\n",
    "                break\n",
    "\n",
    "        om_original_used = om_original[:simulation_end] if limited_simulation else om_original\n",
    "        true_omega_used = true_omega[:len(om_original_used)]\n",
    "        rmse_original = calculate_rmse(true_omega_used, om_original_used)\n",
    "        print(f\"Chunk {i} RMSE (original): {rmse_original:.6f}\")\n",
    "\n",
    "        original_results.append({\n",
    "            'omega_filtered': omega_filtered,\n",
    "            'true_omega': true_omega,\n",
    "            'theta_chunk': theta_chunk,\n",
    "            'x_train_augmented_chunk': x_train_augmented_chunk,\n",
    "            'om_original': om_original.copy(),\n",
    "            'time_points': time_points[:len(om_original)] if limited_simulation else time_points.copy(),\n",
    "            'rmse_original': rmse_original,\n",
    "            'unstable': limited_simulation\n",
    "        })\n",
    "\n",
    "    # Process constraints using precomputed original results\n",
    "    constraint_indices = range(n_features, 2 * n_features)\n",
    "    constrained_terms = feature_names\n",
    "\n",
    "    for constraint_idx, constrained_term in zip(constraint_indices, constrained_terms):\n",
    "        original_rmse = []\n",
    "        constrained_rmse = []\n",
    "        unstable_original = 0\n",
    "        unstable_constrained = 0\n",
    "\n",
    "        all_omega_data[constrained_term] = {}\n",
    "        all_rmse_data[constrained_term] = {'original': [], 'constrained': []}\n",
    "\n",
    "        constraint_lhs = np.zeros((1, 3 * n_features))\n",
    "        constraint_lhs[0, constraint_idx] = 1\n",
    "        constraint_rhs = np.array([0])\n",
    "        constrained_optimizer = ConstrainedSR3(\n",
    "            threshold=1e-10,\n",
    "            max_iter=100,\n",
    "            constraint_lhs=constraint_lhs,\n",
    "            constraint_rhs=constraint_rhs,\n",
    "            constraint_order=\"feature\"\n",
    "        )\n",
    "\n",
    "        print(f\"\\nProcessing constraint on '{constrained_term}' (index {constraint_idx})\")\n",
    "\n",
    "        for i, chunk_data in enumerate(original_results):\n",
    "            # Reuse precomputed original results\n",
    "            omega_filtered = chunk_data['omega_filtered']\n",
    "            true_omega = chunk_data['true_omega']\n",
    "            theta_chunk = chunk_data['theta_chunk']\n",
    "            x_train_augmented_chunk = chunk_data['x_train_augmented_chunk']\n",
    "            om_original = chunk_data['om_original']\n",
    "            time_points = chunk_data['time_points']\n",
    "            rmse_original = chunk_data['rmse_original']\n",
    "            unstable = chunk_data['unstable']\n",
    "\n",
    "            original_rmse.append(rmse_original)\n",
    "            all_rmse_data[constrained_term]['original'].append(rmse_original)\n",
    "            if unstable:\n",
    "                unstable_original += 1\n",
    "\n",
    "            # Constrained model\n",
    "            constrained_model = SINDy(feature_names=feature_names, \n",
    "                                      feature_library=poly_library, \n",
    "                                      optimizer=constrained_optimizer)\n",
    "            constrained_model.fit(x_train_augmented_chunk, t=1)\n",
    "            constrained_coefficients = constrained_model.coefficients()\n",
    "\n",
    "            th = np.zeros(simulation_steps)\n",
    "            om_constrained = np.zeros(simulation_steps)\n",
    "            t = np.zeros(simulation_steps)\n",
    "            th[0], om_constrained[0], t[0] = theta_chunk[0], omega_filtered[0], 0\n",
    "            limited_simulation = False\n",
    "\n",
    "            for step in range(simulation_steps - 1):\n",
    "                state = np.array([th[step], om_constrained[step], t[step]])\n",
    "                features = poly_library.fit_transform(state.reshape(1, -1))[0]\n",
    "                derivatives = constrained_coefficients @ features\n",
    "                th[step + 1] = th[step] + delta_t * derivatives[0]\n",
    "                om_constrained[step + 1] = om_constrained[step] + delta_t * derivatives[1]\n",
    "                t[step + 1] = t[step] + delta_t\n",
    "                if np.abs(om_constrained[step + 1]) > divergence_threshold:\n",
    "                    limited_simulation = True\n",
    "                    simulation_end = step + 2\n",
    "                    unstable_constrained += 1\n",
    "                    break\n",
    "\n",
    "            om_constrained_used = om_constrained[:simulation_end] if limited_simulation else om_constrained\n",
    "            true_omega_used = true_omega[:len(om_constrained_used)]\n",
    "            rmse_constrained = calculate_rmse(true_omega_used, om_constrained_used)\n",
    "            constrained_rmse.append(rmse_constrained)\n",
    "            all_rmse_data[constrained_term]['constrained'].append(rmse_constrained)\n",
    "            print(f\"Chunk {i} RMSE (constrained): {rmse_constrained:.6f}\")\n",
    "\n",
    "            all_omega_data[constrained_term][i] = {\n",
    "                'true': true_omega.copy(),\n",
    "                'filtered': omega_filtered.copy(),\n",
    "                'original': om_original.copy(),\n",
    "                'constrained': om_constrained.copy(),\n",
    "                'time': time_points.copy()\n",
    "            }\n",
    "\n",
    "        # Aggregate results\n",
    "        mean_original_rmse = np.mean(original_rmse)\n",
    "        mean_constrained_rmse = np.mean(constrained_rmse)\n",
    "\n",
    "        results['constraint_index'].append(constraint_idx)\n",
    "        results['constrained_term'].append(constrained_term)\n",
    "        results['mean_original_rmse'].append(mean_original_rmse)\n",
    "        results['mean_constrained_rmse'].append(mean_constrained_rmse)\n",
    "        results['unstable_original'].append(unstable_original)\n",
    "        results['unstable_constrained'].append(unstable_constrained)\n",
    "        results['total_chunks'].append(total_chunks)\n",
    "\n",
    "        print(f\"Completed constraint on {constrained_term}: Mean RMSE (original) = {mean_original_rmse:.6f}, \"\n",
    "              f\"Mean RMSE (constrained) = {mean_constrained_rmse:.6f}, \"\n",
    "              f\"Unstable (original) = {unstable_original}/{total_chunks}, \"\n",
    "              f\"Unstable (constrained) = {unstable_constrained}/{total_chunks}\")\n",
    "\n",
    "    # Save all results\n",
    "    output_dir = \"C:/1. Power grid frequency data/results/\"\n",
    "    os.makedirs(output_dir, exist_ok=True)\n",
    "    with open(f\"{output_dir}constrained_sindy_results.pkl\", 'wb') as f:\n",
    "        pickle.dump(results, f)\n",
    "    with open(f\"{output_dir}all_omega_data.pkl\", 'wb') as f:\n",
    "        pickle.dump(all_omega_data, f)\n",
    "    with open(f\"{output_dir}all_rmse_data.pkl\", 'wb') as f:\n",
    "        pickle.dump(all_rmse_data, f)\n",
    "    print(\"Results, omega data, and RMSE data saved.\")\n",
    "\n",
    "    return results, all_omega_data, all_rmse_data\n",
    "\n"
   ]
  },
  {
   "cell_type": "code",
   "execution_count": 11,
   "metadata": {},
   "outputs": [
    {
     "name": "stdout",
     "output_type": "stream",
     "text": [
      "1.26.4\n"
     ]
    }
   ],
   "source": [
    "import numpy as np\n",
    "print(np.__version__)\n"
   ]
  },
  {
   "cell_type": "code",
   "execution_count": 10,
   "metadata": {},
   "outputs": [
    {
     "name": "stdout",
     "output_type": "stream",
     "text": [
      "Total number of valid hourly chunks: 2451\n",
      "Precomputing unconstrained model for all chunks...\n",
      "Chunk 0 RMSE (original): 0.113620\n",
      "Chunk 1 RMSE (original): 0.181735\n",
      "Chunk 2 RMSE (original): 0.098623\n",
      "Chunk 3 RMSE (original): 0.121168\n",
      "Chunk 4 RMSE (original): 0.091556\n",
      "Chunk 5 RMSE (original): 0.087337\n",
      "Chunk 6 RMSE (original): 0.087353\n",
      "Chunk 7 RMSE (original): 0.079767\n",
      "Chunk 8 RMSE (original): 0.292695\n",
      "Chunk 9 RMSE (original): 0.143719\n",
      "Chunk 10 RMSE (original): 0.232224\n",
      "Chunk 11 RMSE (original): 0.079796\n",
      "Chunk 12 RMSE (original): 0.236714\n",
      "Chunk 13 RMSE (original): 0.095310\n",
      "Chunk 14 RMSE (original): 0.109452\n",
      "Chunk 15 RMSE (original): 0.143214\n",
      "Chunk 16 RMSE (original): 0.072736\n",
      "Chunk 17 RMSE (original): 0.144127\n",
      "Chunk 18 RMSE (original): 0.208363\n",
      "Chunk 19 RMSE (original): 0.209158\n",
      "Chunk 20 RMSE (original): 0.077017\n",
      "Chunk 21 RMSE (original): 0.108578\n",
      "Chunk 22 RMSE (original): 0.103286\n",
      "Chunk 23 RMSE (original): 0.061413\n",
      "Chunk 24 RMSE (original): 0.090188\n",
      "Chunk 25 RMSE (original): 0.084156\n",
      "Chunk 26 RMSE (original): 0.122908\n",
      "Chunk 27 RMSE (original): 0.062025\n",
      "Chunk 28 RMSE (original): 0.089232\n",
      "Chunk 29 RMSE (original): 0.154498\n",
      "Chunk 30 RMSE (original): 0.113495\n",
      "Chunk 31 RMSE (original): 0.131794\n",
      "Chunk 32 RMSE (original): 0.125387\n",
      "Chunk 33 RMSE (original): 0.208519\n",
      "Chunk 34 RMSE (original): 0.118880\n",
      "Chunk 35 RMSE (original): 0.115936\n",
      "Chunk 36 RMSE (original): 0.145033\n",
      "Chunk 37 RMSE (original): 0.132523\n",
      "Chunk 38 RMSE (original): 0.220204\n",
      "Chunk 39 RMSE (original): 0.225132\n",
      "Chunk 40 RMSE (original): 0.291687\n",
      "Chunk 41 RMSE (original): 0.116621\n",
      "Chunk 42 RMSE (original): 0.125411\n",
      "Chunk 43 RMSE (original): 0.208733\n",
      "Chunk 44 RMSE (original): 0.091568\n",
      "Chunk 45 RMSE (original): 0.117535\n",
      "Chunk 46 RMSE (original): 0.127759\n",
      "Chunk 47 RMSE (original): 0.065696\n",
      "Chunk 48 RMSE (original): 0.099865\n",
      "Chunk 49 RMSE (original): 0.122126\n",
      "Chunk 50 RMSE (original): 0.086616\n",
      "Chunk 51 RMSE (original): 0.119547\n",
      "Chunk 52 RMSE (original): 0.158739\n",
      "Chunk 53 RMSE (original): 0.165455\n",
      "Chunk 54 RMSE (original): 0.137938\n",
      "Chunk 55 RMSE (original): 0.109090\n",
      "Chunk 56 RMSE (original): 0.108932\n",
      "Chunk 57 RMSE (original): 0.119142\n",
      "Chunk 58 RMSE (original): 0.162469\n",
      "Chunk 59 RMSE (original): 0.107588\n",
      "Chunk 60 RMSE (original): 0.131087\n",
      "Chunk 61 RMSE (original): 0.097508\n",
      "Chunk 62 RMSE (original): 0.111049\n",
      "Chunk 63 RMSE (original): 0.151110\n",
      "Chunk 64 RMSE (original): 0.110139\n",
      "Chunk 65 RMSE (original): 0.135390\n",
      "Chunk 66 RMSE (original): 0.084556\n",
      "Chunk 67 RMSE (original): 0.111037\n",
      "Chunk 68 RMSE (original): 0.150289\n",
      "Chunk 69 RMSE (original): 0.087626\n",
      "Chunk 70 RMSE (original): 0.091963\n",
      "Chunk 71 RMSE (original): 0.060160\n",
      "Chunk 72 RMSE (original): 0.063234\n",
      "Chunk 73 RMSE (original): 0.206062\n",
      "Chunk 74 RMSE (original): 0.107639\n",
      "Chunk 75 RMSE (original): 0.123116\n",
      "Chunk 76 RMSE (original): 0.134466\n",
      "Chunk 77 RMSE (original): 0.186246\n",
      "Chunk 78 RMSE (original): 0.222180\n",
      "Chunk 79 RMSE (original): 0.084044\n",
      "Chunk 80 RMSE (original): 0.155988\n",
      "Chunk 81 RMSE (original): 0.128992\n",
      "Chunk 82 RMSE (original): 0.204515\n",
      "Chunk 83 RMSE (original): 0.062124\n",
      "Chunk 84 RMSE (original): 0.115568\n",
      "Chunk 85 RMSE (original): 0.116649\n",
      "Chunk 86 RMSE (original): 0.188875\n",
      "Chunk 87 RMSE (original): 0.100000\n",
      "Chunk 88 RMSE (original): 0.110309\n",
      "Chunk 89 RMSE (original): 0.072517\n",
      "Chunk 90 RMSE (original): 0.059953\n",
      "Chunk 91 RMSE (original): 0.096935\n",
      "Chunk 92 RMSE (original): 0.107517\n",
      "Chunk 93 RMSE (original): 0.176143\n",
      "Chunk 94 RMSE (original): 0.106929\n",
      "Chunk 95 RMSE (original): 0.078653\n",
      "Chunk 96 RMSE (original): 0.126622\n",
      "Chunk 97 RMSE (original): 0.154117\n",
      "Chunk 98 RMSE (original): 0.180945\n",
      "Chunk 99 RMSE (original): 0.074766\n",
      "Chunk 100 RMSE (original): 0.228463\n",
      "Chunk 101 RMSE (original): 0.139095\n",
      "Chunk 102 RMSE (original): 0.058606\n",
      "Chunk 103 RMSE (original): 0.140643\n",
      "Chunk 104 RMSE (original): 0.125403\n",
      "Chunk 105 RMSE (original): 0.199534\n",
      "Chunk 106 RMSE (original): 0.294904\n",
      "Chunk 107 RMSE (original): 0.252367\n",
      "Chunk 108 RMSE (original): 0.091911\n",
      "Chunk 109 RMSE (original): 0.074850\n",
      "Chunk 110 RMSE (original): 0.091992\n",
      "Chunk 111 RMSE (original): 0.069835\n",
      "Chunk 112 RMSE (original): 0.074978\n",
      "Chunk 113 RMSE (original): 0.132310\n",
      "Chunk 114 RMSE (original): 0.079066\n",
      "Chunk 115 RMSE (original): 0.116474\n",
      "Chunk 116 RMSE (original): 0.153642\n",
      "Chunk 117 RMSE (original): 0.087714\n",
      "Chunk 118 RMSE (original): 0.104452\n",
      "Chunk 119 RMSE (original): 0.095526\n",
      "Chunk 120 RMSE (original): 0.089163\n",
      "Chunk 121 RMSE (original): 0.098112\n",
      "Chunk 122 RMSE (original): 0.127911\n",
      "Chunk 123 RMSE (original): 0.121590\n",
      "Chunk 124 RMSE (original): 0.109192\n",
      "Chunk 125 RMSE (original): 0.319741\n",
      "Chunk 126 RMSE (original): 0.102824\n",
      "Chunk 127 RMSE (original): 0.088690\n",
      "Chunk 128 RMSE (original): 0.048030\n",
      "Chunk 129 RMSE (original): 0.067523\n",
      "Chunk 130 RMSE (original): 0.082490\n",
      "Chunk 131 RMSE (original): 0.101323\n",
      "Chunk 132 RMSE (original): 0.139477\n",
      "Chunk 133 RMSE (original): 0.076549\n",
      "Chunk 134 RMSE (original): 0.076292\n",
      "Chunk 135 RMSE (original): 0.071367\n",
      "Chunk 136 RMSE (original): 0.204233\n",
      "Chunk 137 RMSE (original): 0.073992\n",
      "Chunk 138 RMSE (original): 0.086239\n",
      "Chunk 139 RMSE (original): 0.269818\n",
      "Chunk 140 RMSE (original): 0.129946\n",
      "Chunk 141 RMSE (original): 0.139043\n",
      "Chunk 142 RMSE (original): 0.211200\n",
      "Chunk 143 RMSE (original): 0.144036\n",
      "Chunk 144 RMSE (original): 0.122074\n",
      "Chunk 145 RMSE (original): 0.086274\n",
      "Chunk 146 RMSE (original): 0.143716\n",
      "Chunk 147 RMSE (original): 0.168366\n",
      "Chunk 148 RMSE (original): 0.114871\n",
      "Chunk 149 RMSE (original): 0.148149\n",
      "Chunk 150 RMSE (original): 0.067127\n",
      "Chunk 151 RMSE (original): 0.069351\n",
      "Chunk 152 RMSE (original): 0.390743\n",
      "Chunk 153 RMSE (original): 0.075035\n",
      "Chunk 154 RMSE (original): 0.062153\n",
      "Chunk 155 RMSE (original): 0.160544\n",
      "Chunk 156 RMSE (original): 0.165935\n",
      "Chunk 157 RMSE (original): 0.063328\n",
      "Chunk 158 RMSE (original): 0.064758\n",
      "Chunk 159 RMSE (original): 0.064441\n",
      "Chunk 160 RMSE (original): 0.070796\n",
      "Chunk 161 RMSE (original): 0.072731\n",
      "Chunk 162 RMSE (original): 0.073437\n",
      "Chunk 163 RMSE (original): 0.090750\n",
      "Chunk 164 RMSE (original): 0.189628\n",
      "Chunk 165 RMSE (original): 0.113385\n",
      "Chunk 166 RMSE (original): 0.100444\n",
      "Chunk 167 RMSE (original): 0.078300\n",
      "Chunk 168 RMSE (original): 0.228970\n",
      "Chunk 169 RMSE (original): 0.134920\n",
      "Chunk 170 RMSE (original): 0.128396\n",
      "Chunk 171 RMSE (original): 0.162161\n",
      "Chunk 172 RMSE (original): 0.091008\n",
      "Chunk 173 RMSE (original): 0.063064\n",
      "Chunk 174 RMSE (original): 0.137794\n",
      "Chunk 175 RMSE (original): 0.114307\n",
      "Chunk 176 RMSE (original): 0.161022\n",
      "Chunk 177 RMSE (original): 0.142148\n",
      "Chunk 178 RMSE (original): 0.048603\n",
      "Chunk 179 RMSE (original): 0.091703\n",
      "Chunk 180 RMSE (original): 0.365554\n",
      "Chunk 181 RMSE (original): 0.062072\n",
      "Chunk 182 RMSE (original): 0.106957\n",
      "Chunk 183 RMSE (original): 0.081026\n",
      "Chunk 184 RMSE (original): 0.065468\n",
      "Chunk 185 RMSE (original): 0.093470\n",
      "Chunk 186 RMSE (original): 0.095109\n",
      "Chunk 187 RMSE (original): 0.094405\n",
      "Chunk 188 RMSE (original): 0.108162\n",
      "Chunk 189 RMSE (original): 0.117835\n",
      "Chunk 190 RMSE (original): 0.147579\n",
      "Chunk 191 RMSE (original): 0.103612\n",
      "Chunk 192 RMSE (original): 0.094992\n",
      "Chunk 193 RMSE (original): 0.089755\n",
      "Chunk 194 RMSE (original): 0.204971\n",
      "Chunk 195 RMSE (original): 0.160864\n",
      "Chunk 196 RMSE (original): 0.101580\n",
      "Chunk 197 RMSE (original): 0.200929\n",
      "Chunk 198 RMSE (original): 0.264700\n",
      "Chunk 199 RMSE (original): 0.120189\n",
      "Chunk 200 RMSE (original): 0.083631\n",
      "Chunk 201 RMSE (original): 0.125651\n",
      "Chunk 202 RMSE (original): 0.310136\n",
      "Chunk 203 RMSE (original): 0.162835\n",
      "Chunk 204 RMSE (original): 0.113209\n",
      "Chunk 205 RMSE (original): 0.154650\n",
      "Chunk 206 RMSE (original): 0.179651\n",
      "Chunk 207 RMSE (original): 0.074479\n",
      "Chunk 208 RMSE (original): 0.154607\n",
      "Chunk 209 RMSE (original): 0.104335\n",
      "Chunk 210 RMSE (original): 0.114327\n",
      "Chunk 211 RMSE (original): 0.069007\n",
      "Chunk 212 RMSE (original): 0.096766\n",
      "Chunk 213 RMSE (original): 0.155547\n",
      "Chunk 214 RMSE (original): 0.100086\n",
      "Chunk 215 RMSE (original): 0.107141\n",
      "Chunk 216 RMSE (original): 0.156250\n",
      "Chunk 217 RMSE (original): 0.108755\n",
      "Chunk 218 RMSE (original): 0.166587\n",
      "Chunk 219 RMSE (original): 0.306233\n",
      "Chunk 220 RMSE (original): 0.191130\n",
      "Chunk 221 RMSE (original): 0.088306\n",
      "Chunk 222 RMSE (original): 0.088864\n",
      "Chunk 223 RMSE (original): 0.082501\n",
      "Chunk 224 RMSE (original): 0.122633\n",
      "Chunk 225 RMSE (original): 0.095091\n",
      "Chunk 226 RMSE (original): 0.097929\n",
      "Chunk 227 RMSE (original): 0.123392\n",
      "Chunk 228 RMSE (original): 0.111835\n",
      "Chunk 229 RMSE (original): 0.081241\n",
      "Chunk 230 RMSE (original): 0.052417\n",
      "Chunk 231 RMSE (original): 0.085657\n",
      "Chunk 232 RMSE (original): 0.125989\n",
      "Chunk 233 RMSE (original): 0.094142\n",
      "Chunk 234 RMSE (original): 0.105114\n",
      "Chunk 235 RMSE (original): 0.263192\n",
      "Chunk 236 RMSE (original): 0.109101\n",
      "Chunk 237 RMSE (original): 0.084316\n",
      "Chunk 238 RMSE (original): 0.163871\n",
      "Chunk 239 RMSE (original): 0.127552\n",
      "Chunk 240 RMSE (original): 0.087274\n",
      "Chunk 241 RMSE (original): 0.367886\n",
      "Chunk 242 RMSE (original): 0.103087\n",
      "Chunk 243 RMSE (original): 0.115350\n",
      "Chunk 244 RMSE (original): 0.201129\n",
      "Chunk 245 RMSE (original): 0.128567\n",
      "Chunk 246 RMSE (original): 0.060115\n",
      "Chunk 247 RMSE (original): 0.127686\n",
      "Chunk 248 RMSE (original): 0.094132\n",
      "Chunk 249 RMSE (original): 0.093089\n",
      "Chunk 250 RMSE (original): 0.092236\n",
      "Chunk 251 RMSE (original): 0.074407\n",
      "Chunk 252 RMSE (original): 0.062314\n",
      "Chunk 253 RMSE (original): 0.064228\n",
      "Chunk 254 RMSE (original): 0.061703\n",
      "Chunk 255 RMSE (original): 0.209107\n",
      "Chunk 256 RMSE (original): 0.082868\n",
      "Chunk 257 RMSE (original): 0.124704\n",
      "Chunk 258 RMSE (original): 0.104542\n",
      "Chunk 259 RMSE (original): 0.143693\n",
      "Chunk 260 RMSE (original): 0.098749\n",
      "Chunk 261 RMSE (original): 0.222546\n",
      "Chunk 262 RMSE (original): 0.170803\n",
      "Chunk 263 RMSE (original): 0.133319\n",
      "Chunk 264 RMSE (original): 0.081101\n",
      "Chunk 265 RMSE (original): 0.079393\n",
      "Chunk 266 RMSE (original): 0.088400\n",
      "Chunk 267 RMSE (original): 0.094246\n",
      "Chunk 268 RMSE (original): 0.071078\n",
      "Chunk 269 RMSE (original): 0.059235\n",
      "Chunk 270 RMSE (original): 0.072821\n",
      "Chunk 271 RMSE (original): 0.120400\n",
      "Chunk 272 RMSE (original): 0.077212\n",
      "Chunk 273 RMSE (original): 0.082615\n",
      "Chunk 274 RMSE (original): 0.065107\n",
      "Chunk 275 RMSE (original): 0.109342\n",
      "Chunk 276 RMSE (original): 0.087540\n",
      "Chunk 277 RMSE (original): 0.080710\n",
      "Chunk 278 RMSE (original): 0.089566\n",
      "Chunk 279 RMSE (original): 0.129017\n",
      "Chunk 280 RMSE (original): 0.135177\n",
      "Chunk 281 RMSE (original): 0.092139\n",
      "Chunk 282 RMSE (original): 0.156268\n",
      "Chunk 283 RMSE (original): 0.110394\n",
      "Chunk 284 RMSE (original): 0.086322\n",
      "Chunk 285 RMSE (original): 0.142247\n",
      "Chunk 286 RMSE (original): 0.151717\n",
      "Chunk 287 RMSE (original): 0.122853\n",
      "Chunk 288 RMSE (original): 0.202465\n",
      "Chunk 289 RMSE (original): 0.106174\n",
      "Chunk 290 RMSE (original): 0.060420\n",
      "Chunk 291 RMSE (original): 0.309895\n",
      "Chunk 292 RMSE (original): 0.200043\n",
      "Chunk 293 RMSE (original): 0.079007\n",
      "Chunk 294 RMSE (original): 0.110861\n",
      "Chunk 295 RMSE (original): 0.110868\n",
      "Chunk 296 RMSE (original): 0.091328\n",
      "Chunk 297 RMSE (original): 0.135563\n",
      "Chunk 298 RMSE (original): 0.086481\n",
      "Chunk 299 RMSE (original): 0.133717\n",
      "Chunk 300 RMSE (original): 0.130170\n",
      "Chunk 301 RMSE (original): 0.070903\n",
      "Chunk 302 RMSE (original): 0.110942\n",
      "Chunk 303 RMSE (original): 0.122409\n",
      "Chunk 304 RMSE (original): 0.095672\n",
      "Chunk 305 RMSE (original): 0.186875\n",
      "Chunk 306 RMSE (original): 0.125769\n",
      "Chunk 307 RMSE (original): 0.139741\n",
      "Chunk 308 RMSE (original): 0.122626\n",
      "Chunk 309 RMSE (original): 0.082080\n",
      "Chunk 310 RMSE (original): 0.132441\n",
      "Chunk 311 RMSE (original): 0.154231\n",
      "Chunk 312 RMSE (original): 0.125103\n",
      "Chunk 313 RMSE (original): 0.130891\n",
      "Chunk 314 RMSE (original): 0.063322\n",
      "Chunk 315 RMSE (original): 0.210273\n",
      "Chunk 316 RMSE (original): 0.091761\n",
      "Chunk 317 RMSE (original): 0.102871\n",
      "Chunk 318 RMSE (original): 0.104042\n",
      "Chunk 319 RMSE (original): 0.090771\n",
      "Chunk 320 RMSE (original): 0.176329\n",
      "Chunk 321 RMSE (original): 0.056298\n",
      "Chunk 322 RMSE (original): 0.079282\n",
      "Chunk 323 RMSE (original): 0.089404\n",
      "Chunk 324 RMSE (original): 0.040493\n",
      "Chunk 325 RMSE (original): 0.071472\n",
      "Chunk 326 RMSE (original): 0.090208\n",
      "Chunk 327 RMSE (original): 0.090419\n",
      "Chunk 328 RMSE (original): 0.227827\n",
      "Chunk 329 RMSE (original): 0.146877\n",
      "Chunk 330 RMSE (original): 0.115513\n",
      "Chunk 331 RMSE (original): 0.251006\n",
      "Chunk 332 RMSE (original): 0.127543\n",
      "Chunk 333 RMSE (original): 0.244548\n",
      "Chunk 334 RMSE (original): 0.146004\n",
      "Chunk 335 RMSE (original): 0.152473\n",
      "Chunk 336 RMSE (original): 0.119082\n",
      "Chunk 337 RMSE (original): 0.096774\n",
      "Chunk 338 RMSE (original): 0.092168\n",
      "Chunk 339 RMSE (original): 0.134654\n",
      "Chunk 340 RMSE (original): 0.064205\n",
      "Chunk 341 RMSE (original): 0.156927\n",
      "Chunk 342 RMSE (original): 0.134750\n",
      "Chunk 343 RMSE (original): 0.080574\n",
      "Chunk 344 RMSE (original): 0.083007\n",
      "Chunk 345 RMSE (original): 0.055253\n",
      "Chunk 346 RMSE (original): 0.058501\n",
      "Chunk 347 RMSE (original): 0.227097\n",
      "Chunk 348 RMSE (original): 0.083094\n",
      "Chunk 349 RMSE (original): 0.145056\n",
      "Chunk 350 RMSE (original): 0.118584\n",
      "Chunk 351 RMSE (original): 0.141866\n",
      "Chunk 352 RMSE (original): 0.141708\n",
      "Chunk 353 RMSE (original): 0.112763\n",
      "Chunk 354 RMSE (original): 0.171349\n",
      "Chunk 355 RMSE (original): 0.222408\n",
      "Chunk 356 RMSE (original): 0.109526\n",
      "Chunk 357 RMSE (original): 0.100909\n",
      "Chunk 358 RMSE (original): 0.099294\n",
      "Chunk 359 RMSE (original): 0.128835\n",
      "Chunk 360 RMSE (original): 0.106627\n",
      "Chunk 361 RMSE (original): 0.171929\n",
      "Chunk 362 RMSE (original): 0.125384\n",
      "Chunk 363 RMSE (original): 0.115110\n",
      "Chunk 364 RMSE (original): 0.159407\n",
      "Chunk 365 RMSE (original): 0.108641\n",
      "Chunk 366 RMSE (original): 0.088812\n",
      "Chunk 367 RMSE (original): 0.209230\n",
      "Chunk 368 RMSE (original): 0.064693\n",
      "Chunk 369 RMSE (original): 0.121640\n",
      "Chunk 370 RMSE (original): 0.088625\n",
      "Chunk 371 RMSE (original): 0.188928\n",
      "Chunk 372 RMSE (original): 0.123573\n",
      "Chunk 373 RMSE (original): 0.092338\n",
      "Chunk 374 RMSE (original): 0.125461\n",
      "Chunk 375 RMSE (original): 0.157636\n",
      "Chunk 376 RMSE (original): 0.138126\n",
      "Chunk 377 RMSE (original): 0.132565\n",
      "Chunk 378 RMSE (original): 0.139890\n",
      "Chunk 379 RMSE (original): 0.191170\n",
      "Chunk 380 RMSE (original): 0.318097\n",
      "Chunk 381 RMSE (original): 0.126522\n",
      "Chunk 382 RMSE (original): 0.194837\n",
      "Chunk 383 RMSE (original): 0.203731\n",
      "Chunk 384 RMSE (original): 0.153427\n",
      "Chunk 385 RMSE (original): 0.161474\n",
      "Chunk 386 RMSE (original): 0.211771\n",
      "Chunk 387 RMSE (original): 0.109844\n",
      "Chunk 388 RMSE (original): 0.154879\n",
      "Chunk 389 RMSE (original): 0.073817\n",
      "Chunk 390 RMSE (original): 0.140775\n",
      "Chunk 391 RMSE (original): 0.110028\n",
      "Chunk 392 RMSE (original): 0.111380\n",
      "Chunk 393 RMSE (original): 0.147011\n",
      "Chunk 394 RMSE (original): 0.098318\n",
      "Chunk 395 RMSE (original): 0.161867\n",
      "Chunk 396 RMSE (original): 0.118789\n",
      "Chunk 397 RMSE (original): 0.185742\n",
      "Chunk 398 RMSE (original): 0.142319\n",
      "Chunk 399 RMSE (original): 0.166546\n",
      "Chunk 400 RMSE (original): 0.097416\n",
      "Chunk 401 RMSE (original): 0.162525\n",
      "Chunk 402 RMSE (original): 0.110724\n",
      "Chunk 403 RMSE (original): 0.106204\n",
      "Chunk 404 RMSE (original): 0.109867\n",
      "Chunk 405 RMSE (original): 0.073238\n",
      "Chunk 406 RMSE (original): 0.066526\n",
      "Chunk 407 RMSE (original): 0.068605\n",
      "Chunk 408 RMSE (original): 0.070223\n",
      "Chunk 409 RMSE (original): 0.073411\n",
      "Chunk 410 RMSE (original): 0.090795\n",
      "Chunk 411 RMSE (original): 0.070145\n",
      "Chunk 412 RMSE (original): 0.103405\n",
      "Chunk 413 RMSE (original): 0.149313\n",
      "Chunk 414 RMSE (original): 0.088600\n",
      "Chunk 415 RMSE (original): 0.109357\n",
      "Chunk 416 RMSE (original): 0.085073\n",
      "Chunk 417 RMSE (original): 0.132530\n",
      "Chunk 418 RMSE (original): 0.106583\n",
      "Chunk 419 RMSE (original): 0.125724\n",
      "Chunk 420 RMSE (original): 0.136585\n",
      "Chunk 421 RMSE (original): 0.201247\n",
      "Chunk 422 RMSE (original): 0.166982\n",
      "Chunk 423 RMSE (original): 0.121502\n",
      "Chunk 424 RMSE (original): 0.117501\n",
      "Chunk 425 RMSE (original): 0.171327\n",
      "Chunk 426 RMSE (original): 0.083453\n",
      "Chunk 427 RMSE (original): 0.109082\n",
      "Chunk 428 RMSE (original): 0.158072\n",
      "Chunk 429 RMSE (original): 0.160490\n",
      "Chunk 430 RMSE (original): 0.138273\n",
      "Chunk 431 RMSE (original): 0.232018\n",
      "Chunk 432 RMSE (original): 0.068832\n",
      "Chunk 433 RMSE (original): 0.089919\n",
      "Chunk 434 RMSE (original): 0.064960\n",
      "Chunk 435 RMSE (original): 0.096983\n",
      "Chunk 436 RMSE (original): 0.067393\n",
      "Chunk 437 RMSE (original): 0.093443\n",
      "Chunk 438 RMSE (original): 0.114948\n",
      "Chunk 439 RMSE (original): 0.211474\n",
      "Chunk 440 RMSE (original): 0.124026\n",
      "Chunk 441 RMSE (original): 0.132165\n",
      "Chunk 442 RMSE (original): 0.188626\n",
      "Chunk 443 RMSE (original): 0.125033\n",
      "Chunk 444 RMSE (original): 0.110730\n",
      "Chunk 445 RMSE (original): 0.171868\n",
      "Chunk 446 RMSE (original): 0.101095\n",
      "Chunk 447 RMSE (original): 0.106877\n",
      "Chunk 448 RMSE (original): 0.088145\n",
      "Chunk 449 RMSE (original): 0.178699\n",
      "Chunk 450 RMSE (original): 0.117963\n",
      "Chunk 451 RMSE (original): 0.087401\n",
      "Chunk 452 RMSE (original): 0.122954\n",
      "Chunk 453 RMSE (original): 0.068159\n",
      "Chunk 454 RMSE (original): 0.097664\n",
      "Chunk 455 RMSE (original): 0.109308\n",
      "Chunk 456 RMSE (original): 0.108987\n",
      "Chunk 457 RMSE (original): 0.164520\n",
      "Chunk 458 RMSE (original): 0.222512\n",
      "Chunk 459 RMSE (original): 0.181670\n",
      "Chunk 460 RMSE (original): 0.132587\n",
      "Chunk 461 RMSE (original): 0.106211\n",
      "Chunk 462 RMSE (original): 0.172992\n",
      "Chunk 463 RMSE (original): 0.178411\n",
      "Chunk 464 RMSE (original): 0.088381\n",
      "Chunk 465 RMSE (original): 0.193288\n",
      "Chunk 466 RMSE (original): 0.202996\n",
      "Chunk 467 RMSE (original): 0.128836\n",
      "Chunk 468 RMSE (original): 0.126939\n",
      "Chunk 469 RMSE (original): 0.078127\n",
      "Chunk 470 RMSE (original): 0.235958\n",
      "Chunk 471 RMSE (original): 0.127186\n",
      "Chunk 472 RMSE (original): 0.076252\n",
      "Chunk 473 RMSE (original): 0.084728\n",
      "Chunk 474 RMSE (original): 0.148190\n",
      "Chunk 475 RMSE (original): 0.081619\n",
      "Chunk 476 RMSE (original): 0.121279\n",
      "Chunk 477 RMSE (original): 0.135343\n",
      "Chunk 478 RMSE (original): 0.079606\n",
      "Chunk 479 RMSE (original): 0.096175\n",
      "Chunk 480 RMSE (original): 0.091084\n",
      "Chunk 481 RMSE (original): 0.245534\n",
      "Chunk 482 RMSE (original): 0.172337\n",
      "Chunk 483 RMSE (original): 0.215171\n",
      "Chunk 484 RMSE (original): 0.300945\n",
      "Chunk 485 RMSE (original): 0.129951\n",
      "Chunk 486 RMSE (original): 0.105771\n",
      "Chunk 487 RMSE (original): 0.107819\n",
      "Chunk 488 RMSE (original): 0.072056\n",
      "Chunk 489 RMSE (original): 0.062455\n",
      "Chunk 490 RMSE (original): 0.119055\n",
      "Chunk 491 RMSE (original): 0.055681\n",
      "Chunk 492 RMSE (original): 0.069175\n",
      "Chunk 493 RMSE (original): 0.086527\n",
      "Chunk 494 RMSE (original): 0.124763\n",
      "Chunk 495 RMSE (original): 0.095429\n",
      "Chunk 496 RMSE (original): 0.212428\n",
      "Chunk 497 RMSE (original): 0.082602\n",
      "Chunk 498 RMSE (original): 0.209204\n",
      "Chunk 499 RMSE (original): 0.183263\n",
      "Chunk 500 RMSE (original): 0.292353\n",
      "Chunk 501 RMSE (original): 0.119288\n",
      "Chunk 502 RMSE (original): 0.133589\n",
      "Chunk 503 RMSE (original): 0.119408\n",
      "Chunk 504 RMSE (original): 0.120367\n",
      "Chunk 505 RMSE (original): 0.175318\n",
      "Chunk 506 RMSE (original): 0.111895\n",
      "Chunk 507 RMSE (original): 0.209348\n",
      "Chunk 508 RMSE (original): 0.081998\n",
      "Chunk 509 RMSE (original): 0.124358\n",
      "Chunk 510 RMSE (original): 0.092331\n",
      "Chunk 511 RMSE (original): 0.230045\n",
      "Chunk 512 RMSE (original): 0.114546\n",
      "Chunk 513 RMSE (original): 0.146307\n",
      "Chunk 514 RMSE (original): 0.071705\n",
      "Chunk 515 RMSE (original): 0.078744\n",
      "Chunk 516 RMSE (original): 0.084319\n",
      "Chunk 517 RMSE (original): 0.120258\n",
      "Chunk 518 RMSE (original): 0.108288\n",
      "Chunk 519 RMSE (original): 0.146524\n",
      "Chunk 520 RMSE (original): 0.100735\n",
      "Chunk 521 RMSE (original): 0.128386\n",
      "Chunk 522 RMSE (original): 0.115466\n",
      "Chunk 523 RMSE (original): 0.129608\n",
      "Chunk 524 RMSE (original): 0.103251\n",
      "Chunk 525 RMSE (original): 0.136301\n",
      "Chunk 526 RMSE (original): 0.426813\n",
      "Chunk 527 RMSE (original): 0.104301\n",
      "Chunk 528 RMSE (original): 0.150035\n",
      "Chunk 529 RMSE (original): 0.243449\n",
      "Chunk 530 RMSE (original): 0.178101\n",
      "Chunk 531 RMSE (original): 0.178508\n",
      "Chunk 532 RMSE (original): 0.114564\n",
      "Chunk 533 RMSE (original): 0.113984\n",
      "Chunk 534 RMSE (original): 0.208433\n",
      "Chunk 535 RMSE (original): 0.226904\n",
      "Chunk 536 RMSE (original): 0.168556\n",
      "Chunk 537 RMSE (original): 0.070363\n",
      "Chunk 538 RMSE (original): 0.092739\n",
      "Chunk 539 RMSE (original): 0.183723\n",
      "Chunk 540 RMSE (original): 0.113602\n",
      "Chunk 541 RMSE (original): 0.107915\n",
      "Chunk 542 RMSE (original): 0.172200\n",
      "Chunk 543 RMSE (original): 0.102290\n",
      "Chunk 544 RMSE (original): 0.198785\n",
      "Chunk 545 RMSE (original): 0.146146\n",
      "Chunk 546 RMSE (original): 0.162270\n",
      "Chunk 547 RMSE (original): 0.101731\n",
      "Chunk 548 RMSE (original): 0.189816\n",
      "Chunk 549 RMSE (original): 0.188139\n",
      "Chunk 550 RMSE (original): 0.235140\n",
      "Chunk 551 RMSE (original): 0.070728\n",
      "Chunk 552 RMSE (original): 0.222678\n",
      "Chunk 553 RMSE (original): 0.144836\n",
      "Chunk 554 RMSE (original): 0.119097\n",
      "Chunk 555 RMSE (original): 0.093322\n",
      "Chunk 556 RMSE (original): 0.220427\n",
      "Chunk 557 RMSE (original): 0.144271\n",
      "Chunk 558 RMSE (original): 0.068754\n",
      "Chunk 559 RMSE (original): 0.120841\n",
      "Chunk 560 RMSE (original): 0.072681\n",
      "Chunk 561 RMSE (original): 0.118049\n",
      "Chunk 562 RMSE (original): 0.054394\n",
      "Chunk 563 RMSE (original): 0.204159\n",
      "Chunk 564 RMSE (original): 0.224119\n",
      "Chunk 565 RMSE (original): 0.066493\n",
      "Chunk 566 RMSE (original): 0.088670\n",
      "Chunk 567 RMSE (original): 0.047012\n",
      "Chunk 568 RMSE (original): 0.032531\n",
      "Chunk 569 RMSE (original): 0.058476\n",
      "Chunk 570 RMSE (original): 0.109870\n",
      "Chunk 571 RMSE (original): 0.068941\n",
      "Chunk 572 RMSE (original): 0.095007\n",
      "Chunk 573 RMSE (original): 0.153506\n",
      "Chunk 574 RMSE (original): 0.162930\n",
      "Chunk 575 RMSE (original): 0.117651\n",
      "Chunk 576 RMSE (original): 0.193418\n",
      "Chunk 577 RMSE (original): 0.097774\n",
      "Chunk 578 RMSE (original): 0.085985\n",
      "Chunk 579 RMSE (original): 0.086256\n",
      "Chunk 580 RMSE (original): 0.067752\n",
      "Chunk 581 RMSE (original): 0.130666\n",
      "Chunk 582 RMSE (original): 0.062517\n",
      "Chunk 583 RMSE (original): 0.052022\n",
      "Chunk 584 RMSE (original): 0.099537\n",
      "Chunk 585 RMSE (original): 0.105984\n",
      "Chunk 586 RMSE (original): 0.146259\n",
      "Chunk 587 RMSE (original): 0.103610\n",
      "Chunk 588 RMSE (original): 0.135203\n",
      "Chunk 589 RMSE (original): 0.147207\n",
      "Chunk 590 RMSE (original): 0.117237\n",
      "Chunk 591 RMSE (original): 0.136074\n",
      "Chunk 592 RMSE (original): 0.359898\n",
      "Chunk 593 RMSE (original): 0.089294\n",
      "Chunk 594 RMSE (original): 0.078270\n",
      "Chunk 595 RMSE (original): 0.118009\n",
      "Chunk 596 RMSE (original): 0.134854\n",
      "Chunk 597 RMSE (original): 0.187174\n",
      "Chunk 598 RMSE (original): 0.073541\n",
      "Chunk 599 RMSE (original): 0.313519\n",
      "Chunk 600 RMSE (original): 0.079563\n",
      "Chunk 601 RMSE (original): 0.084070\n",
      "Chunk 602 RMSE (original): 0.048592\n",
      "Chunk 603 RMSE (original): 0.058734\n",
      "Chunk 604 RMSE (original): 0.119273\n",
      "Chunk 605 RMSE (original): 0.089492\n",
      "Chunk 606 RMSE (original): 0.117783\n",
      "Chunk 607 RMSE (original): 0.257393\n",
      "Chunk 608 RMSE (original): 0.245420\n",
      "Chunk 609 RMSE (original): 0.259269\n",
      "Chunk 610 RMSE (original): 0.084013\n",
      "Chunk 611 RMSE (original): 0.106825\n",
      "Chunk 612 RMSE (original): 0.103628\n",
      "Chunk 613 RMSE (original): 0.086899\n",
      "Chunk 614 RMSE (original): 0.104244\n",
      "Chunk 615 RMSE (original): 0.126941\n",
      "Chunk 616 RMSE (original): 0.080592\n",
      "Chunk 617 RMSE (original): 0.187508\n",
      "Chunk 618 RMSE (original): 0.069183\n",
      "Chunk 619 RMSE (original): 0.080992\n",
      "Chunk 620 RMSE (original): 0.150966\n",
      "Chunk 621 RMSE (original): 0.123993\n",
      "Chunk 622 RMSE (original): 0.247153\n",
      "Chunk 623 RMSE (original): 0.118805\n",
      "Chunk 624 RMSE (original): 0.078072\n",
      "Chunk 625 RMSE (original): 0.133546\n",
      "Chunk 626 RMSE (original): 0.075539\n",
      "Chunk 627 RMSE (original): 0.088251\n",
      "Chunk 628 RMSE (original): 0.093273\n",
      "Chunk 629 RMSE (original): 0.074310\n",
      "Chunk 630 RMSE (original): 0.104062\n",
      "Chunk 631 RMSE (original): 0.122449\n",
      "Chunk 632 RMSE (original): 0.098059\n",
      "Chunk 633 RMSE (original): 0.127114\n",
      "Chunk 634 RMSE (original): 0.239983\n",
      "Chunk 635 RMSE (original): 0.086260\n",
      "Chunk 636 RMSE (original): 0.146293\n",
      "Chunk 637 RMSE (original): 0.127897\n",
      "Chunk 638 RMSE (original): 0.048076\n",
      "Chunk 639 RMSE (original): 0.253580\n",
      "Chunk 640 RMSE (original): 0.118580\n",
      "Chunk 641 RMSE (original): 0.125386\n",
      "Chunk 642 RMSE (original): 0.232740\n",
      "Chunk 643 RMSE (original): 0.115939\n",
      "Chunk 644 RMSE (original): 0.064500\n",
      "Chunk 645 RMSE (original): 0.207483\n",
      "Chunk 646 RMSE (original): 0.137049\n",
      "Chunk 647 RMSE (original): 0.075491\n",
      "Chunk 648 RMSE (original): 0.134723\n",
      "Chunk 649 RMSE (original): 0.110875\n",
      "Chunk 650 RMSE (original): 0.084424\n",
      "Chunk 651 RMSE (original): 0.161189\n",
      "Chunk 652 RMSE (original): 0.097523\n",
      "Chunk 653 RMSE (original): 0.084100\n",
      "Chunk 654 RMSE (original): 0.122919\n",
      "Chunk 655 RMSE (original): 0.130731\n",
      "Chunk 656 RMSE (original): 0.121090\n",
      "Chunk 657 RMSE (original): 0.081713\n",
      "Chunk 658 RMSE (original): 0.157100\n",
      "Chunk 659 RMSE (original): 0.105480\n",
      "Chunk 660 RMSE (original): 0.193651\n",
      "Chunk 661 RMSE (original): 0.235381\n",
      "Chunk 662 RMSE (original): 0.203409\n",
      "Chunk 663 RMSE (original): 0.106023\n",
      "Chunk 664 RMSE (original): 0.155646\n",
      "Chunk 665 RMSE (original): 0.159123\n",
      "Chunk 666 RMSE (original): 0.261407\n",
      "Chunk 667 RMSE (original): 0.090736\n",
      "Chunk 668 RMSE (original): 0.163226\n",
      "Chunk 669 RMSE (original): 0.102728\n",
      "Chunk 670 RMSE (original): 0.116242\n",
      "Chunk 671 RMSE (original): 0.091308\n",
      "Chunk 672 RMSE (original): 0.104559\n",
      "Chunk 673 RMSE (original): 0.161932\n",
      "Chunk 674 RMSE (original): 0.096570\n",
      "Chunk 675 RMSE (original): 0.120471\n",
      "Chunk 676 RMSE (original): 0.109919\n",
      "Chunk 677 RMSE (original): 0.139331\n",
      "Chunk 678 RMSE (original): 0.118316\n",
      "Chunk 679 RMSE (original): 0.282189\n",
      "Chunk 680 RMSE (original): 0.107497\n",
      "Chunk 681 RMSE (original): 0.151322\n",
      "Chunk 682 RMSE (original): 0.113266\n",
      "Chunk 683 RMSE (original): 0.129747\n",
      "Chunk 684 RMSE (original): 0.129776\n",
      "Chunk 685 RMSE (original): 0.154033\n",
      "Chunk 686 RMSE (original): 0.161175\n",
      "Chunk 687 RMSE (original): 0.262508\n",
      "Chunk 688 RMSE (original): 0.189289\n",
      "Chunk 689 RMSE (original): 0.175561\n",
      "Chunk 690 RMSE (original): 0.232974\n",
      "Chunk 691 RMSE (original): 0.114145\n",
      "Chunk 692 RMSE (original): 0.131243\n",
      "Chunk 693 RMSE (original): 0.161542\n",
      "Chunk 694 RMSE (original): 0.115036\n",
      "Chunk 695 RMSE (original): 0.161014\n",
      "Chunk 696 RMSE (original): 0.095439\n",
      "Chunk 697 RMSE (original): 0.121578\n",
      "Chunk 698 RMSE (original): 0.137371\n",
      "Chunk 699 RMSE (original): 0.094035\n",
      "Chunk 700 RMSE (original): 0.092732\n",
      "Chunk 701 RMSE (original): 0.133223\n",
      "Chunk 702 RMSE (original): 0.233754\n",
      "Chunk 703 RMSE (original): 0.085516\n",
      "Chunk 704 RMSE (original): 0.185371\n",
      "Chunk 705 RMSE (original): 0.092420\n",
      "Chunk 706 RMSE (original): 0.088554\n",
      "Chunk 707 RMSE (original): 0.125178\n",
      "Chunk 708 RMSE (original): 0.103868\n",
      "Chunk 709 RMSE (original): 0.361846\n",
      "Chunk 710 RMSE (original): 0.083951\n",
      "Chunk 711 RMSE (original): 0.083281\n",
      "Chunk 712 RMSE (original): 0.107000\n",
      "Chunk 713 RMSE (original): 0.085408\n",
      "Chunk 714 RMSE (original): 0.103104\n",
      "Chunk 715 RMSE (original): 0.202748\n",
      "Chunk 716 RMSE (original): 0.134881\n",
      "Chunk 717 RMSE (original): 0.116358\n",
      "Chunk 718 RMSE (original): 0.076214\n",
      "Chunk 719 RMSE (original): 0.078478\n",
      "Chunk 720 RMSE (original): 0.102613\n",
      "Chunk 721 RMSE (original): 0.092756\n",
      "Chunk 722 RMSE (original): 0.122780\n",
      "Chunk 723 RMSE (original): 0.089488\n",
      "Chunk 724 RMSE (original): 0.103827\n",
      "Chunk 725 RMSE (original): 0.099345\n",
      "Chunk 726 RMSE (original): 0.113753\n",
      "Chunk 727 RMSE (original): 0.123050\n",
      "Chunk 728 RMSE (original): 0.182997\n",
      "Chunk 729 RMSE (original): 0.122499\n",
      "Chunk 730 RMSE (original): 0.113140\n",
      "Chunk 731 RMSE (original): 0.138909\n",
      "Chunk 732 RMSE (original): 0.183929\n",
      "Chunk 733 RMSE (original): 0.111326\n",
      "Chunk 734 RMSE (original): 0.138559\n",
      "Chunk 735 RMSE (original): 0.134391\n",
      "Chunk 736 RMSE (original): 0.088758\n",
      "Chunk 737 RMSE (original): 0.141716\n",
      "Chunk 738 RMSE (original): 0.082659\n",
      "Chunk 739 RMSE (original): 0.088780\n",
      "Chunk 740 RMSE (original): 0.091249\n",
      "Chunk 741 RMSE (original): 0.080877\n",
      "Chunk 742 RMSE (original): 0.091046\n",
      "Chunk 743 RMSE (original): 0.104211\n",
      "Chunk 744 RMSE (original): 0.109791\n",
      "Chunk 745 RMSE (original): 0.081777\n",
      "Chunk 746 RMSE (original): 0.075559\n",
      "Chunk 747 RMSE (original): 0.087712\n",
      "Chunk 748 RMSE (original): 0.119530\n",
      "Chunk 749 RMSE (original): 0.159921\n",
      "Chunk 750 RMSE (original): 0.096887\n",
      "Chunk 751 RMSE (original): 0.097615\n",
      "Chunk 752 RMSE (original): 0.162842\n",
      "Chunk 753 RMSE (original): 0.099619\n",
      "Chunk 754 RMSE (original): 0.258603\n",
      "Chunk 755 RMSE (original): 0.103060\n",
      "Chunk 756 RMSE (original): 0.107672\n",
      "Chunk 757 RMSE (original): 0.085192\n",
      "Chunk 758 RMSE (original): 0.093975\n",
      "Chunk 759 RMSE (original): 0.359975\n",
      "Chunk 760 RMSE (original): 0.143729\n",
      "Chunk 761 RMSE (original): 0.069995\n",
      "Chunk 762 RMSE (original): 0.068098\n",
      "Chunk 763 RMSE (original): 0.144191\n",
      "Chunk 764 RMSE (original): 0.076254\n",
      "Chunk 765 RMSE (original): 0.117626\n",
      "Chunk 766 RMSE (original): 0.106282\n",
      "Chunk 767 RMSE (original): 0.120135\n",
      "Chunk 768 RMSE (original): 0.127786\n",
      "Chunk 769 RMSE (original): 0.152574\n",
      "Chunk 770 RMSE (original): 0.109388\n",
      "Chunk 771 RMSE (original): 0.198273\n",
      "Chunk 772 RMSE (original): 0.153107\n",
      "Chunk 773 RMSE (original): 0.097765\n",
      "Chunk 774 RMSE (original): 0.124418\n",
      "Chunk 775 RMSE (original): 0.080674\n",
      "Chunk 776 RMSE (original): 0.084470\n",
      "Chunk 777 RMSE (original): 0.142792\n",
      "Chunk 778 RMSE (original): 0.094917\n",
      "Chunk 779 RMSE (original): 0.089908\n",
      "Chunk 780 RMSE (original): 0.103559\n",
      "Chunk 781 RMSE (original): 0.205998\n",
      "Chunk 782 RMSE (original): 0.055657\n",
      "Chunk 783 RMSE (original): 0.048724\n",
      "Chunk 784 RMSE (original): 0.062280\n",
      "Chunk 785 RMSE (original): 0.073799\n",
      "Chunk 786 RMSE (original): 0.039460\n",
      "Chunk 787 RMSE (original): 0.041638\n",
      "Chunk 788 RMSE (original): 0.056941\n",
      "Chunk 789 RMSE (original): 0.244817\n",
      "Chunk 790 RMSE (original): 0.120685\n",
      "Chunk 791 RMSE (original): 0.250289\n",
      "Chunk 792 RMSE (original): 0.108324\n",
      "Chunk 793 RMSE (original): 0.081479\n",
      "Chunk 794 RMSE (original): 0.108992\n",
      "Chunk 795 RMSE (original): 0.216751\n",
      "Chunk 796 RMSE (original): 0.105186\n",
      "Chunk 797 RMSE (original): 0.126584\n",
      "Chunk 798 RMSE (original): 0.122407\n",
      "Chunk 799 RMSE (original): 0.085042\n",
      "Chunk 800 RMSE (original): 0.050673\n",
      "Chunk 801 RMSE (original): 0.060937\n",
      "Chunk 802 RMSE (original): 0.106574\n",
      "Chunk 803 RMSE (original): 0.065096\n",
      "Chunk 804 RMSE (original): 0.041393\n",
      "Chunk 805 RMSE (original): 0.062942\n",
      "Chunk 806 RMSE (original): 0.074585\n",
      "Chunk 807 RMSE (original): 0.076514\n",
      "Chunk 808 RMSE (original): 0.072055\n",
      "Chunk 809 RMSE (original): 0.084001\n",
      "Chunk 810 RMSE (original): 0.081884\n",
      "Chunk 811 RMSE (original): 0.118597\n",
      "Chunk 812 RMSE (original): 0.128269\n",
      "Chunk 813 RMSE (original): 0.237667\n",
      "Chunk 814 RMSE (original): 0.097542\n",
      "Chunk 815 RMSE (original): 0.123240\n",
      "Chunk 816 RMSE (original): 0.102377\n",
      "Chunk 817 RMSE (original): 0.157343\n",
      "Chunk 818 RMSE (original): 0.112069\n",
      "Chunk 819 RMSE (original): 0.084747\n",
      "Chunk 820 RMSE (original): 0.196191\n",
      "Chunk 821 RMSE (original): 0.086297\n",
      "Chunk 822 RMSE (original): 0.101039\n",
      "Chunk 823 RMSE (original): 0.084912\n",
      "Chunk 824 RMSE (original): 0.098364\n",
      "Chunk 825 RMSE (original): 0.167170\n",
      "Chunk 826 RMSE (original): 0.072205\n",
      "Chunk 827 RMSE (original): 0.143308\n",
      "Chunk 828 RMSE (original): 0.131682\n",
      "Chunk 829 RMSE (original): 0.316330\n",
      "Chunk 830 RMSE (original): 0.081472\n",
      "Chunk 831 RMSE (original): 0.167473\n",
      "Chunk 832 RMSE (original): 0.117321\n",
      "Chunk 833 RMSE (original): 0.150874\n",
      "Chunk 834 RMSE (original): 0.133087\n",
      "Chunk 835 RMSE (original): 0.102959\n",
      "Chunk 836 RMSE (original): 0.139737\n",
      "Chunk 837 RMSE (original): 0.142700\n",
      "Chunk 838 RMSE (original): 0.243110\n",
      "Chunk 839 RMSE (original): 0.156018\n",
      "Chunk 840 RMSE (original): 0.149280\n",
      "Chunk 841 RMSE (original): 0.183723\n",
      "Chunk 842 RMSE (original): 0.087733\n",
      "Chunk 843 RMSE (original): 0.258468\n",
      "Chunk 844 RMSE (original): 0.171173\n",
      "Chunk 845 RMSE (original): 0.124902\n",
      "Chunk 846 RMSE (original): 0.083718\n",
      "Chunk 847 RMSE (original): 0.113656\n",
      "Chunk 848 RMSE (original): 0.163765\n",
      "Chunk 849 RMSE (original): 0.093636\n",
      "Chunk 850 RMSE (original): 0.134523\n",
      "Chunk 851 RMSE (original): 0.154831\n",
      "Chunk 852 RMSE (original): 0.181302\n",
      "Chunk 853 RMSE (original): 0.077565\n",
      "Chunk 854 RMSE (original): 0.117775\n",
      "Chunk 855 RMSE (original): 0.262150\n",
      "Chunk 856 RMSE (original): 0.173148\n",
      "Chunk 857 RMSE (original): 0.121270\n",
      "Chunk 858 RMSE (original): 0.325994\n",
      "Chunk 859 RMSE (original): 0.167069\n",
      "Chunk 860 RMSE (original): 0.155124\n",
      "Chunk 861 RMSE (original): 0.137826\n",
      "Chunk 862 RMSE (original): 0.113380\n",
      "Chunk 863 RMSE (original): 0.303048\n",
      "Chunk 864 RMSE (original): 0.112031\n",
      "Chunk 865 RMSE (original): 0.104780\n",
      "Chunk 866 RMSE (original): 0.124546\n",
      "Chunk 867 RMSE (original): 0.136701\n",
      "Chunk 868 RMSE (original): 0.134931\n",
      "Chunk 869 RMSE (original): 0.072175\n",
      "Chunk 870 RMSE (original): 0.074167\n",
      "Chunk 871 RMSE (original): 0.137892\n",
      "Chunk 872 RMSE (original): 0.083551\n",
      "Chunk 873 RMSE (original): 0.078538\n",
      "Chunk 874 RMSE (original): 0.093783\n",
      "Chunk 875 RMSE (original): 0.155893\n",
      "Chunk 876 RMSE (original): 0.136500\n",
      "Chunk 877 RMSE (original): 0.403298\n",
      "Chunk 878 RMSE (original): 0.107908\n",
      "Chunk 879 RMSE (original): 0.223158\n",
      "Chunk 880 RMSE (original): 0.115936\n",
      "Chunk 881 RMSE (original): 0.106811\n",
      "Chunk 882 RMSE (original): 0.108310\n",
      "Chunk 883 RMSE (original): 0.153212\n",
      "Chunk 884 RMSE (original): 0.404793\n",
      "Chunk 885 RMSE (original): 0.119990\n",
      "Chunk 886 RMSE (original): 0.135669\n",
      "Chunk 887 RMSE (original): 0.164193\n",
      "Chunk 888 RMSE (original): 0.101407\n",
      "Chunk 889 RMSE (original): 0.143785\n",
      "Chunk 890 RMSE (original): 0.102706\n",
      "Chunk 891 RMSE (original): 0.113429\n",
      "Chunk 892 RMSE (original): 0.129676\n",
      "Chunk 893 RMSE (original): 0.125366\n",
      "Chunk 894 RMSE (original): 0.118519\n",
      "Chunk 895 RMSE (original): 0.133960\n",
      "Chunk 896 RMSE (original): 0.063033\n",
      "Chunk 897 RMSE (original): 0.127145\n",
      "Chunk 898 RMSE (original): 0.172986\n",
      "Chunk 899 RMSE (original): 0.134801\n",
      "Chunk 900 RMSE (original): 0.034893\n",
      "Chunk 901 RMSE (original): 0.084339\n",
      "Chunk 902 RMSE (original): 0.176508\n",
      "Chunk 903 RMSE (original): 0.056850\n",
      "Chunk 904 RMSE (original): 0.247070\n",
      "Chunk 905 RMSE (original): 0.137334\n",
      "Chunk 906 RMSE (original): 0.191660\n",
      "Chunk 907 RMSE (original): 0.087070\n",
      "Chunk 908 RMSE (original): 0.189100\n",
      "Chunk 909 RMSE (original): 0.111839\n",
      "Chunk 910 RMSE (original): 0.130550\n",
      "Chunk 911 RMSE (original): 0.169890\n",
      "Chunk 912 RMSE (original): 0.132650\n",
      "Chunk 913 RMSE (original): 0.190000\n",
      "Chunk 914 RMSE (original): 0.082660\n",
      "Chunk 915 RMSE (original): 0.098147\n",
      "Chunk 916 RMSE (original): 0.118954\n",
      "Chunk 917 RMSE (original): 0.042505\n",
      "Chunk 918 RMSE (original): 0.042778\n",
      "Chunk 919 RMSE (original): 0.111228\n",
      "Chunk 920 RMSE (original): 0.087927\n",
      "Chunk 921 RMSE (original): 0.172081\n",
      "Chunk 922 RMSE (original): 0.048817\n",
      "Chunk 923 RMSE (original): 0.040651\n",
      "Chunk 924 RMSE (original): 0.073062\n",
      "Chunk 925 RMSE (original): 0.047103\n",
      "Chunk 926 RMSE (original): 0.049797\n",
      "Chunk 927 RMSE (original): 0.070900\n",
      "Chunk 928 RMSE (original): 0.101551\n",
      "Chunk 929 RMSE (original): 0.083152\n",
      "Chunk 930 RMSE (original): 0.129285\n",
      "Chunk 931 RMSE (original): 0.062672\n",
      "Chunk 932 RMSE (original): 0.106170\n",
      "Chunk 933 RMSE (original): 0.140625\n",
      "Chunk 934 RMSE (original): 0.086860\n",
      "Chunk 935 RMSE (original): 0.100968\n",
      "Chunk 936 RMSE (original): 0.221206\n",
      "Chunk 937 RMSE (original): 0.197030\n",
      "Chunk 938 RMSE (original): 0.147020\n",
      "Chunk 939 RMSE (original): 0.064659\n",
      "Chunk 940 RMSE (original): 0.118477\n",
      "Chunk 941 RMSE (original): 0.090922\n",
      "Chunk 942 RMSE (original): 0.292429\n",
      "Chunk 943 RMSE (original): 0.179113\n",
      "Chunk 944 RMSE (original): 0.357721\n",
      "Chunk 945 RMSE (original): 0.117322\n",
      "Chunk 946 RMSE (original): 0.149299\n",
      "Chunk 947 RMSE (original): 0.221498\n",
      "Chunk 948 RMSE (original): 0.086867\n",
      "Chunk 949 RMSE (original): 0.131219\n",
      "Chunk 950 RMSE (original): 0.178971\n",
      "Chunk 951 RMSE (original): 0.083678\n",
      "Chunk 952 RMSE (original): 0.105915\n",
      "Chunk 953 RMSE (original): 0.069140\n",
      "Chunk 954 RMSE (original): 0.283920\n",
      "Chunk 955 RMSE (original): 0.099159\n",
      "Chunk 956 RMSE (original): 0.122954\n",
      "Chunk 957 RMSE (original): 0.153117\n",
      "Chunk 958 RMSE (original): 0.111571\n",
      "Chunk 959 RMSE (original): 0.077575\n",
      "Chunk 960 RMSE (original): 0.073514\n",
      "Chunk 961 RMSE (original): 0.121722\n",
      "Chunk 962 RMSE (original): 0.089614\n",
      "Chunk 963 RMSE (original): 0.081093\n",
      "Chunk 964 RMSE (original): 0.085535\n",
      "Chunk 965 RMSE (original): 0.117982\n",
      "Chunk 966 RMSE (original): 0.110703\n",
      "Chunk 967 RMSE (original): 0.197951\n",
      "Chunk 968 RMSE (original): 0.196531\n",
      "Chunk 969 RMSE (original): 0.210176\n",
      "Chunk 970 RMSE (original): 0.077431\n",
      "Chunk 971 RMSE (original): 0.123596\n",
      "Chunk 972 RMSE (original): 0.096131\n",
      "Chunk 973 RMSE (original): 0.110657\n",
      "Chunk 974 RMSE (original): 0.116612\n",
      "Chunk 975 RMSE (original): 0.094797\n",
      "Chunk 976 RMSE (original): 0.131541\n",
      "Chunk 977 RMSE (original): 0.104881\n",
      "Chunk 978 RMSE (original): 0.091851\n",
      "Chunk 979 RMSE (original): 0.213403\n",
      "Chunk 980 RMSE (original): 0.098684\n",
      "Chunk 981 RMSE (original): 0.141633\n",
      "Chunk 982 RMSE (original): 0.065985\n",
      "Chunk 983 RMSE (original): 0.063518\n",
      "Chunk 984 RMSE (original): 0.137731\n",
      "Chunk 985 RMSE (original): 0.150797\n",
      "Chunk 986 RMSE (original): 0.090402\n",
      "Chunk 987 RMSE (original): 0.080536\n",
      "Chunk 988 RMSE (original): 0.100005\n",
      "Chunk 989 RMSE (original): 0.104508\n",
      "Chunk 990 RMSE (original): 0.099118\n",
      "Chunk 991 RMSE (original): 0.123513\n",
      "Chunk 992 RMSE (original): 0.243745\n",
      "Chunk 993 RMSE (original): 0.112934\n",
      "Chunk 994 RMSE (original): 0.210568\n",
      "Chunk 995 RMSE (original): 0.157635\n",
      "Chunk 996 RMSE (original): 0.405982\n",
      "Chunk 997 RMSE (original): 0.181944\n",
      "Chunk 998 RMSE (original): 0.147556\n",
      "Chunk 999 RMSE (original): 0.132852\n",
      "Chunk 1000 RMSE (original): 0.138005\n",
      "Chunk 1001 RMSE (original): 0.245825\n",
      "Chunk 1002 RMSE (original): 0.129830\n",
      "Chunk 1003 RMSE (original): 0.122987\n",
      "Chunk 1004 RMSE (original): 0.084603\n",
      "Chunk 1005 RMSE (original): 0.118911\n",
      "Chunk 1006 RMSE (original): 0.137106\n",
      "Chunk 1007 RMSE (original): 0.093295\n",
      "Chunk 1008 RMSE (original): 0.143903\n",
      "Chunk 1009 RMSE (original): 0.127940\n",
      "Chunk 1010 RMSE (original): 0.261759\n",
      "Chunk 1011 RMSE (original): 0.174204\n",
      "Chunk 1012 RMSE (original): 0.176291\n",
      "Chunk 1013 RMSE (original): 0.141921\n",
      "Chunk 1014 RMSE (original): 0.251690\n",
      "Chunk 1015 RMSE (original): 0.146950\n",
      "Chunk 1016 RMSE (original): 0.164422\n",
      "Chunk 1017 RMSE (original): 0.127403\n",
      "Chunk 1018 RMSE (original): 0.109636\n",
      "Chunk 1019 RMSE (original): 0.137063\n",
      "Chunk 1020 RMSE (original): 0.216999\n",
      "Chunk 1021 RMSE (original): 0.206157\n",
      "Chunk 1022 RMSE (original): 0.101707\n",
      "Chunk 1023 RMSE (original): 0.092259\n",
      "Chunk 1024 RMSE (original): 0.074244\n",
      "Chunk 1025 RMSE (original): 0.063506\n",
      "Chunk 1026 RMSE (original): 0.066846\n",
      "Chunk 1027 RMSE (original): 0.189798\n",
      "Chunk 1028 RMSE (original): 0.098836\n",
      "Chunk 1029 RMSE (original): 0.058537\n",
      "Chunk 1030 RMSE (original): 0.073341\n",
      "Chunk 1031 RMSE (original): 0.083029\n",
      "Chunk 1032 RMSE (original): 0.147623\n",
      "Chunk 1033 RMSE (original): 0.168110\n",
      "Chunk 1034 RMSE (original): 0.092975\n",
      "Chunk 1035 RMSE (original): 0.133657\n",
      "Chunk 1036 RMSE (original): 0.126924\n",
      "Chunk 1037 RMSE (original): 0.082257\n",
      "Chunk 1038 RMSE (original): 0.123315\n",
      "Chunk 1039 RMSE (original): 0.104597\n",
      "Chunk 1040 RMSE (original): 0.098430\n",
      "Chunk 1041 RMSE (original): 0.184289\n",
      "Chunk 1042 RMSE (original): 0.102238\n",
      "Chunk 1043 RMSE (original): 0.112410\n",
      "Chunk 1044 RMSE (original): 0.300760\n",
      "Chunk 1045 RMSE (original): 0.086751\n",
      "Chunk 1046 RMSE (original): 0.102931\n",
      "Chunk 1047 RMSE (original): 0.180802\n",
      "Chunk 1048 RMSE (original): 0.230629\n",
      "Chunk 1049 RMSE (original): 0.256628\n",
      "Chunk 1050 RMSE (original): 0.090884\n",
      "Chunk 1051 RMSE (original): 0.112497\n",
      "Chunk 1052 RMSE (original): 0.133566\n",
      "Chunk 1053 RMSE (original): 0.125176\n",
      "Chunk 1054 RMSE (original): 0.179386\n",
      "Chunk 1055 RMSE (original): 0.068743\n",
      "Chunk 1056 RMSE (original): 0.067596\n",
      "Chunk 1057 RMSE (original): 0.217770\n",
      "Chunk 1058 RMSE (original): 0.112080\n",
      "Chunk 1059 RMSE (original): 0.116049\n",
      "Chunk 1060 RMSE (original): 0.183983\n",
      "Chunk 1061 RMSE (original): 0.115540\n",
      "Chunk 1062 RMSE (original): 0.258806\n",
      "Chunk 1063 RMSE (original): 0.140422\n",
      "Chunk 1064 RMSE (original): 0.119727\n",
      "Chunk 1065 RMSE (original): 0.086701\n",
      "Chunk 1066 RMSE (original): 0.154359\n",
      "Chunk 1067 RMSE (original): 0.161408\n",
      "Chunk 1068 RMSE (original): 0.197169\n",
      "Chunk 1069 RMSE (original): 0.153132\n",
      "Chunk 1070 RMSE (original): 0.094526\n",
      "Chunk 1071 RMSE (original): 0.567153\n",
      "Chunk 1072 RMSE (original): 0.185920\n",
      "Chunk 1073 RMSE (original): 0.118467\n",
      "Chunk 1074 RMSE (original): 0.260115\n",
      "Chunk 1075 RMSE (original): 0.297060\n",
      "Chunk 1076 RMSE (original): 0.118331\n",
      "Chunk 1077 RMSE (original): 0.100005\n",
      "Chunk 1078 RMSE (original): 0.148848\n",
      "Chunk 1079 RMSE (original): 0.072832\n",
      "Chunk 1080 RMSE (original): 0.079442\n",
      "Chunk 1081 RMSE (original): 0.091825\n",
      "Chunk 1082 RMSE (original): 0.154293\n",
      "Chunk 1083 RMSE (original): 0.146036\n",
      "Chunk 1084 RMSE (original): 0.180379\n",
      "Chunk 1085 RMSE (original): 0.107513\n",
      "Chunk 1086 RMSE (original): 0.104423\n",
      "Chunk 1087 RMSE (original): 0.204610\n",
      "Chunk 1088 RMSE (original): 0.116215\n",
      "Chunk 1089 RMSE (original): 0.101464\n",
      "Chunk 1090 RMSE (original): 0.177692\n",
      "Chunk 1091 RMSE (original): 0.287841\n",
      "Chunk 1092 RMSE (original): 0.178618\n",
      "Chunk 1093 RMSE (original): 0.306375\n",
      "Chunk 1094 RMSE (original): 0.110887\n",
      "Chunk 1095 RMSE (original): 0.145916\n",
      "Chunk 1096 RMSE (original): 0.134923\n",
      "Chunk 1097 RMSE (original): 0.147181\n",
      "Chunk 1098 RMSE (original): 0.107406\n",
      "Chunk 1099 RMSE (original): 0.144778\n",
      "Chunk 1100 RMSE (original): 0.093655\n",
      "Chunk 1101 RMSE (original): 0.086669\n",
      "Chunk 1102 RMSE (original): 0.205075\n",
      "Chunk 1103 RMSE (original): 0.210529\n",
      "Chunk 1104 RMSE (original): 0.114493\n",
      "Chunk 1105 RMSE (original): 0.127053\n",
      "Chunk 1106 RMSE (original): 0.232941\n",
      "Chunk 1107 RMSE (original): 0.190848\n",
      "Chunk 1108 RMSE (original): 0.139952\n",
      "Chunk 1109 RMSE (original): 0.193780\n",
      "Chunk 1110 RMSE (original): 0.151138\n",
      "Chunk 1111 RMSE (original): 0.132473\n",
      "Chunk 1112 RMSE (original): 0.215345\n",
      "Chunk 1113 RMSE (original): 0.106099\n",
      "Chunk 1114 RMSE (original): 0.167712\n",
      "Chunk 1115 RMSE (original): 0.147192\n",
      "Chunk 1116 RMSE (original): 0.104709\n",
      "Chunk 1117 RMSE (original): 0.135659\n",
      "Chunk 1118 RMSE (original): 0.122285\n",
      "Chunk 1119 RMSE (original): 0.202277\n",
      "Chunk 1120 RMSE (original): 0.168448\n",
      "Chunk 1121 RMSE (original): 0.156800\n",
      "Chunk 1122 RMSE (original): 0.142759\n",
      "Chunk 1123 RMSE (original): 0.135745\n",
      "Chunk 1124 RMSE (original): 0.113391\n",
      "Chunk 1125 RMSE (original): 0.101696\n",
      "Chunk 1126 RMSE (original): 0.183538\n",
      "Chunk 1127 RMSE (original): 0.123928\n",
      "Chunk 1128 RMSE (original): 0.135115\n",
      "Chunk 1129 RMSE (original): 0.113412\n",
      "Chunk 1130 RMSE (original): 0.111995\n",
      "Chunk 1131 RMSE (original): 0.143910\n",
      "Chunk 1132 RMSE (original): 0.264994\n",
      "Chunk 1133 RMSE (original): 0.106787\n",
      "Chunk 1134 RMSE (original): 0.133066\n",
      "Chunk 1135 RMSE (original): 0.145278\n",
      "Chunk 1136 RMSE (original): 0.134096\n",
      "Chunk 1137 RMSE (original): 0.079626\n",
      "Chunk 1138 RMSE (original): 0.058275\n",
      "Chunk 1139 RMSE (original): 0.117358\n",
      "Chunk 1140 RMSE (original): 0.087312\n",
      "Chunk 1141 RMSE (original): 0.086717\n",
      "Chunk 1142 RMSE (original): 0.079033\n",
      "Chunk 1143 RMSE (original): 0.110325\n",
      "Chunk 1144 RMSE (original): 0.089785\n",
      "Chunk 1145 RMSE (original): 0.088717\n",
      "Chunk 1146 RMSE (original): 0.136705\n",
      "Chunk 1147 RMSE (original): 0.171550\n",
      "Chunk 1148 RMSE (original): 0.198882\n",
      "Chunk 1149 RMSE (original): 0.208755\n",
      "Chunk 1150 RMSE (original): 0.141112\n",
      "Chunk 1151 RMSE (original): 0.173804\n",
      "Chunk 1152 RMSE (original): 0.107315\n",
      "Chunk 1153 RMSE (original): 0.109438\n",
      "Chunk 1154 RMSE (original): 0.112383\n",
      "Chunk 1155 RMSE (original): 0.096538\n",
      "Chunk 1156 RMSE (original): 0.195128\n",
      "Chunk 1157 RMSE (original): 0.131009\n",
      "Chunk 1158 RMSE (original): 0.142155\n",
      "Chunk 1159 RMSE (original): 0.235248\n",
      "Chunk 1160 RMSE (original): 0.092825\n",
      "Chunk 1161 RMSE (original): 0.138580\n",
      "Chunk 1162 RMSE (original): 0.083832\n",
      "Chunk 1163 RMSE (original): 0.050708\n",
      "Chunk 1164 RMSE (original): 0.042795\n",
      "Chunk 1165 RMSE (original): 0.086681\n",
      "Chunk 1166 RMSE (original): 0.177587\n",
      "Chunk 1167 RMSE (original): 0.123957\n",
      "Chunk 1168 RMSE (original): 0.093782\n",
      "Chunk 1169 RMSE (original): 0.099426\n",
      "Chunk 1170 RMSE (original): 0.145719\n",
      "Chunk 1171 RMSE (original): 0.108093\n",
      "Chunk 1172 RMSE (original): 0.185935\n",
      "Chunk 1173 RMSE (original): 0.145103\n",
      "Chunk 1174 RMSE (original): 0.101352\n",
      "Chunk 1175 RMSE (original): 0.238242\n",
      "Chunk 1176 RMSE (original): 0.135811\n",
      "Chunk 1177 RMSE (original): 0.111944\n",
      "Chunk 1178 RMSE (original): 0.418258\n",
      "Chunk 1179 RMSE (original): 0.103345\n",
      "Chunk 1180 RMSE (original): 0.150271\n",
      "Chunk 1181 RMSE (original): 0.127948\n",
      "Chunk 1182 RMSE (original): 0.081092\n",
      "Chunk 1183 RMSE (original): 0.162810\n",
      "Chunk 1184 RMSE (original): 0.086535\n",
      "Chunk 1185 RMSE (original): 0.151240\n",
      "Chunk 1186 RMSE (original): 0.163676\n",
      "Chunk 1187 RMSE (original): 0.152858\n",
      "Chunk 1188 RMSE (original): 0.077456\n",
      "Chunk 1189 RMSE (original): 0.151745\n",
      "Chunk 1190 RMSE (original): 0.122562\n",
      "Chunk 1191 RMSE (original): 0.342872\n",
      "Chunk 1192 RMSE (original): 0.113074\n",
      "Chunk 1193 RMSE (original): 0.119185\n",
      "Chunk 1194 RMSE (original): 0.205425\n",
      "Chunk 1195 RMSE (original): 0.137883\n",
      "Chunk 1196 RMSE (original): 0.234766\n",
      "Chunk 1197 RMSE (original): 0.159258\n",
      "Chunk 1198 RMSE (original): 0.147510\n",
      "Chunk 1199 RMSE (original): 0.176834\n",
      "Chunk 1200 RMSE (original): 0.160222\n",
      "Chunk 1201 RMSE (original): 0.215463\n",
      "Chunk 1202 RMSE (original): 0.145090\n",
      "Chunk 1203 RMSE (original): 0.421901\n",
      "Chunk 1204 RMSE (original): 0.127925\n",
      "Chunk 1205 RMSE (original): 0.106925\n",
      "Chunk 1206 RMSE (original): 0.089113\n",
      "Chunk 1207 RMSE (original): 0.090707\n",
      "Chunk 1208 RMSE (original): 0.297864\n",
      "Chunk 1209 RMSE (original): 0.128974\n",
      "Chunk 1210 RMSE (original): 0.176643\n",
      "Chunk 1211 RMSE (original): 0.118902\n",
      "Chunk 1212 RMSE (original): 0.045157\n",
      "Chunk 1213 RMSE (original): 0.110504\n",
      "Chunk 1214 RMSE (original): 0.114241\n",
      "Chunk 1215 RMSE (original): 0.235691\n",
      "Chunk 1216 RMSE (original): 0.153308\n",
      "Chunk 1217 RMSE (original): 0.117317\n",
      "Chunk 1218 RMSE (original): 0.135104\n",
      "Chunk 1219 RMSE (original): 0.112138\n",
      "Chunk 1220 RMSE (original): 0.150539\n",
      "Chunk 1221 RMSE (original): 0.099792\n",
      "Chunk 1222 RMSE (original): 0.179231\n",
      "Chunk 1223 RMSE (original): 0.128496\n",
      "Chunk 1224 RMSE (original): 0.139308\n",
      "Chunk 1225 RMSE (original): 0.103756\n",
      "Chunk 1226 RMSE (original): 0.121986\n",
      "Chunk 1227 RMSE (original): 0.075146\n",
      "Chunk 1228 RMSE (original): 0.242561\n",
      "Chunk 1229 RMSE (original): 0.087669\n",
      "Chunk 1230 RMSE (original): 0.125593\n",
      "Chunk 1231 RMSE (original): 0.228292\n",
      "Chunk 1232 RMSE (original): 0.113995\n",
      "Chunk 1233 RMSE (original): 0.125918\n",
      "Chunk 1234 RMSE (original): 0.121212\n",
      "Chunk 1235 RMSE (original): 0.119887\n",
      "Chunk 1236 RMSE (original): 0.120490\n",
      "Chunk 1237 RMSE (original): 0.160627\n",
      "Chunk 1238 RMSE (original): 0.214610\n",
      "Chunk 1239 RMSE (original): 0.105507\n",
      "Chunk 1240 RMSE (original): 0.099066\n",
      "Chunk 1241 RMSE (original): 0.071689\n",
      "Chunk 1242 RMSE (original): 0.115451\n",
      "Chunk 1243 RMSE (original): 0.080884\n",
      "Chunk 1244 RMSE (original): 0.298962\n",
      "Chunk 1245 RMSE (original): 0.136761\n",
      "Chunk 1246 RMSE (original): 0.110091\n",
      "Chunk 1247 RMSE (original): 0.075863\n",
      "Chunk 1248 RMSE (original): 0.157947\n",
      "Chunk 1249 RMSE (original): 0.088813\n",
      "Chunk 1250 RMSE (original): 0.074567\n",
      "Chunk 1251 RMSE (original): 0.105794\n",
      "Chunk 1252 RMSE (original): 0.053833\n",
      "Chunk 1253 RMSE (original): 0.196975\n",
      "Chunk 1254 RMSE (original): 0.082724\n",
      "Chunk 1255 RMSE (original): 0.100826\n",
      "Chunk 1256 RMSE (original): 0.116022\n",
      "Chunk 1257 RMSE (original): 0.161071\n",
      "Chunk 1258 RMSE (original): 0.179465\n",
      "Chunk 1259 RMSE (original): 0.141138\n",
      "Chunk 1260 RMSE (original): 0.097202\n",
      "Chunk 1261 RMSE (original): 0.108184\n",
      "Chunk 1262 RMSE (original): 0.197666\n",
      "Chunk 1263 RMSE (original): 0.102267\n",
      "Chunk 1264 RMSE (original): 0.139371\n",
      "Chunk 1265 RMSE (original): 0.100456\n",
      "Chunk 1266 RMSE (original): 0.130283\n",
      "Chunk 1267 RMSE (original): 0.218847\n",
      "Chunk 1268 RMSE (original): 0.314578\n",
      "Chunk 1269 RMSE (original): 0.307120\n",
      "Chunk 1270 RMSE (original): 0.125645\n",
      "Chunk 1271 RMSE (original): 0.070796\n",
      "Chunk 1272 RMSE (original): 0.090510\n",
      "Chunk 1273 RMSE (original): 0.160470\n",
      "Chunk 1274 RMSE (original): 0.060517\n",
      "Chunk 1275 RMSE (original): 0.079693\n",
      "Chunk 1276 RMSE (original): 0.121081\n",
      "Chunk 1277 RMSE (original): 0.161388\n",
      "Chunk 1278 RMSE (original): 0.079775\n",
      "Chunk 1279 RMSE (original): 0.112725\n",
      "Chunk 1280 RMSE (original): 0.137734\n",
      "Chunk 1281 RMSE (original): 0.110293\n",
      "Chunk 1282 RMSE (original): 0.142259\n",
      "Chunk 1283 RMSE (original): 0.115125\n",
      "Chunk 1284 RMSE (original): 0.090000\n",
      "Chunk 1285 RMSE (original): 0.089136\n",
      "Chunk 1286 RMSE (original): 0.093947\n",
      "Chunk 1287 RMSE (original): 0.097323\n",
      "Chunk 1288 RMSE (original): 0.126511\n",
      "Chunk 1289 RMSE (original): 0.230259\n",
      "Chunk 1290 RMSE (original): 0.168254\n",
      "Chunk 1291 RMSE (original): 0.128282\n",
      "Chunk 1292 RMSE (original): 0.094226\n",
      "Chunk 1293 RMSE (original): 0.142992\n",
      "Chunk 1294 RMSE (original): 0.171970\n",
      "Chunk 1295 RMSE (original): 0.271235\n",
      "Chunk 1296 RMSE (original): 0.042629\n",
      "Chunk 1297 RMSE (original): 0.084717\n",
      "Chunk 1298 RMSE (original): 0.084294\n",
      "Chunk 1299 RMSE (original): 0.127593\n",
      "Chunk 1300 RMSE (original): 0.107772\n",
      "Chunk 1301 RMSE (original): 0.076547\n",
      "Chunk 1302 RMSE (original): 0.281861\n",
      "Chunk 1303 RMSE (original): 0.163917\n",
      "Chunk 1304 RMSE (original): 0.183661\n",
      "Chunk 1305 RMSE (original): 0.168262\n",
      "Chunk 1306 RMSE (original): 0.197476\n",
      "Chunk 1307 RMSE (original): 0.104251\n",
      "Chunk 1308 RMSE (original): 0.218699\n",
      "Chunk 1309 RMSE (original): 0.085069\n",
      "Chunk 1310 RMSE (original): 0.155803\n",
      "Chunk 1311 RMSE (original): 0.157167\n",
      "Chunk 1312 RMSE (original): 0.162992\n",
      "Chunk 1313 RMSE (original): 0.070843\n",
      "Chunk 1314 RMSE (original): 0.076899\n",
      "Chunk 1315 RMSE (original): 0.110079\n",
      "Chunk 1316 RMSE (original): 0.096654\n",
      "Chunk 1317 RMSE (original): 0.106595\n",
      "Chunk 1318 RMSE (original): 0.090234\n",
      "Chunk 1319 RMSE (original): 0.092471\n",
      "Chunk 1320 RMSE (original): 0.098792\n",
      "Chunk 1321 RMSE (original): 0.096352\n",
      "Chunk 1322 RMSE (original): 0.130885\n",
      "Chunk 1323 RMSE (original): 0.273484\n",
      "Chunk 1324 RMSE (original): 0.140711\n",
      "Chunk 1325 RMSE (original): 0.081990\n",
      "Chunk 1326 RMSE (original): 0.116886\n",
      "Chunk 1327 RMSE (original): 0.129742\n",
      "Chunk 1328 RMSE (original): 0.169992\n",
      "Chunk 1329 RMSE (original): 0.185780\n",
      "Chunk 1330 RMSE (original): 0.141594\n",
      "Chunk 1331 RMSE (original): 0.115776\n",
      "Chunk 1332 RMSE (original): 0.121172\n",
      "Chunk 1333 RMSE (original): 0.093459\n",
      "Chunk 1334 RMSE (original): 0.112208\n",
      "Chunk 1335 RMSE (original): 0.133495\n",
      "Chunk 1336 RMSE (original): 0.090519\n",
      "Chunk 1337 RMSE (original): 0.118500\n",
      "Chunk 1338 RMSE (original): 0.145358\n",
      "Chunk 1339 RMSE (original): 0.139404\n",
      "Chunk 1340 RMSE (original): 0.119889\n",
      "Chunk 1341 RMSE (original): 0.150694\n",
      "Chunk 1342 RMSE (original): 0.173536\n",
      "Chunk 1343 RMSE (original): 0.085308\n",
      "Chunk 1344 RMSE (original): 0.145554\n",
      "Chunk 1345 RMSE (original): 0.091811\n",
      "Chunk 1346 RMSE (original): 0.176169\n",
      "Chunk 1347 RMSE (original): 0.127459\n",
      "Chunk 1348 RMSE (original): 0.087861\n",
      "Chunk 1349 RMSE (original): 0.118068\n",
      "Chunk 1350 RMSE (original): 0.136049\n",
      "Chunk 1351 RMSE (original): 0.154807\n",
      "Chunk 1352 RMSE (original): 0.155940\n",
      "Chunk 1353 RMSE (original): 0.145082\n",
      "Chunk 1354 RMSE (original): 0.127114\n",
      "Chunk 1355 RMSE (original): 0.172331\n",
      "Chunk 1356 RMSE (original): 0.157416\n",
      "Chunk 1357 RMSE (original): 0.141179\n",
      "Chunk 1358 RMSE (original): 0.206861\n",
      "Chunk 1359 RMSE (original): 0.173328\n",
      "Chunk 1360 RMSE (original): 0.292851\n",
      "Chunk 1361 RMSE (original): 0.215131\n",
      "Chunk 1362 RMSE (original): 0.336105\n",
      "Chunk 1363 RMSE (original): 0.205000\n",
      "Chunk 1364 RMSE (original): 0.185183\n",
      "Chunk 1365 RMSE (original): 0.116600\n",
      "Chunk 1366 RMSE (original): 0.158521\n",
      "Chunk 1367 RMSE (original): 0.151458\n",
      "Chunk 1368 RMSE (original): 0.129019\n",
      "Chunk 1369 RMSE (original): 0.137988\n",
      "Chunk 1370 RMSE (original): 0.189177\n",
      "Chunk 1371 RMSE (original): 0.131727\n",
      "Chunk 1372 RMSE (original): 0.144769\n",
      "Chunk 1373 RMSE (original): 0.210580\n",
      "Chunk 1374 RMSE (original): 0.164341\n",
      "Chunk 1375 RMSE (original): 0.253409\n",
      "Chunk 1376 RMSE (original): 0.121402\n",
      "Chunk 1377 RMSE (original): 0.139350\n",
      "Chunk 1378 RMSE (original): 0.118906\n",
      "Chunk 1379 RMSE (original): 0.073883\n",
      "Chunk 1380 RMSE (original): 0.195503\n",
      "Chunk 1381 RMSE (original): 0.120965\n",
      "Chunk 1382 RMSE (original): 0.150180\n",
      "Chunk 1383 RMSE (original): 0.088472\n",
      "Chunk 1384 RMSE (original): 0.147149\n",
      "Chunk 1385 RMSE (original): 0.085094\n",
      "Chunk 1386 RMSE (original): 0.082788\n",
      "Chunk 1387 RMSE (original): 0.101017\n",
      "Chunk 1388 RMSE (original): 0.103226\n",
      "Chunk 1389 RMSE (original): 0.109576\n",
      "Chunk 1390 RMSE (original): 0.086817\n",
      "Chunk 1391 RMSE (original): 0.092957\n",
      "Chunk 1392 RMSE (original): 0.109819\n",
      "Chunk 1393 RMSE (original): 0.138114\n",
      "Chunk 1394 RMSE (original): 0.164172\n",
      "Chunk 1395 RMSE (original): 0.119469\n",
      "Chunk 1396 RMSE (original): 0.224987\n",
      "Chunk 1397 RMSE (original): 0.108829\n",
      "Chunk 1398 RMSE (original): 0.145678\n",
      "Chunk 1399 RMSE (original): 0.137855\n",
      "Chunk 1400 RMSE (original): 0.156591\n",
      "Chunk 1401 RMSE (original): 0.089963\n",
      "Chunk 1402 RMSE (original): 0.184327\n",
      "Chunk 1403 RMSE (original): 0.183024\n",
      "Chunk 1404 RMSE (original): 0.180996\n",
      "Chunk 1405 RMSE (original): 0.129547\n",
      "Chunk 1406 RMSE (original): 0.127366\n",
      "Chunk 1407 RMSE (original): 0.126468\n",
      "Chunk 1408 RMSE (original): 0.101217\n",
      "Chunk 1409 RMSE (original): 0.156379\n",
      "Chunk 1410 RMSE (original): 0.197747\n",
      "Chunk 1411 RMSE (original): 0.095895\n",
      "Chunk 1412 RMSE (original): 0.160948\n",
      "Chunk 1413 RMSE (original): 0.070858\n",
      "Chunk 1414 RMSE (original): 0.095521\n",
      "Chunk 1415 RMSE (original): 0.116611\n",
      "Chunk 1416 RMSE (original): 0.101937\n",
      "Chunk 1417 RMSE (original): 0.250733\n",
      "Chunk 1418 RMSE (original): 0.254883\n",
      "Chunk 1419 RMSE (original): 0.144126\n",
      "Chunk 1420 RMSE (original): 0.167121\n",
      "Chunk 1421 RMSE (original): 0.108938\n",
      "Chunk 1422 RMSE (original): 0.172371\n",
      "Chunk 1423 RMSE (original): 0.140867\n",
      "Chunk 1424 RMSE (original): 0.126333\n",
      "Chunk 1425 RMSE (original): 0.157141\n",
      "Chunk 1426 RMSE (original): 0.132488\n",
      "Chunk 1427 RMSE (original): 0.101919\n",
      "Chunk 1428 RMSE (original): 0.140013\n",
      "Chunk 1429 RMSE (original): 0.117644\n",
      "Chunk 1430 RMSE (original): 0.094602\n",
      "Chunk 1431 RMSE (original): 0.076290\n",
      "Chunk 1432 RMSE (original): 0.060048\n",
      "Chunk 1433 RMSE (original): 0.127702\n",
      "Chunk 1434 RMSE (original): 0.091080\n",
      "Chunk 1435 RMSE (original): 0.119078\n",
      "Chunk 1436 RMSE (original): 0.076030\n",
      "Chunk 1437 RMSE (original): 0.141449\n",
      "Chunk 1438 RMSE (original): 0.102761\n",
      "Chunk 1439 RMSE (original): 0.225975\n",
      "Chunk 1440 RMSE (original): 0.309885\n",
      "Chunk 1441 RMSE (original): 0.254988\n",
      "Chunk 1442 RMSE (original): 0.222762\n",
      "Chunk 1443 RMSE (original): 0.125953\n",
      "Chunk 1444 RMSE (original): 0.119839\n",
      "Chunk 1445 RMSE (original): 0.365596\n",
      "Chunk 1446 RMSE (original): 0.098750\n",
      "Chunk 1447 RMSE (original): 0.100473\n",
      "Chunk 1448 RMSE (original): 0.089725\n",
      "Chunk 1449 RMSE (original): 0.101136\n",
      "Chunk 1450 RMSE (original): 0.166954\n",
      "Chunk 1451 RMSE (original): 0.122712\n",
      "Chunk 1452 RMSE (original): 0.260278\n",
      "Chunk 1453 RMSE (original): 0.154823\n",
      "Chunk 1454 RMSE (original): 0.108155\n",
      "Chunk 1455 RMSE (original): 0.076353\n",
      "Chunk 1456 RMSE (original): 0.080351\n",
      "Chunk 1457 RMSE (original): 0.121120\n",
      "Chunk 1458 RMSE (original): 0.096603\n",
      "Chunk 1459 RMSE (original): 0.100362\n",
      "Chunk 1460 RMSE (original): 0.118208\n",
      "Chunk 1461 RMSE (original): 0.142336\n",
      "Chunk 1462 RMSE (original): 0.123469\n",
      "Chunk 1463 RMSE (original): 0.126822\n",
      "Chunk 1464 RMSE (original): 0.130508\n",
      "Chunk 1465 RMSE (original): 0.106953\n",
      "Chunk 1466 RMSE (original): 0.138070\n",
      "Chunk 1467 RMSE (original): 0.104439\n",
      "Chunk 1468 RMSE (original): 0.134855\n",
      "Chunk 1469 RMSE (original): 0.179778\n",
      "Chunk 1470 RMSE (original): 0.122576\n",
      "Chunk 1471 RMSE (original): 0.133600\n",
      "Chunk 1472 RMSE (original): 0.111803\n",
      "Chunk 1473 RMSE (original): 0.159554\n",
      "Chunk 1474 RMSE (original): 0.108426\n",
      "Chunk 1475 RMSE (original): 0.144240\n",
      "Chunk 1476 RMSE (original): 0.233631\n",
      "Chunk 1477 RMSE (original): 0.088376\n",
      "Chunk 1478 RMSE (original): 0.196262\n",
      "Chunk 1479 RMSE (original): 0.180008\n",
      "Chunk 1480 RMSE (original): 0.096767\n",
      "Chunk 1481 RMSE (original): 0.092357\n",
      "Chunk 1482 RMSE (original): 0.140229\n",
      "Chunk 1483 RMSE (original): 0.100559\n",
      "Chunk 1484 RMSE (original): 0.100164\n",
      "Chunk 1485 RMSE (original): 0.208692\n",
      "Chunk 1486 RMSE (original): 0.155793\n",
      "Chunk 1487 RMSE (original): 0.118483\n",
      "Chunk 1488 RMSE (original): 0.168485\n",
      "Chunk 1489 RMSE (original): 0.234041\n",
      "Chunk 1490 RMSE (original): 0.131259\n",
      "Chunk 1491 RMSE (original): 0.099230\n",
      "Chunk 1492 RMSE (original): 0.182293\n",
      "Chunk 1493 RMSE (original): 0.133604\n",
      "Chunk 1494 RMSE (original): 0.202173\n",
      "Chunk 1495 RMSE (original): 0.150038\n",
      "Chunk 1496 RMSE (original): 0.193761\n",
      "Chunk 1497 RMSE (original): 0.123192\n",
      "Chunk 1498 RMSE (original): 0.148989\n",
      "Chunk 1499 RMSE (original): 0.115314\n",
      "Chunk 1500 RMSE (original): 0.425315\n",
      "Chunk 1501 RMSE (original): 0.095705\n",
      "Chunk 1502 RMSE (original): 0.079732\n",
      "Chunk 1503 RMSE (original): 0.243560\n",
      "Chunk 1504 RMSE (original): 0.145829\n",
      "Chunk 1505 RMSE (original): 0.086922\n",
      "Chunk 1506 RMSE (original): 0.110807\n",
      "Chunk 1507 RMSE (original): 0.107850\n",
      "Chunk 1508 RMSE (original): 0.143868\n",
      "Chunk 1509 RMSE (original): 0.112183\n",
      "Chunk 1510 RMSE (original): 0.160142\n",
      "Chunk 1511 RMSE (original): 0.240879\n",
      "Chunk 1512 RMSE (original): 0.161989\n",
      "Chunk 1513 RMSE (original): 0.110187\n",
      "Chunk 1514 RMSE (original): 0.266896\n",
      "Chunk 1515 RMSE (original): 0.170475\n",
      "Chunk 1516 RMSE (original): 0.165695\n",
      "Chunk 1517 RMSE (original): 0.235246\n",
      "Chunk 1518 RMSE (original): 0.111563\n",
      "Chunk 1519 RMSE (original): 0.129300\n",
      "Chunk 1520 RMSE (original): 0.309485\n",
      "Chunk 1521 RMSE (original): 0.245738\n",
      "Chunk 1522 RMSE (original): 0.178673\n",
      "Chunk 1523 RMSE (original): 0.105158\n",
      "Chunk 1524 RMSE (original): 0.150600\n",
      "Chunk 1525 RMSE (original): 0.108726\n",
      "Chunk 1526 RMSE (original): 0.087050\n",
      "Chunk 1527 RMSE (original): 0.087792\n",
      "Chunk 1528 RMSE (original): 0.143575\n",
      "Chunk 1529 RMSE (original): 0.233502\n",
      "Chunk 1530 RMSE (original): 0.101601\n",
      "Chunk 1531 RMSE (original): 0.146963\n",
      "Chunk 1532 RMSE (original): 0.195370\n",
      "Chunk 1533 RMSE (original): 0.187857\n",
      "Chunk 1534 RMSE (original): 0.179389\n",
      "Chunk 1535 RMSE (original): 0.115537\n",
      "Chunk 1536 RMSE (original): 0.159286\n",
      "Chunk 1537 RMSE (original): 0.150850\n",
      "Chunk 1538 RMSE (original): 0.147276\n",
      "Chunk 1539 RMSE (original): 0.241747\n",
      "Chunk 1540 RMSE (original): 0.135248\n",
      "Chunk 1541 RMSE (original): 0.098017\n",
      "Chunk 1542 RMSE (original): 0.139607\n",
      "Chunk 1543 RMSE (original): 0.240667\n",
      "Chunk 1544 RMSE (original): 0.340219\n",
      "Chunk 1545 RMSE (original): 0.119544\n",
      "Chunk 1546 RMSE (original): 0.191723\n",
      "Chunk 1547 RMSE (original): 0.093309\n",
      "Chunk 1548 RMSE (original): 0.071292\n",
      "Chunk 1549 RMSE (original): 0.093734\n",
      "Chunk 1550 RMSE (original): 0.104853\n",
      "Chunk 1551 RMSE (original): 0.116206\n",
      "Chunk 1552 RMSE (original): 0.113169\n",
      "Chunk 1553 RMSE (original): 0.095540\n",
      "Chunk 1554 RMSE (original): 0.157611\n",
      "Chunk 1555 RMSE (original): 0.096850\n",
      "Chunk 1556 RMSE (original): 0.160402\n",
      "Chunk 1557 RMSE (original): 0.216752\n",
      "Chunk 1558 RMSE (original): 0.124626\n",
      "Chunk 1559 RMSE (original): 0.134214\n",
      "Chunk 1560 RMSE (original): 0.126675\n",
      "Chunk 1561 RMSE (original): 0.087813\n",
      "Chunk 1562 RMSE (original): 0.050176\n",
      "Chunk 1563 RMSE (original): 0.121831\n",
      "Chunk 1564 RMSE (original): 0.143055\n",
      "Chunk 1565 RMSE (original): 0.178621\n",
      "Chunk 1566 RMSE (original): 0.159056\n",
      "Chunk 1567 RMSE (original): 0.114730\n",
      "Chunk 1568 RMSE (original): 0.110890\n",
      "Chunk 1569 RMSE (original): 0.237135\n",
      "Chunk 1570 RMSE (original): 0.112757\n",
      "Chunk 1571 RMSE (original): 0.204714\n",
      "Chunk 1572 RMSE (original): 0.106275\n",
      "Chunk 1573 RMSE (original): 0.105367\n",
      "Chunk 1574 RMSE (original): 0.155443\n",
      "Chunk 1575 RMSE (original): 0.103448\n",
      "Chunk 1576 RMSE (original): 0.094722\n",
      "Chunk 1577 RMSE (original): 0.105982\n",
      "Chunk 1578 RMSE (original): 0.316581\n",
      "Chunk 1579 RMSE (original): 0.182186\n",
      "Chunk 1580 RMSE (original): 0.122121\n",
      "Chunk 1581 RMSE (original): 0.195113\n",
      "Chunk 1582 RMSE (original): 0.098713\n",
      "Chunk 1583 RMSE (original): 0.201769\n",
      "Chunk 1584 RMSE (original): 0.200325\n",
      "Chunk 1585 RMSE (original): 0.283988\n",
      "Chunk 1586 RMSE (original): 0.186775\n",
      "Chunk 1587 RMSE (original): 0.218864\n",
      "Chunk 1588 RMSE (original): 0.304669\n",
      "Chunk 1589 RMSE (original): 0.093687\n",
      "Chunk 1590 RMSE (original): 0.138402\n",
      "Chunk 1591 RMSE (original): 0.119644\n",
      "Chunk 1592 RMSE (original): 0.185320\n",
      "Chunk 1593 RMSE (original): 0.095533\n",
      "Chunk 1594 RMSE (original): 0.096523\n",
      "Chunk 1595 RMSE (original): 0.146975\n",
      "Chunk 1596 RMSE (original): 0.094854\n",
      "Chunk 1597 RMSE (original): 0.219213\n",
      "Chunk 1598 RMSE (original): 0.106783\n",
      "Chunk 1599 RMSE (original): 0.109252\n",
      "Chunk 1600 RMSE (original): 0.179584\n",
      "Chunk 1601 RMSE (original): 0.108048\n",
      "Chunk 1602 RMSE (original): 0.125589\n",
      "Chunk 1603 RMSE (original): 0.097062\n",
      "Chunk 1604 RMSE (original): 0.089329\n",
      "Chunk 1605 RMSE (original): 0.145550\n",
      "Chunk 1606 RMSE (original): 0.143117\n",
      "Chunk 1607 RMSE (original): 0.210826\n",
      "Chunk 1608 RMSE (original): 0.273756\n",
      "Chunk 1609 RMSE (original): 0.157566\n",
      "Chunk 1610 RMSE (original): 0.293772\n",
      "Chunk 1611 RMSE (original): 0.092816\n",
      "Chunk 1612 RMSE (original): 0.162467\n",
      "Chunk 1613 RMSE (original): 0.123101\n",
      "Chunk 1614 RMSE (original): 0.084305\n",
      "Chunk 1615 RMSE (original): 0.130247\n",
      "Chunk 1616 RMSE (original): 0.093989\n",
      "Chunk 1617 RMSE (original): 0.128421\n",
      "Chunk 1618 RMSE (original): 0.199986\n",
      "Chunk 1619 RMSE (original): 0.113537\n",
      "Chunk 1620 RMSE (original): 0.138932\n",
      "Chunk 1621 RMSE (original): 0.087191\n",
      "Chunk 1622 RMSE (original): 0.126841\n",
      "Chunk 1623 RMSE (original): 0.105018\n",
      "Chunk 1624 RMSE (original): 0.088075\n",
      "Chunk 1625 RMSE (original): 0.100450\n",
      "Chunk 1626 RMSE (original): 0.078874\n",
      "Chunk 1627 RMSE (original): 0.071101\n",
      "Chunk 1628 RMSE (original): 0.087000\n",
      "Chunk 1629 RMSE (original): 0.124674\n",
      "Chunk 1630 RMSE (original): 0.229351\n",
      "Chunk 1631 RMSE (original): 0.083566\n",
      "Chunk 1632 RMSE (original): 0.232938\n",
      "Chunk 1633 RMSE (original): 0.090031\n",
      "Chunk 1634 RMSE (original): 0.110681\n",
      "Chunk 1635 RMSE (original): 0.116687\n",
      "Chunk 1636 RMSE (original): 0.086023\n",
      "Chunk 1637 RMSE (original): 0.091476\n",
      "Chunk 1638 RMSE (original): 0.095236\n",
      "Chunk 1639 RMSE (original): 0.088379\n",
      "Chunk 1640 RMSE (original): 0.139619\n",
      "Chunk 1641 RMSE (original): 0.141179\n",
      "Chunk 1642 RMSE (original): 0.080674\n",
      "Chunk 1643 RMSE (original): 0.140068\n",
      "Chunk 1644 RMSE (original): 0.155721\n",
      "Chunk 1645 RMSE (original): 0.114457\n",
      "Chunk 1646 RMSE (original): 0.104446\n",
      "Chunk 1647 RMSE (original): 0.147487\n",
      "Chunk 1648 RMSE (original): 0.164104\n",
      "Chunk 1649 RMSE (original): 0.154306\n",
      "Chunk 1650 RMSE (original): 0.110703\n",
      "Chunk 1651 RMSE (original): 0.159595\n",
      "Chunk 1652 RMSE (original): 0.167299\n",
      "Chunk 1653 RMSE (original): 0.124379\n",
      "Chunk 1654 RMSE (original): 0.349068\n",
      "Chunk 1655 RMSE (original): 0.142936\n",
      "Chunk 1656 RMSE (original): 0.212043\n",
      "Chunk 1657 RMSE (original): 0.094452\n",
      "Chunk 1658 RMSE (original): 0.107098\n",
      "Chunk 1659 RMSE (original): 0.136761\n",
      "Chunk 1660 RMSE (original): 0.096539\n",
      "Chunk 1661 RMSE (original): 0.124024\n",
      "Chunk 1662 RMSE (original): 0.100733\n",
      "Chunk 1663 RMSE (original): 0.299893\n",
      "Chunk 1664 RMSE (original): 0.083883\n",
      "Chunk 1665 RMSE (original): 0.136515\n",
      "Chunk 1666 RMSE (original): 0.119372\n",
      "Chunk 1667 RMSE (original): 0.325531\n",
      "Chunk 1668 RMSE (original): 0.129358\n",
      "Chunk 1669 RMSE (original): 0.119485\n",
      "Chunk 1670 RMSE (original): 0.151653\n",
      "Chunk 1671 RMSE (original): 0.118367\n",
      "Chunk 1672 RMSE (original): 0.397480\n",
      "Chunk 1673 RMSE (original): 0.189459\n",
      "Chunk 1674 RMSE (original): 0.201869\n",
      "Chunk 1675 RMSE (original): 0.193051\n",
      "Chunk 1676 RMSE (original): 0.184801\n",
      "Chunk 1677 RMSE (original): 0.146067\n",
      "Chunk 1678 RMSE (original): 0.169582\n",
      "Chunk 1679 RMSE (original): 0.186598\n",
      "Chunk 1680 RMSE (original): 0.170930\n",
      "Chunk 1681 RMSE (original): 0.192894\n",
      "Chunk 1682 RMSE (original): 0.140660\n",
      "Chunk 1683 RMSE (original): 0.248222\n",
      "Chunk 1684 RMSE (original): 0.119199\n",
      "Chunk 1685 RMSE (original): 0.068257\n",
      "Chunk 1686 RMSE (original): 0.119499\n",
      "Chunk 1687 RMSE (original): 0.114580\n",
      "Chunk 1688 RMSE (original): 0.149330\n",
      "Chunk 1689 RMSE (original): 0.129955\n",
      "Chunk 1690 RMSE (original): 0.131144\n",
      "Chunk 1691 RMSE (original): 0.301613\n",
      "Chunk 1692 RMSE (original): 0.198949\n",
      "Chunk 1693 RMSE (original): 0.131497\n",
      "Chunk 1694 RMSE (original): 0.138291\n",
      "Chunk 1695 RMSE (original): 0.294230\n",
      "Chunk 1696 RMSE (original): 0.175672\n",
      "Chunk 1697 RMSE (original): 0.214436\n",
      "Chunk 1698 RMSE (original): 0.088599\n",
      "Chunk 1699 RMSE (original): 0.112039\n",
      "Chunk 1700 RMSE (original): 0.165810\n",
      "Chunk 1701 RMSE (original): 0.238737\n",
      "Chunk 1702 RMSE (original): 0.103544\n",
      "Chunk 1703 RMSE (original): 0.099672\n",
      "Chunk 1704 RMSE (original): 0.193078\n",
      "Chunk 1705 RMSE (original): 0.108670\n",
      "Chunk 1706 RMSE (original): 0.090925\n",
      "Chunk 1707 RMSE (original): 0.076187\n",
      "Chunk 1708 RMSE (original): 0.076848\n",
      "Chunk 1709 RMSE (original): 0.098318\n",
      "Chunk 1710 RMSE (original): 0.158913\n",
      "Chunk 1711 RMSE (original): 0.124206\n",
      "Chunk 1712 RMSE (original): 0.176208\n",
      "Chunk 1713 RMSE (original): 0.179766\n",
      "Chunk 1714 RMSE (original): 0.216567\n",
      "Chunk 1715 RMSE (original): 0.177926\n",
      "Chunk 1716 RMSE (original): 0.165064\n",
      "Chunk 1717 RMSE (original): 0.117553\n",
      "Chunk 1718 RMSE (original): 0.104668\n",
      "Chunk 1719 RMSE (original): 0.097989\n",
      "Chunk 1720 RMSE (original): 0.105449\n",
      "Chunk 1721 RMSE (original): 0.197574\n",
      "Chunk 1722 RMSE (original): 0.138528\n",
      "Chunk 1723 RMSE (original): 0.152111\n",
      "Chunk 1724 RMSE (original): 0.239007\n",
      "Chunk 1725 RMSE (original): 0.151085\n",
      "Chunk 1726 RMSE (original): 0.136594\n",
      "Chunk 1727 RMSE (original): 0.259119\n",
      "Chunk 1728 RMSE (original): 0.212210\n",
      "Chunk 1729 RMSE (original): 0.093800\n",
      "Chunk 1730 RMSE (original): 0.085962\n",
      "Chunk 1731 RMSE (original): 0.087236\n",
      "Chunk 1732 RMSE (original): 0.115075\n",
      "Chunk 1733 RMSE (original): 0.230886\n",
      "Chunk 1734 RMSE (original): 0.102711\n",
      "Chunk 1735 RMSE (original): 0.105093\n",
      "Chunk 1736 RMSE (original): 0.121395\n",
      "Chunk 1737 RMSE (original): 0.144403\n",
      "Chunk 1738 RMSE (original): 0.160408\n",
      "Chunk 1739 RMSE (original): 0.186443\n",
      "Chunk 1740 RMSE (original): 0.086215\n",
      "Chunk 1741 RMSE (original): 0.109063\n",
      "Chunk 1742 RMSE (original): 0.123862\n",
      "Chunk 1743 RMSE (original): 0.569958\n",
      "Chunk 1744 RMSE (original): 0.150872\n",
      "Chunk 1745 RMSE (original): 0.175631\n",
      "Chunk 1746 RMSE (original): 0.145823\n",
      "Chunk 1747 RMSE (original): 0.154860\n",
      "Chunk 1748 RMSE (original): 0.119137\n",
      "Chunk 1749 RMSE (original): 0.102836\n",
      "Chunk 1750 RMSE (original): 0.113173\n",
      "Chunk 1751 RMSE (original): 0.167661\n",
      "Chunk 1752 RMSE (original): 0.185746\n",
      "Chunk 1753 RMSE (original): 0.137519\n",
      "Chunk 1754 RMSE (original): 0.164760\n",
      "Chunk 1755 RMSE (original): 0.094581\n",
      "Chunk 1756 RMSE (original): 0.106037\n",
      "Chunk 1757 RMSE (original): 0.174981\n",
      "Chunk 1758 RMSE (original): 0.155969\n",
      "Chunk 1759 RMSE (original): 0.237009\n",
      "Chunk 1760 RMSE (original): 0.215879\n",
      "Chunk 1761 RMSE (original): 0.113463\n",
      "Chunk 1762 RMSE (original): 0.115620\n",
      "Chunk 1763 RMSE (original): 0.105419\n",
      "Chunk 1764 RMSE (original): 0.121916\n",
      "Chunk 1765 RMSE (original): 0.246163\n",
      "Chunk 1766 RMSE (original): 0.210806\n",
      "Chunk 1767 RMSE (original): 0.133680\n",
      "Chunk 1768 RMSE (original): 0.134378\n",
      "Chunk 1769 RMSE (original): 0.170134\n",
      "Chunk 1770 RMSE (original): 0.140761\n",
      "Chunk 1771 RMSE (original): 0.097169\n",
      "Chunk 1772 RMSE (original): 0.073080\n",
      "Chunk 1773 RMSE (original): 0.094393\n",
      "Chunk 1774 RMSE (original): 0.184057\n",
      "Chunk 1775 RMSE (original): 0.151589\n",
      "Chunk 1776 RMSE (original): 0.289877\n",
      "Chunk 1777 RMSE (original): 0.114125\n",
      "Chunk 1778 RMSE (original): 0.130883\n",
      "Chunk 1779 RMSE (original): 0.113645\n",
      "Chunk 1780 RMSE (original): 0.119178\n",
      "Chunk 1781 RMSE (original): 0.100831\n",
      "Chunk 1782 RMSE (original): 0.310630\n",
      "Chunk 1783 RMSE (original): 0.119998\n",
      "Chunk 1784 RMSE (original): 0.143285\n",
      "Chunk 1785 RMSE (original): 0.089912\n",
      "Chunk 1786 RMSE (original): 0.105865\n",
      "Chunk 1787 RMSE (original): 0.207400\n",
      "Chunk 1788 RMSE (original): 0.205806\n",
      "Chunk 1789 RMSE (original): 0.205164\n",
      "Chunk 1790 RMSE (original): 0.219780\n",
      "Chunk 1791 RMSE (original): 0.079402\n",
      "Chunk 1792 RMSE (original): 0.101789\n",
      "Chunk 1793 RMSE (original): 0.088756\n",
      "Chunk 1794 RMSE (original): 0.069577\n",
      "Chunk 1795 RMSE (original): 0.106655\n",
      "Chunk 1796 RMSE (original): 0.197790\n",
      "Chunk 1797 RMSE (original): 0.145483\n",
      "Chunk 1798 RMSE (original): 0.130588\n",
      "Chunk 1799 RMSE (original): 0.171846\n",
      "Chunk 1800 RMSE (original): 0.133589\n",
      "Chunk 1801 RMSE (original): 0.195328\n",
      "Chunk 1802 RMSE (original): 0.110549\n",
      "Chunk 1803 RMSE (original): 0.134646\n",
      "Chunk 1804 RMSE (original): 0.228717\n",
      "Chunk 1805 RMSE (original): 0.244777\n",
      "Chunk 1806 RMSE (original): 0.118277\n",
      "Chunk 1807 RMSE (original): 0.289016\n",
      "Chunk 1808 RMSE (original): 0.124753\n",
      "Chunk 1809 RMSE (original): 0.184428\n",
      "Chunk 1810 RMSE (original): 0.261332\n",
      "Chunk 1811 RMSE (original): 0.123515\n",
      "Chunk 1812 RMSE (original): 0.216749\n",
      "Chunk 1813 RMSE (original): 0.184179\n",
      "Chunk 1814 RMSE (original): 0.340799\n",
      "Chunk 1815 RMSE (original): 0.111783\n",
      "Chunk 1816 RMSE (original): 0.105528\n",
      "Chunk 1817 RMSE (original): 0.091034\n",
      "Chunk 1818 RMSE (original): 0.350329\n",
      "Chunk 1819 RMSE (original): 0.112336\n",
      "Chunk 1820 RMSE (original): 0.094097\n",
      "Chunk 1821 RMSE (original): 0.090734\n",
      "Chunk 1822 RMSE (original): 0.179108\n",
      "Chunk 1823 RMSE (original): 0.113148\n",
      "Chunk 1824 RMSE (original): 0.176607\n",
      "Chunk 1825 RMSE (original): 0.141686\n",
      "Chunk 1826 RMSE (original): 0.139069\n",
      "Chunk 1827 RMSE (original): 0.140100\n",
      "Chunk 1828 RMSE (original): 0.125732\n",
      "Chunk 1829 RMSE (original): 0.133230\n",
      "Chunk 1830 RMSE (original): 0.094057\n",
      "Chunk 1831 RMSE (original): 0.109406\n",
      "Chunk 1832 RMSE (original): 0.152373\n",
      "Chunk 1833 RMSE (original): 0.203452\n",
      "Chunk 1834 RMSE (original): 0.163947\n",
      "Chunk 1835 RMSE (original): 0.174380\n",
      "Chunk 1836 RMSE (original): 0.158568\n",
      "Chunk 1837 RMSE (original): 0.486671\n",
      "Chunk 1838 RMSE (original): 0.121399\n",
      "Chunk 1839 RMSE (original): 0.097290\n",
      "Chunk 1840 RMSE (original): 0.096684\n",
      "Chunk 1841 RMSE (original): 0.205381\n",
      "Chunk 1842 RMSE (original): 0.079861\n",
      "Chunk 1843 RMSE (original): 0.122729\n",
      "Chunk 1844 RMSE (original): 0.094349\n",
      "Chunk 1845 RMSE (original): 0.142614\n",
      "Chunk 1846 RMSE (original): 0.241916\n",
      "Chunk 1847 RMSE (original): 0.133805\n",
      "Chunk 1848 RMSE (original): 0.130071\n",
      "Chunk 1849 RMSE (original): 0.127540\n",
      "Chunk 1850 RMSE (original): 0.198101\n",
      "Chunk 1851 RMSE (original): 0.213831\n",
      "Chunk 1852 RMSE (original): 0.129898\n",
      "Chunk 1853 RMSE (original): 0.098186\n",
      "Chunk 1854 RMSE (original): 0.185998\n",
      "Chunk 1855 RMSE (original): 0.192373\n",
      "Chunk 1856 RMSE (original): 0.249607\n",
      "Chunk 1857 RMSE (original): 0.104251\n",
      "Chunk 1858 RMSE (original): 0.116364\n",
      "Chunk 1859 RMSE (original): 0.237547\n",
      "Chunk 1860 RMSE (original): 0.099072\n",
      "Chunk 1861 RMSE (original): 0.141710\n",
      "Chunk 1862 RMSE (original): 0.099582\n",
      "Chunk 1863 RMSE (original): 0.167538\n",
      "Chunk 1864 RMSE (original): 0.107788\n",
      "Chunk 1865 RMSE (original): 0.123045\n",
      "Chunk 1866 RMSE (original): 0.096678\n",
      "Chunk 1867 RMSE (original): 0.143626\n",
      "Chunk 1868 RMSE (original): 0.113111\n",
      "Chunk 1869 RMSE (original): 0.165043\n",
      "Chunk 1870 RMSE (original): 0.110472\n",
      "Chunk 1871 RMSE (original): 0.124015\n",
      "Chunk 1872 RMSE (original): 0.163704\n",
      "Chunk 1873 RMSE (original): 0.094510\n",
      "Chunk 1874 RMSE (original): 0.097270\n",
      "Chunk 1875 RMSE (original): 0.289899\n",
      "Chunk 1876 RMSE (original): 0.322123\n",
      "Chunk 1877 RMSE (original): 0.136000\n",
      "Chunk 1878 RMSE (original): 0.115986\n",
      "Chunk 1879 RMSE (original): 0.123993\n",
      "Chunk 1880 RMSE (original): 0.112745\n",
      "Chunk 1881 RMSE (original): 0.251556\n",
      "Chunk 1882 RMSE (original): 0.139040\n",
      "Chunk 1883 RMSE (original): 0.108915\n",
      "Chunk 1884 RMSE (original): 0.115407\n",
      "Chunk 1885 RMSE (original): 0.167705\n",
      "Chunk 1886 RMSE (original): 0.168839\n",
      "Chunk 1887 RMSE (original): 0.107823\n",
      "Chunk 1888 RMSE (original): 0.176236\n",
      "Chunk 1889 RMSE (original): 0.217580\n",
      "Chunk 1890 RMSE (original): 0.154504\n",
      "Chunk 1891 RMSE (original): 0.131672\n",
      "Chunk 1892 RMSE (original): 0.170765\n",
      "Chunk 1893 RMSE (original): 0.100567\n",
      "Chunk 1894 RMSE (original): 0.155504\n",
      "Chunk 1895 RMSE (original): 0.340360\n",
      "Chunk 1896 RMSE (original): 0.212305\n",
      "Chunk 1897 RMSE (original): 0.108049\n",
      "Chunk 1898 RMSE (original): 0.110745\n",
      "Chunk 1899 RMSE (original): 0.119433\n",
      "Chunk 1900 RMSE (original): 0.162009\n",
      "Chunk 1901 RMSE (original): 0.175868\n",
      "Chunk 1902 RMSE (original): 0.136681\n",
      "Chunk 1903 RMSE (original): 0.121931\n",
      "Chunk 1904 RMSE (original): 0.124001\n",
      "Chunk 1905 RMSE (original): 0.119743\n",
      "Chunk 1906 RMSE (original): 0.104577\n",
      "Chunk 1907 RMSE (original): 0.108430\n",
      "Chunk 1908 RMSE (original): 0.117143\n",
      "Chunk 1909 RMSE (original): 0.127545\n",
      "Chunk 1910 RMSE (original): 0.110088\n",
      "Chunk 1911 RMSE (original): 0.112756\n",
      "Chunk 1912 RMSE (original): 0.102044\n",
      "Chunk 1913 RMSE (original): 0.162379\n",
      "Chunk 1914 RMSE (original): 0.221717\n",
      "Chunk 1915 RMSE (original): 0.155555\n",
      "Chunk 1916 RMSE (original): 0.111876\n",
      "Chunk 1917 RMSE (original): 0.106445\n",
      "Chunk 1918 RMSE (original): 0.122256\n",
      "Chunk 1919 RMSE (original): 0.171999\n",
      "Chunk 1920 RMSE (original): 0.173125\n",
      "Chunk 1921 RMSE (original): 0.117415\n",
      "Chunk 1922 RMSE (original): 0.105420\n",
      "Chunk 1923 RMSE (original): 0.163292\n",
      "Chunk 1924 RMSE (original): 0.199523\n",
      "Chunk 1925 RMSE (original): 0.421226\n",
      "Chunk 1926 RMSE (original): 0.223064\n",
      "Chunk 1927 RMSE (original): 0.155500\n",
      "Chunk 1928 RMSE (original): 0.107598\n",
      "Chunk 1929 RMSE (original): 0.096153\n",
      "Chunk 1930 RMSE (original): 0.135761\n",
      "Chunk 1931 RMSE (original): 0.158746\n",
      "Chunk 1932 RMSE (original): 0.267736\n",
      "Chunk 1933 RMSE (original): 0.234631\n",
      "Chunk 1934 RMSE (original): 0.087975\n",
      "Chunk 1935 RMSE (original): 0.164248\n",
      "Chunk 1936 RMSE (original): 0.112979\n",
      "Chunk 1937 RMSE (original): 0.086199\n",
      "Chunk 1938 RMSE (original): 0.120087\n",
      "Chunk 1939 RMSE (original): 0.192882\n",
      "Chunk 1940 RMSE (original): 0.141991\n",
      "Chunk 1941 RMSE (original): 0.086922\n",
      "Chunk 1942 RMSE (original): 0.106202\n",
      "Chunk 1943 RMSE (original): 0.132817\n",
      "Chunk 1944 RMSE (original): 0.101897\n",
      "Chunk 1945 RMSE (original): 0.201460\n",
      "Chunk 1946 RMSE (original): 0.083026\n",
      "Chunk 1947 RMSE (original): 0.100703\n",
      "Chunk 1948 RMSE (original): 0.103802\n",
      "Chunk 1949 RMSE (original): 0.088326\n",
      "Chunk 1950 RMSE (original): 0.135085\n",
      "Chunk 1951 RMSE (original): 0.118013\n",
      "Chunk 1952 RMSE (original): 0.150777\n",
      "Chunk 1953 RMSE (original): 0.091352\n",
      "Chunk 1954 RMSE (original): 0.122984\n",
      "Chunk 1955 RMSE (original): 0.105084\n",
      "Chunk 1956 RMSE (original): 0.233903\n",
      "Chunk 1957 RMSE (original): 0.170707\n",
      "Chunk 1958 RMSE (original): 0.173012\n",
      "Chunk 1959 RMSE (original): 0.135575\n",
      "Chunk 1960 RMSE (original): 0.246059\n",
      "Chunk 1961 RMSE (original): 0.245617\n",
      "Chunk 1962 RMSE (original): 0.152197\n",
      "Chunk 1963 RMSE (original): 0.137324\n",
      "Chunk 1964 RMSE (original): 0.080174\n",
      "Chunk 1965 RMSE (original): 0.135921\n",
      "Chunk 1966 RMSE (original): 0.134186\n",
      "Chunk 1967 RMSE (original): 0.119155\n",
      "Chunk 1968 RMSE (original): 0.131693\n",
      "Chunk 1969 RMSE (original): 0.133458\n",
      "Chunk 1970 RMSE (original): 0.100787\n",
      "Chunk 1971 RMSE (original): 0.330428\n",
      "Chunk 1972 RMSE (original): 0.129274\n",
      "Chunk 1973 RMSE (original): 0.106791\n",
      "Chunk 1974 RMSE (original): 0.198156\n",
      "Chunk 1975 RMSE (original): 0.162947\n",
      "Chunk 1976 RMSE (original): 0.149836\n",
      "Chunk 1977 RMSE (original): 0.127055\n",
      "Chunk 1978 RMSE (original): 0.234335\n",
      "Chunk 1979 RMSE (original): 0.114482\n",
      "Chunk 1980 RMSE (original): 0.164878\n",
      "Chunk 1981 RMSE (original): 0.181265\n",
      "Chunk 1982 RMSE (original): 0.141887\n",
      "Chunk 1983 RMSE (original): 0.125682\n",
      "Chunk 1984 RMSE (original): 0.194723\n",
      "Chunk 1985 RMSE (original): 0.199932\n",
      "Chunk 1986 RMSE (original): 0.201687\n",
      "Chunk 1987 RMSE (original): 0.119893\n",
      "Chunk 1988 RMSE (original): 0.103432\n",
      "Chunk 1989 RMSE (original): 0.108310\n",
      "Chunk 1990 RMSE (original): 0.127775\n",
      "Chunk 1991 RMSE (original): 0.118485\n",
      "Chunk 1992 RMSE (original): 0.130050\n",
      "Chunk 1993 RMSE (original): 0.181716\n",
      "Chunk 1994 RMSE (original): 0.127533\n",
      "Chunk 1995 RMSE (original): 0.108315\n",
      "Chunk 1996 RMSE (original): 0.143624\n",
      "Chunk 1997 RMSE (original): 0.405346\n",
      "Chunk 1998 RMSE (original): 0.105752\n",
      "Chunk 1999 RMSE (original): 0.086196\n",
      "Chunk 2000 RMSE (original): 0.193087\n",
      "Chunk 2001 RMSE (original): 0.165652\n",
      "Chunk 2002 RMSE (original): 0.302870\n",
      "Chunk 2003 RMSE (original): 0.152400\n",
      "Chunk 2004 RMSE (original): 0.120521\n",
      "Chunk 2005 RMSE (original): 0.128771\n",
      "Chunk 2006 RMSE (original): 0.136019\n",
      "Chunk 2007 RMSE (original): 0.095106\n",
      "Chunk 2008 RMSE (original): 0.145317\n",
      "Chunk 2009 RMSE (original): 0.101692\n",
      "Chunk 2010 RMSE (original): 0.086976\n",
      "Chunk 2011 RMSE (original): 0.241250\n",
      "Chunk 2012 RMSE (original): 0.083676\n",
      "Chunk 2013 RMSE (original): 0.095960\n",
      "Chunk 2014 RMSE (original): 0.137789\n",
      "Chunk 2015 RMSE (original): 0.147854\n",
      "Chunk 2016 RMSE (original): 0.097499\n",
      "Chunk 2017 RMSE (original): 0.104108\n",
      "Chunk 2018 RMSE (original): 0.230031\n",
      "Chunk 2019 RMSE (original): 0.335623\n",
      "Chunk 2020 RMSE (original): 0.093068\n",
      "Chunk 2021 RMSE (original): 0.150725\n",
      "Chunk 2022 RMSE (original): 0.128455\n",
      "Chunk 2023 RMSE (original): 0.105673\n",
      "Chunk 2024 RMSE (original): 0.121281\n",
      "Chunk 2025 RMSE (original): 0.104393\n",
      "Chunk 2026 RMSE (original): 0.128646\n",
      "Chunk 2027 RMSE (original): 0.279296\n",
      "Chunk 2028 RMSE (original): 0.098244\n",
      "Chunk 2029 RMSE (original): 0.112970\n",
      "Chunk 2030 RMSE (original): 0.079246\n",
      "Chunk 2031 RMSE (original): 0.086533\n",
      "Chunk 2032 RMSE (original): 0.131347\n",
      "Chunk 2033 RMSE (original): 0.136945\n",
      "Chunk 2034 RMSE (original): 0.126079\n",
      "Chunk 2035 RMSE (original): 0.099336\n",
      "Chunk 2036 RMSE (original): 0.138547\n",
      "Chunk 2037 RMSE (original): 0.218449\n",
      "Chunk 2038 RMSE (original): 0.075780\n",
      "Chunk 2039 RMSE (original): 0.210174\n",
      "Chunk 2040 RMSE (original): 0.109728\n",
      "Chunk 2041 RMSE (original): 0.141860\n",
      "Chunk 2042 RMSE (original): 0.152471\n",
      "Chunk 2043 RMSE (original): 0.095353\n",
      "Chunk 2044 RMSE (original): 0.097497\n",
      "Chunk 2045 RMSE (original): 0.107568\n",
      "Chunk 2046 RMSE (original): 0.118580\n",
      "Chunk 2047 RMSE (original): 0.100245\n",
      "Chunk 2048 RMSE (original): 0.074370\n",
      "Chunk 2049 RMSE (original): 0.135052\n",
      "Chunk 2050 RMSE (original): 0.077057\n",
      "Chunk 2051 RMSE (original): 0.098835\n",
      "Chunk 2052 RMSE (original): 0.207897\n",
      "Chunk 2053 RMSE (original): 0.107004\n",
      "Chunk 2054 RMSE (original): 0.086459\n",
      "Chunk 2055 RMSE (original): 0.089963\n",
      "Chunk 2056 RMSE (original): 0.121864\n",
      "Chunk 2057 RMSE (original): 0.118356\n",
      "Chunk 2058 RMSE (original): 0.151762\n",
      "Chunk 2059 RMSE (original): 0.111836\n",
      "Chunk 2060 RMSE (original): 0.190242\n",
      "Chunk 2061 RMSE (original): 0.169453\n",
      "Chunk 2062 RMSE (original): 0.225796\n",
      "Chunk 2063 RMSE (original): 0.090214\n",
      "Chunk 2064 RMSE (original): 0.101664\n",
      "Chunk 2065 RMSE (original): 0.249538\n",
      "Chunk 2066 RMSE (original): 0.085442\n",
      "Chunk 2067 RMSE (original): 0.136713\n",
      "Chunk 2068 RMSE (original): 0.099717\n",
      "Chunk 2069 RMSE (original): 0.150477\n",
      "Chunk 2070 RMSE (original): 0.062002\n",
      "Chunk 2071 RMSE (original): 0.095653\n",
      "Chunk 2072 RMSE (original): 0.081260\n",
      "Chunk 2073 RMSE (original): 0.096909\n",
      "Chunk 2074 RMSE (original): 0.135286\n",
      "Chunk 2075 RMSE (original): 0.273617\n",
      "Chunk 2076 RMSE (original): 0.097919\n",
      "Chunk 2077 RMSE (original): 0.105835\n",
      "Chunk 2078 RMSE (original): 0.111568\n",
      "Chunk 2079 RMSE (original): 0.130286\n",
      "Chunk 2080 RMSE (original): 0.116424\n",
      "Chunk 2081 RMSE (original): 0.090177\n",
      "Chunk 2082 RMSE (original): 0.134403\n",
      "Chunk 2083 RMSE (original): 0.156379\n",
      "Chunk 2084 RMSE (original): 0.143505\n",
      "Chunk 2085 RMSE (original): 0.117166\n",
      "Chunk 2086 RMSE (original): 0.164444\n",
      "Chunk 2087 RMSE (original): 0.121290\n",
      "Chunk 2088 RMSE (original): 0.122245\n",
      "Chunk 2089 RMSE (original): 0.173719\n",
      "Chunk 2090 RMSE (original): 0.104936\n",
      "Chunk 2091 RMSE (original): 0.107525\n",
      "Chunk 2092 RMSE (original): 0.086721\n",
      "Chunk 2093 RMSE (original): 0.091131\n",
      "Chunk 2094 RMSE (original): 0.143655\n",
      "Chunk 2095 RMSE (original): 0.173695\n",
      "Chunk 2096 RMSE (original): 0.104671\n",
      "Chunk 2097 RMSE (original): 0.137855\n",
      "Chunk 2098 RMSE (original): 0.111792\n",
      "Chunk 2099 RMSE (original): 0.116085\n",
      "Chunk 2100 RMSE (original): 0.105556\n",
      "Chunk 2101 RMSE (original): 0.204495\n",
      "Chunk 2102 RMSE (original): 0.231208\n",
      "Chunk 2103 RMSE (original): 0.142682\n",
      "Chunk 2104 RMSE (original): 0.147273\n",
      "Chunk 2105 RMSE (original): 0.111320\n",
      "Chunk 2106 RMSE (original): 0.157830\n",
      "Chunk 2107 RMSE (original): 0.117045\n",
      "Chunk 2108 RMSE (original): 0.120777\n",
      "Chunk 2109 RMSE (original): 0.142568\n",
      "Chunk 2110 RMSE (original): 0.186185\n",
      "Chunk 2111 RMSE (original): 0.152507\n",
      "Chunk 2112 RMSE (original): 0.201844\n",
      "Chunk 2113 RMSE (original): 0.197604\n",
      "Chunk 2114 RMSE (original): 0.152089\n",
      "Chunk 2115 RMSE (original): 0.238939\n",
      "Chunk 2116 RMSE (original): 0.072182\n",
      "Chunk 2117 RMSE (original): 0.115231\n",
      "Chunk 2118 RMSE (original): 0.178412\n",
      "Chunk 2119 RMSE (original): 0.104307\n",
      "Chunk 2120 RMSE (original): 0.395000\n",
      "Chunk 2121 RMSE (original): 0.112876\n",
      "Chunk 2122 RMSE (original): 0.196060\n",
      "Chunk 2123 RMSE (original): 0.195761\n",
      "Chunk 2124 RMSE (original): 0.097738\n",
      "Chunk 2125 RMSE (original): 0.152749\n",
      "Chunk 2126 RMSE (original): 0.112084\n",
      "Chunk 2127 RMSE (original): 0.132317\n",
      "Chunk 2128 RMSE (original): 0.114624\n",
      "Chunk 2129 RMSE (original): 0.123976\n",
      "Chunk 2130 RMSE (original): 0.131781\n",
      "Chunk 2131 RMSE (original): 0.170966\n",
      "Chunk 2132 RMSE (original): 0.182164\n",
      "Chunk 2133 RMSE (original): 0.194193\n",
      "Chunk 2134 RMSE (original): 0.219866\n",
      "Chunk 2135 RMSE (original): 0.158288\n",
      "Chunk 2136 RMSE (original): 0.154837\n",
      "Chunk 2137 RMSE (original): 0.171060\n",
      "Chunk 2138 RMSE (original): 0.126470\n",
      "Chunk 2139 RMSE (original): 0.160677\n",
      "Chunk 2140 RMSE (original): 0.115616\n",
      "Chunk 2141 RMSE (original): 0.120276\n",
      "Chunk 2142 RMSE (original): 0.124894\n",
      "Chunk 2143 RMSE (original): 0.135901\n",
      "Chunk 2144 RMSE (original): 0.177096\n",
      "Chunk 2145 RMSE (original): 0.115203\n",
      "Chunk 2146 RMSE (original): 0.245154\n",
      "Chunk 2147 RMSE (original): 0.182869\n",
      "Chunk 2148 RMSE (original): 0.178286\n",
      "Chunk 2149 RMSE (original): 0.160930\n",
      "Chunk 2150 RMSE (original): 0.103886\n",
      "Chunk 2151 RMSE (original): 0.122415\n",
      "Chunk 2152 RMSE (original): 0.159448\n",
      "Chunk 2153 RMSE (original): 0.283778\n",
      "Chunk 2154 RMSE (original): 0.132807\n",
      "Chunk 2155 RMSE (original): 0.119503\n",
      "Chunk 2156 RMSE (original): 0.105986\n",
      "Chunk 2157 RMSE (original): 0.098534\n",
      "Chunk 2158 RMSE (original): 0.123803\n",
      "Chunk 2159 RMSE (original): 0.133186\n",
      "Chunk 2160 RMSE (original): 0.111501\n",
      "Chunk 2161 RMSE (original): 0.075058\n",
      "Chunk 2162 RMSE (original): 0.113383\n",
      "Chunk 2163 RMSE (original): 0.192395\n",
      "Chunk 2164 RMSE (original): 0.220060\n",
      "Chunk 2165 RMSE (original): 0.180264\n",
      "Chunk 2166 RMSE (original): 0.133070\n",
      "Chunk 2167 RMSE (original): 0.199758\n",
      "Chunk 2168 RMSE (original): 0.125391\n",
      "Chunk 2169 RMSE (original): 0.218723\n",
      "Chunk 2170 RMSE (original): 0.151995\n",
      "Chunk 2171 RMSE (original): 0.171286\n",
      "Chunk 2172 RMSE (original): 0.124497\n",
      "Chunk 2173 RMSE (original): 0.143163\n",
      "Chunk 2174 RMSE (original): 0.112041\n",
      "Chunk 2175 RMSE (original): 0.162550\n",
      "Chunk 2176 RMSE (original): 0.126193\n",
      "Chunk 2177 RMSE (original): 0.166197\n",
      "Chunk 2178 RMSE (original): 0.073385\n",
      "Chunk 2179 RMSE (original): 0.087410\n",
      "Chunk 2180 RMSE (original): 0.072018\n",
      "Chunk 2181 RMSE (original): 0.105980\n",
      "Chunk 2182 RMSE (original): 0.083712\n",
      "Chunk 2183 RMSE (original): 0.098503\n",
      "Chunk 2184 RMSE (original): 0.083531\n",
      "Chunk 2185 RMSE (original): 0.175338\n",
      "Chunk 2186 RMSE (original): 0.100859\n",
      "Chunk 2187 RMSE (original): 0.175880\n",
      "Chunk 2188 RMSE (original): 0.128095\n",
      "Chunk 2189 RMSE (original): 0.128155\n",
      "Chunk 2190 RMSE (original): 0.142864\n",
      "Chunk 2191 RMSE (original): 0.153081\n",
      "Chunk 2192 RMSE (original): 0.111815\n",
      "Chunk 2193 RMSE (original): 0.064758\n",
      "Chunk 2194 RMSE (original): 0.096581\n",
      "Chunk 2195 RMSE (original): 0.178850\n",
      "Chunk 2196 RMSE (original): 0.132579\n",
      "Chunk 2197 RMSE (original): 0.077697\n",
      "Chunk 2198 RMSE (original): 0.107418\n",
      "Chunk 2199 RMSE (original): 0.169293\n",
      "Chunk 2200 RMSE (original): 0.104582\n",
      "Chunk 2201 RMSE (original): 0.132181\n",
      "Chunk 2202 RMSE (original): 0.104450\n",
      "Chunk 2203 RMSE (original): 0.077591\n",
      "Chunk 2204 RMSE (original): 0.071037\n",
      "Chunk 2205 RMSE (original): 0.105266\n",
      "Chunk 2206 RMSE (original): 0.116856\n",
      "Chunk 2207 RMSE (original): 0.103685\n",
      "Chunk 2208 RMSE (original): 0.105949\n",
      "Chunk 2209 RMSE (original): 0.146592\n",
      "Chunk 2210 RMSE (original): 0.092089\n",
      "Chunk 2211 RMSE (original): 0.129706\n",
      "Chunk 2212 RMSE (original): 0.154612\n",
      "Chunk 2213 RMSE (original): 0.103029\n",
      "Chunk 2214 RMSE (original): 0.075187\n",
      "Chunk 2215 RMSE (original): 0.222785\n",
      "Chunk 2216 RMSE (original): 0.192597\n",
      "Chunk 2217 RMSE (original): 0.154046\n",
      "Chunk 2218 RMSE (original): 0.099871\n",
      "Chunk 2219 RMSE (original): 0.127073\n",
      "Chunk 2220 RMSE (original): 0.303830\n",
      "Chunk 2221 RMSE (original): 0.105507\n",
      "Chunk 2222 RMSE (original): 0.166965\n",
      "Chunk 2223 RMSE (original): 0.074200\n",
      "Chunk 2224 RMSE (original): 0.104638\n",
      "Chunk 2225 RMSE (original): 0.204730\n",
      "Chunk 2226 RMSE (original): 0.096240\n",
      "Chunk 2227 RMSE (original): 0.091263\n",
      "Chunk 2228 RMSE (original): 0.245891\n",
      "Chunk 2229 RMSE (original): 0.095179\n",
      "Chunk 2230 RMSE (original): 0.141588\n",
      "Chunk 2231 RMSE (original): 0.129061\n",
      "Chunk 2232 RMSE (original): 0.113704\n",
      "Chunk 2233 RMSE (original): 0.134161\n",
      "Chunk 2234 RMSE (original): 0.129703\n",
      "Chunk 2235 RMSE (original): 0.086605\n",
      "Chunk 2236 RMSE (original): 0.199675\n",
      "Chunk 2237 RMSE (original): 0.108994\n",
      "Chunk 2238 RMSE (original): 0.177075\n",
      "Chunk 2239 RMSE (original): 0.103173\n",
      "Chunk 2240 RMSE (original): 0.124535\n",
      "Chunk 2241 RMSE (original): 0.053152\n",
      "Chunk 2242 RMSE (original): 0.135437\n",
      "Chunk 2243 RMSE (original): 0.148262\n",
      "Chunk 2244 RMSE (original): 0.124553\n",
      "Chunk 2245 RMSE (original): 0.162605\n",
      "Chunk 2246 RMSE (original): 0.144301\n",
      "Chunk 2247 RMSE (original): 0.102312\n",
      "Chunk 2248 RMSE (original): 0.092434\n",
      "Chunk 2249 RMSE (original): 0.096641\n",
      "Chunk 2250 RMSE (original): 0.104267\n",
      "Chunk 2251 RMSE (original): 0.150156\n",
      "Chunk 2252 RMSE (original): 0.107116\n",
      "Chunk 2253 RMSE (original): 0.187838\n",
      "Chunk 2254 RMSE (original): 0.101350\n",
      "Chunk 2255 RMSE (original): 0.214987\n",
      "Chunk 2256 RMSE (original): 0.196852\n",
      "Chunk 2257 RMSE (original): 0.127559\n",
      "Chunk 2258 RMSE (original): 0.173876\n",
      "Chunk 2259 RMSE (original): 0.126701\n",
      "Chunk 2260 RMSE (original): 0.127694\n",
      "Chunk 2261 RMSE (original): 0.122814\n",
      "Chunk 2262 RMSE (original): 0.145055\n",
      "Chunk 2263 RMSE (original): 0.142977\n",
      "Chunk 2264 RMSE (original): 0.120546\n",
      "Chunk 2265 RMSE (original): 0.122473\n",
      "Chunk 2266 RMSE (original): 0.162221\n",
      "Chunk 2267 RMSE (original): 0.122239\n",
      "Chunk 2268 RMSE (original): 0.080511\n",
      "Chunk 2269 RMSE (original): 0.084487\n",
      "Chunk 2270 RMSE (original): 0.093641\n",
      "Chunk 2271 RMSE (original): 0.108038\n",
      "Chunk 2272 RMSE (original): 0.144956\n",
      "Chunk 2273 RMSE (original): 0.108559\n",
      "Chunk 2274 RMSE (original): 0.111126\n",
      "Chunk 2275 RMSE (original): 0.114149\n",
      "Chunk 2276 RMSE (original): 0.156019\n",
      "Chunk 2277 RMSE (original): 0.155300\n",
      "Chunk 2278 RMSE (original): 0.128749\n",
      "Chunk 2279 RMSE (original): 0.134137\n",
      "Chunk 2280 RMSE (original): 0.118895\n",
      "Chunk 2281 RMSE (original): 0.165827\n",
      "Chunk 2282 RMSE (original): 0.115524\n",
      "Chunk 2283 RMSE (original): 0.204473\n",
      "Chunk 2284 RMSE (original): 0.281017\n",
      "Chunk 2285 RMSE (original): 0.086237\n",
      "Chunk 2286 RMSE (original): 0.131238\n",
      "Chunk 2287 RMSE (original): 0.292303\n",
      "Chunk 2288 RMSE (original): 0.188074\n",
      "Chunk 2289 RMSE (original): 0.139834\n",
      "Chunk 2290 RMSE (original): 0.135819\n",
      "Chunk 2291 RMSE (original): 0.108604\n",
      "Chunk 2292 RMSE (original): 0.114068\n",
      "Chunk 2293 RMSE (original): 0.168423\n",
      "Chunk 2294 RMSE (original): 0.130899\n",
      "Chunk 2295 RMSE (original): 0.147086\n",
      "Chunk 2296 RMSE (original): 0.151567\n",
      "Chunk 2297 RMSE (original): 0.243699\n",
      "Chunk 2298 RMSE (original): 0.197914\n",
      "Chunk 2299 RMSE (original): 0.170795\n",
      "Chunk 2300 RMSE (original): 0.211859\n",
      "Chunk 2301 RMSE (original): 0.147634\n",
      "Chunk 2302 RMSE (original): 0.282455\n",
      "Chunk 2303 RMSE (original): 0.161715\n",
      "Chunk 2304 RMSE (original): 0.317508\n",
      "Chunk 2305 RMSE (original): 0.304843\n",
      "Chunk 2306 RMSE (original): 0.061384\n",
      "Chunk 2307 RMSE (original): 0.107667\n",
      "Chunk 2308 RMSE (original): 0.177073\n",
      "Chunk 2309 RMSE (original): 0.148490\n",
      "Chunk 2310 RMSE (original): 0.155177\n",
      "Chunk 2311 RMSE (original): 0.107223\n",
      "Chunk 2312 RMSE (original): 0.109338\n",
      "Chunk 2313 RMSE (original): 0.101545\n",
      "Chunk 2314 RMSE (original): 0.101567\n",
      "Chunk 2315 RMSE (original): 0.088545\n",
      "Chunk 2316 RMSE (original): 0.134875\n",
      "Chunk 2317 RMSE (original): 0.291920\n",
      "Chunk 2318 RMSE (original): 0.139851\n",
      "Chunk 2319 RMSE (original): 0.091667\n",
      "Chunk 2320 RMSE (original): 0.208143\n",
      "Chunk 2321 RMSE (original): 0.114844\n",
      "Chunk 2322 RMSE (original): 0.292806\n",
      "Chunk 2323 RMSE (original): 0.090293\n",
      "Chunk 2324 RMSE (original): 0.138341\n",
      "Chunk 2325 RMSE (original): 0.161385\n",
      "Chunk 2326 RMSE (original): 0.096767\n",
      "Chunk 2327 RMSE (original): 0.219449\n",
      "Chunk 2328 RMSE (original): 0.083635\n",
      "Chunk 2329 RMSE (original): 0.091087\n",
      "Chunk 2330 RMSE (original): 0.059453\n",
      "Chunk 2331 RMSE (original): 0.211637\n",
      "Chunk 2332 RMSE (original): 0.136247\n",
      "Chunk 2333 RMSE (original): 0.123153\n",
      "Chunk 2334 RMSE (original): 0.121278\n",
      "Chunk 2335 RMSE (original): 0.287847\n",
      "Chunk 2336 RMSE (original): 0.082822\n",
      "Chunk 2337 RMSE (original): 0.044561\n",
      "Chunk 2338 RMSE (original): 0.074160\n",
      "Chunk 2339 RMSE (original): 0.082632\n",
      "Chunk 2340 RMSE (original): 0.114954\n",
      "Chunk 2341 RMSE (original): 0.106215\n",
      "Chunk 2342 RMSE (original): 0.347915\n",
      "Chunk 2343 RMSE (original): 0.106895\n",
      "Chunk 2344 RMSE (original): 0.103005\n",
      "Chunk 2345 RMSE (original): 0.126228\n",
      "Chunk 2346 RMSE (original): 0.100364\n",
      "Chunk 2347 RMSE (original): 0.187071\n",
      "Chunk 2348 RMSE (original): 0.151427\n",
      "Chunk 2349 RMSE (original): 0.175524\n",
      "Chunk 2350 RMSE (original): 0.116683\n",
      "Chunk 2351 RMSE (original): 0.202008\n",
      "Chunk 2352 RMSE (original): 0.218242\n",
      "Chunk 2353 RMSE (original): 0.093570\n",
      "Chunk 2354 RMSE (original): 0.117477\n",
      "Chunk 2355 RMSE (original): 0.007346\n",
      "Chunk 2356 RMSE (original): 0.208417\n",
      "Chunk 2357 RMSE (original): 0.165633\n",
      "Chunk 2358 RMSE (original): 0.090530\n",
      "Chunk 2359 RMSE (original): 0.125293\n",
      "Chunk 2360 RMSE (original): 0.184149\n",
      "Chunk 2361 RMSE (original): 0.060538\n",
      "Chunk 2362 RMSE (original): 0.225974\n",
      "Chunk 2363 RMSE (original): 0.125114\n",
      "Chunk 2364 RMSE (original): 0.205607\n",
      "Chunk 2365 RMSE (original): 0.073075\n",
      "Chunk 2366 RMSE (original): 0.089323\n",
      "Chunk 2367 RMSE (original): 0.126547\n",
      "Chunk 2368 RMSE (original): 0.178606\n",
      "Chunk 2369 RMSE (original): 0.222749\n",
      "Chunk 2370 RMSE (original): 0.116860\n",
      "Chunk 2371 RMSE (original): 0.123107\n",
      "Chunk 2372 RMSE (original): 0.189694\n",
      "Chunk 2373 RMSE (original): 0.105234\n",
      "Chunk 2374 RMSE (original): 0.100874\n",
      "Chunk 2375 RMSE (original): 0.104609\n",
      "Chunk 2376 RMSE (original): 0.283289\n",
      "Chunk 2377 RMSE (original): 0.204277\n",
      "Chunk 2378 RMSE (original): 0.131469\n",
      "Chunk 2379 RMSE (original): 0.123444\n",
      "Chunk 2380 RMSE (original): 0.105897\n",
      "Chunk 2381 RMSE (original): 0.090760\n",
      "Chunk 2382 RMSE (original): 0.167072\n",
      "Chunk 2383 RMSE (original): 0.117094\n",
      "Chunk 2384 RMSE (original): 0.140620\n",
      "Chunk 2385 RMSE (original): 0.095609\n",
      "Chunk 2386 RMSE (original): 0.161325\n",
      "Chunk 2387 RMSE (original): 0.073066\n",
      "Chunk 2388 RMSE (original): 0.100238\n",
      "Chunk 2389 RMSE (original): 0.079456\n",
      "Chunk 2390 RMSE (original): 0.125471\n",
      "Chunk 2391 RMSE (original): 0.141767\n",
      "Chunk 2392 RMSE (original): 0.189009\n",
      "Chunk 2393 RMSE (original): 0.264370\n",
      "Chunk 2394 RMSE (original): 0.098365\n",
      "Chunk 2395 RMSE (original): 0.106862\n",
      "Chunk 2396 RMSE (original): 0.080910\n",
      "Chunk 2397 RMSE (original): 0.099770\n",
      "Chunk 2398 RMSE (original): 0.100428\n",
      "Chunk 2399 RMSE (original): 0.124828\n",
      "Chunk 2400 RMSE (original): 0.146232\n",
      "Chunk 2401 RMSE (original): 0.092347\n",
      "Chunk 2402 RMSE (original): 0.107711\n",
      "Chunk 2403 RMSE (original): 0.140291\n",
      "Chunk 2404 RMSE (original): 0.187451\n",
      "Chunk 2405 RMSE (original): 0.143076\n",
      "Chunk 2406 RMSE (original): 0.213708\n",
      "Chunk 2407 RMSE (original): 0.121265\n",
      "Chunk 2408 RMSE (original): 0.065321\n",
      "Chunk 2409 RMSE (original): 0.116569\n",
      "Chunk 2410 RMSE (original): 0.088506\n",
      "Chunk 2411 RMSE (original): 0.077649\n",
      "Chunk 2412 RMSE (original): 0.110440\n",
      "Chunk 2413 RMSE (original): 0.068302\n",
      "Chunk 2414 RMSE (original): 0.167018\n",
      "Chunk 2415 RMSE (original): 0.087390\n",
      "Chunk 2416 RMSE (original): 0.095497\n",
      "Chunk 2417 RMSE (original): 0.194202\n",
      "Chunk 2418 RMSE (original): 0.109560\n",
      "Chunk 2419 RMSE (original): 0.093994\n",
      "Chunk 2420 RMSE (original): 0.127379\n",
      "Chunk 2421 RMSE (original): 0.103201\n",
      "Chunk 2422 RMSE (original): 0.138701\n",
      "Chunk 2423 RMSE (original): 0.100780\n",
      "Chunk 2424 RMSE (original): 0.127515\n",
      "Chunk 2425 RMSE (original): 0.128093\n",
      "Chunk 2426 RMSE (original): 0.126345\n",
      "Chunk 2427 RMSE (original): 0.083475\n",
      "Chunk 2428 RMSE (original): 0.077653\n",
      "Chunk 2429 RMSE (original): 0.081045\n",
      "Chunk 2430 RMSE (original): 0.296046\n",
      "Chunk 2431 RMSE (original): 0.088805\n",
      "Chunk 2432 RMSE (original): 0.099046\n",
      "Chunk 2433 RMSE (original): 0.215379\n",
      "Chunk 2434 RMSE (original): 0.139215\n",
      "Chunk 2435 RMSE (original): 0.148623\n",
      "Chunk 2436 RMSE (original): 0.108820\n",
      "Chunk 2437 RMSE (original): 0.192983\n",
      "Chunk 2438 RMSE (original): 0.089843\n",
      "Chunk 2439 RMSE (original): 0.085251\n",
      "Chunk 2440 RMSE (original): 0.121825\n",
      "Chunk 2441 RMSE (original): 0.113365\n",
      "Chunk 2442 RMSE (original): 0.068999\n",
      "Chunk 2443 RMSE (original): 0.173443\n",
      "Chunk 2444 RMSE (original): 0.292973\n",
      "Chunk 2445 RMSE (original): 0.111805\n",
      "Chunk 2446 RMSE (original): 0.221970\n",
      "Chunk 2447 RMSE (original): 0.214088\n",
      "Chunk 2448 RMSE (original): 0.086130\n",
      "Chunk 2449 RMSE (original): 0.081410\n",
      "Chunk 2450 RMSE (original): 0.093539\n",
      "\n",
      "Processing constraint on '1' (index 10)\n"
     ]
    },
    {
     "name": "stderr",
     "output_type": "stream",
     "text": [
      "C:\\Users\\wp7528\\AppData\\Roaming\\Python\\Python310\\site-packages\\pysindy\\optimizers\\constrained_sr3.py:463: ConvergenceWarning: SR3._reduce did not converge after 30 iterations.\n",
      "  warnings.warn(\n"
     ]
    },
    {
     "name": "stdout",
     "output_type": "stream",
     "text": [
      "Chunk 0 RMSE (constrained): 0.146593\n"
     ]
    },
    {
     "name": "stderr",
     "output_type": "stream",
     "text": [
      "C:\\Users\\wp7528\\AppData\\Roaming\\Python\\Python310\\site-packages\\pysindy\\optimizers\\constrained_sr3.py:463: ConvergenceWarning: SR3._reduce did not converge after 30 iterations.\n",
      "  warnings.warn(\n"
     ]
    },
    {
     "name": "stdout",
     "output_type": "stream",
     "text": [
      "Chunk 1 RMSE (constrained): 0.132548\n"
     ]
    },
    {
     "name": "stderr",
     "output_type": "stream",
     "text": [
      "C:\\Users\\wp7528\\AppData\\Roaming\\Python\\Python310\\site-packages\\pysindy\\optimizers\\constrained_sr3.py:463: ConvergenceWarning: SR3._reduce did not converge after 30 iterations.\n",
      "  warnings.warn(\n"
     ]
    },
    {
     "name": "stdout",
     "output_type": "stream",
     "text": [
      "Chunk 2 RMSE (constrained): 0.143866\n",
      "Chunk 3 RMSE (constrained): 0.116525\n"
     ]
    },
    {
     "name": "stderr",
     "output_type": "stream",
     "text": [
      "C:\\Users\\wp7528\\AppData\\Roaming\\Python\\Python310\\site-packages\\pysindy\\optimizers\\constrained_sr3.py:463: ConvergenceWarning: SR3._reduce did not converge after 30 iterations.\n",
      "  warnings.warn(\n"
     ]
    },
    {
     "name": "stdout",
     "output_type": "stream",
     "text": [
      "Chunk 4 RMSE (constrained): 0.116887\n"
     ]
    },
    {
     "name": "stderr",
     "output_type": "stream",
     "text": [
      "C:\\Users\\wp7528\\AppData\\Roaming\\Python\\Python310\\site-packages\\pysindy\\optimizers\\constrained_sr3.py:463: ConvergenceWarning: SR3._reduce did not converge after 30 iterations.\n",
      "  warnings.warn(\n"
     ]
    },
    {
     "name": "stdout",
     "output_type": "stream",
     "text": [
      "Chunk 5 RMSE (constrained): 0.082210\n"
     ]
    },
    {
     "name": "stderr",
     "output_type": "stream",
     "text": [
      "C:\\Users\\wp7528\\AppData\\Roaming\\Python\\Python310\\site-packages\\pysindy\\optimizers\\constrained_sr3.py:463: ConvergenceWarning: SR3._reduce did not converge after 30 iterations.\n",
      "  warnings.warn(\n"
     ]
    },
    {
     "name": "stdout",
     "output_type": "stream",
     "text": [
      "Chunk 6 RMSE (constrained): 0.085346\n"
     ]
    },
    {
     "name": "stderr",
     "output_type": "stream",
     "text": [
      "C:\\Users\\wp7528\\AppData\\Roaming\\Python\\Python310\\site-packages\\pysindy\\optimizers\\constrained_sr3.py:463: ConvergenceWarning: SR3._reduce did not converge after 30 iterations.\n",
      "  warnings.warn(\n"
     ]
    },
    {
     "name": "stdout",
     "output_type": "stream",
     "text": [
      "Chunk 7 RMSE (constrained): 0.083239\n"
     ]
    },
    {
     "name": "stderr",
     "output_type": "stream",
     "text": [
      "C:\\Users\\wp7528\\AppData\\Roaming\\Python\\Python310\\site-packages\\pysindy\\optimizers\\constrained_sr3.py:463: ConvergenceWarning: SR3._reduce did not converge after 30 iterations.\n",
      "  warnings.warn(\n"
     ]
    },
    {
     "name": "stdout",
     "output_type": "stream",
     "text": [
      "Chunk 8 RMSE (constrained): 0.083835\n"
     ]
    },
    {
     "name": "stderr",
     "output_type": "stream",
     "text": [
      "C:\\Users\\wp7528\\AppData\\Roaming\\Python\\Python310\\site-packages\\pysindy\\optimizers\\constrained_sr3.py:463: ConvergenceWarning: SR3._reduce did not converge after 30 iterations.\n",
      "  warnings.warn(\n"
     ]
    },
    {
     "name": "stdout",
     "output_type": "stream",
     "text": [
      "Chunk 9 RMSE (constrained): 0.102354\n"
     ]
    },
    {
     "name": "stderr",
     "output_type": "stream",
     "text": [
      "C:\\Users\\wp7528\\AppData\\Roaming\\Python\\Python310\\site-packages\\pysindy\\optimizers\\constrained_sr3.py:463: ConvergenceWarning: SR3._reduce did not converge after 30 iterations.\n",
      "  warnings.warn(\n"
     ]
    },
    {
     "name": "stdout",
     "output_type": "stream",
     "text": [
      "Chunk 10 RMSE (constrained): 0.116972\n"
     ]
    },
    {
     "name": "stderr",
     "output_type": "stream",
     "text": [
      "C:\\Users\\wp7528\\AppData\\Roaming\\Python\\Python310\\site-packages\\pysindy\\optimizers\\constrained_sr3.py:463: ConvergenceWarning: SR3._reduce did not converge after 30 iterations.\n",
      "  warnings.warn(\n"
     ]
    },
    {
     "name": "stdout",
     "output_type": "stream",
     "text": [
      "Chunk 11 RMSE (constrained): 0.116305\n"
     ]
    },
    {
     "name": "stderr",
     "output_type": "stream",
     "text": [
      "C:\\Users\\wp7528\\AppData\\Roaming\\Python\\Python310\\site-packages\\pysindy\\optimizers\\constrained_sr3.py:463: ConvergenceWarning: SR3._reduce did not converge after 30 iterations.\n",
      "  warnings.warn(\n"
     ]
    },
    {
     "name": "stdout",
     "output_type": "stream",
     "text": [
      "Chunk 12 RMSE (constrained): 0.098243\n",
      "Chunk 13 RMSE (constrained): 0.108344\n"
     ]
    },
    {
     "name": "stderr",
     "output_type": "stream",
     "text": [
      "C:\\Users\\wp7528\\AppData\\Roaming\\Python\\Python310\\site-packages\\pysindy\\optimizers\\constrained_sr3.py:463: ConvergenceWarning: SR3._reduce did not converge after 30 iterations.\n",
      "  warnings.warn(\n"
     ]
    },
    {
     "name": "stdout",
     "output_type": "stream",
     "text": [
      "Chunk 14 RMSE (constrained): 0.120942\n",
      "Chunk 15 RMSE (constrained): 0.190560\n"
     ]
    },
    {
     "name": "stderr",
     "output_type": "stream",
     "text": [
      "C:\\Users\\wp7528\\AppData\\Roaming\\Python\\Python310\\site-packages\\pysindy\\optimizers\\constrained_sr3.py:463: ConvergenceWarning: SR3._reduce did not converge after 30 iterations.\n",
      "  warnings.warn(\n",
      "C:\\Users\\wp7528\\AppData\\Roaming\\Python\\Python310\\site-packages\\pysindy\\optimizers\\constrained_sr3.py:463: ConvergenceWarning: SR3._reduce did not converge after 30 iterations.\n",
      "  warnings.warn(\n"
     ]
    },
    {
     "name": "stdout",
     "output_type": "stream",
     "text": [
      "Chunk 16 RMSE (constrained): 0.073693\n"
     ]
    },
    {
     "name": "stderr",
     "output_type": "stream",
     "text": [
      "C:\\Users\\wp7528\\AppData\\Roaming\\Python\\Python310\\site-packages\\pysindy\\optimizers\\constrained_sr3.py:463: ConvergenceWarning: SR3._reduce did not converge after 30 iterations.\n",
      "  warnings.warn(\n"
     ]
    },
    {
     "name": "stdout",
     "output_type": "stream",
     "text": [
      "Chunk 17 RMSE (constrained): 0.102449\n",
      "Chunk 18 RMSE (constrained): 0.167270\n"
     ]
    },
    {
     "name": "stderr",
     "output_type": "stream",
     "text": [
      "C:\\Users\\wp7528\\AppData\\Roaming\\Python\\Python310\\site-packages\\pysindy\\optimizers\\constrained_sr3.py:463: ConvergenceWarning: SR3._reduce did not converge after 30 iterations.\n",
      "  warnings.warn(\n"
     ]
    },
    {
     "name": "stdout",
     "output_type": "stream",
     "text": [
      "Chunk 19 RMSE (constrained): 0.090414\n",
      "Chunk 20 RMSE (constrained): 0.077996\n"
     ]
    },
    {
     "name": "stderr",
     "output_type": "stream",
     "text": [
      "C:\\Users\\wp7528\\AppData\\Roaming\\Python\\Python310\\site-packages\\pysindy\\optimizers\\constrained_sr3.py:463: ConvergenceWarning: SR3._reduce did not converge after 30 iterations.\n",
      "  warnings.warn(\n"
     ]
    },
    {
     "name": "stdout",
     "output_type": "stream",
     "text": [
      "Chunk 21 RMSE (constrained): 0.074581\n"
     ]
    },
    {
     "name": "stderr",
     "output_type": "stream",
     "text": [
      "C:\\Users\\wp7528\\AppData\\Roaming\\Python\\Python310\\site-packages\\pysindy\\optimizers\\constrained_sr3.py:463: ConvergenceWarning: SR3._reduce did not converge after 30 iterations.\n",
      "  warnings.warn(\n"
     ]
    },
    {
     "name": "stdout",
     "output_type": "stream",
     "text": [
      "Chunk 22 RMSE (constrained): 0.099099\n"
     ]
    },
    {
     "name": "stderr",
     "output_type": "stream",
     "text": [
      "C:\\Users\\wp7528\\AppData\\Roaming\\Python\\Python310\\site-packages\\pysindy\\optimizers\\constrained_sr3.py:463: ConvergenceWarning: SR3._reduce did not converge after 30 iterations.\n",
      "  warnings.warn(\n"
     ]
    },
    {
     "name": "stdout",
     "output_type": "stream",
     "text": [
      "Chunk 23 RMSE (constrained): 0.060911\n"
     ]
    },
    {
     "name": "stderr",
     "output_type": "stream",
     "text": [
      "C:\\Users\\wp7528\\AppData\\Roaming\\Python\\Python310\\site-packages\\pysindy\\optimizers\\constrained_sr3.py:463: ConvergenceWarning: SR3._reduce did not converge after 30 iterations.\n",
      "  warnings.warn(\n"
     ]
    },
    {
     "name": "stdout",
     "output_type": "stream",
     "text": [
      "Chunk 24 RMSE (constrained): 0.139184\n",
      "Chunk 25 RMSE (constrained): 0.097023\n",
      "Chunk 26 RMSE (constrained): 0.097535\n"
     ]
    },
    {
     "name": "stderr",
     "output_type": "stream",
     "text": [
      "C:\\Users\\wp7528\\AppData\\Roaming\\Python\\Python310\\site-packages\\pysindy\\optimizers\\constrained_sr3.py:463: ConvergenceWarning: SR3._reduce did not converge after 30 iterations.\n",
      "  warnings.warn(\n"
     ]
    },
    {
     "name": "stdout",
     "output_type": "stream",
     "text": [
      "Chunk 27 RMSE (constrained): 0.058477\n"
     ]
    },
    {
     "name": "stderr",
     "output_type": "stream",
     "text": [
      "C:\\Users\\wp7528\\AppData\\Roaming\\Python\\Python310\\site-packages\\pysindy\\optimizers\\constrained_sr3.py:463: ConvergenceWarning: SR3._reduce did not converge after 30 iterations.\n",
      "  warnings.warn(\n"
     ]
    },
    {
     "name": "stdout",
     "output_type": "stream",
     "text": [
      "Chunk 28 RMSE (constrained): 0.085693\n"
     ]
    },
    {
     "name": "stderr",
     "output_type": "stream",
     "text": [
      "C:\\Users\\wp7528\\AppData\\Roaming\\Python\\Python310\\site-packages\\pysindy\\optimizers\\constrained_sr3.py:463: ConvergenceWarning: SR3._reduce did not converge after 30 iterations.\n",
      "  warnings.warn(\n"
     ]
    },
    {
     "name": "stdout",
     "output_type": "stream",
     "text": [
      "Chunk 29 RMSE (constrained): 0.124966\n",
      "Chunk 30 RMSE (constrained): 0.091446\n"
     ]
    },
    {
     "name": "stderr",
     "output_type": "stream",
     "text": [
      "C:\\Users\\wp7528\\AppData\\Roaming\\Python\\Python310\\site-packages\\pysindy\\optimizers\\constrained_sr3.py:463: ConvergenceWarning: SR3._reduce did not converge after 30 iterations.\n",
      "  warnings.warn(\n"
     ]
    },
    {
     "name": "stdout",
     "output_type": "stream",
     "text": [
      "Chunk 31 RMSE (constrained): 0.175484\n"
     ]
    },
    {
     "name": "stderr",
     "output_type": "stream",
     "text": [
      "C:\\Users\\wp7528\\AppData\\Roaming\\Python\\Python310\\site-packages\\pysindy\\optimizers\\constrained_sr3.py:463: ConvergenceWarning: SR3._reduce did not converge after 30 iterations.\n",
      "  warnings.warn(\n"
     ]
    },
    {
     "name": "stdout",
     "output_type": "stream",
     "text": [
      "Chunk 32 RMSE (constrained): 0.162019\n"
     ]
    },
    {
     "name": "stderr",
     "output_type": "stream",
     "text": [
      "C:\\Users\\wp7528\\AppData\\Roaming\\Python\\Python310\\site-packages\\pysindy\\optimizers\\constrained_sr3.py:463: ConvergenceWarning: SR3._reduce did not converge after 30 iterations.\n",
      "  warnings.warn(\n"
     ]
    },
    {
     "name": "stdout",
     "output_type": "stream",
     "text": [
      "Chunk 33 RMSE (constrained): 0.118133\n"
     ]
    },
    {
     "name": "stderr",
     "output_type": "stream",
     "text": [
      "C:\\Users\\wp7528\\AppData\\Roaming\\Python\\Python310\\site-packages\\pysindy\\optimizers\\constrained_sr3.py:463: ConvergenceWarning: SR3._reduce did not converge after 30 iterations.\n",
      "  warnings.warn(\n"
     ]
    },
    {
     "name": "stdout",
     "output_type": "stream",
     "text": [
      "Chunk 34 RMSE (constrained): 0.090023\n",
      "Chunk 35 RMSE (constrained): 0.116078\n"
     ]
    },
    {
     "name": "stderr",
     "output_type": "stream",
     "text": [
      "C:\\Users\\wp7528\\AppData\\Roaming\\Python\\Python310\\site-packages\\pysindy\\optimizers\\constrained_sr3.py:463: ConvergenceWarning: SR3._reduce did not converge after 30 iterations.\n",
      "  warnings.warn(\n"
     ]
    },
    {
     "name": "stdout",
     "output_type": "stream",
     "text": [
      "Chunk 36 RMSE (constrained): 0.146711\n",
      "Chunk 37 RMSE (constrained): 0.103446\n"
     ]
    },
    {
     "name": "stderr",
     "output_type": "stream",
     "text": [
      "C:\\Users\\wp7528\\AppData\\Roaming\\Python\\Python310\\site-packages\\pysindy\\optimizers\\constrained_sr3.py:463: ConvergenceWarning: SR3._reduce did not converge after 30 iterations.\n",
      "  warnings.warn(\n"
     ]
    },
    {
     "name": "stdout",
     "output_type": "stream",
     "text": [
      "Chunk 38 RMSE (constrained): 0.167030\n"
     ]
    },
    {
     "name": "stderr",
     "output_type": "stream",
     "text": [
      "C:\\Users\\wp7528\\AppData\\Roaming\\Python\\Python310\\site-packages\\pysindy\\optimizers\\constrained_sr3.py:463: ConvergenceWarning: SR3._reduce did not converge after 30 iterations.\n",
      "  warnings.warn(\n"
     ]
    },
    {
     "name": "stdout",
     "output_type": "stream",
     "text": [
      "Chunk 39 RMSE (constrained): 0.156779\n"
     ]
    },
    {
     "name": "stderr",
     "output_type": "stream",
     "text": [
      "C:\\Users\\wp7528\\AppData\\Roaming\\Python\\Python310\\site-packages\\pysindy\\optimizers\\constrained_sr3.py:463: ConvergenceWarning: SR3._reduce did not converge after 30 iterations.\n",
      "  warnings.warn(\n"
     ]
    },
    {
     "name": "stdout",
     "output_type": "stream",
     "text": [
      "Chunk 40 RMSE (constrained): 0.084227\n"
     ]
    },
    {
     "name": "stderr",
     "output_type": "stream",
     "text": [
      "C:\\Users\\wp7528\\AppData\\Roaming\\Python\\Python310\\site-packages\\pysindy\\optimizers\\constrained_sr3.py:463: ConvergenceWarning: SR3._reduce did not converge after 30 iterations.\n",
      "  warnings.warn(\n"
     ]
    },
    {
     "name": "stdout",
     "output_type": "stream",
     "text": [
      "Chunk 41 RMSE (constrained): 0.151191\n",
      "Chunk 42 RMSE (constrained): 0.142500\n",
      "Chunk 43 RMSE (constrained): 0.220362\n"
     ]
    },
    {
     "name": "stderr",
     "output_type": "stream",
     "text": [
      "C:\\Users\\wp7528\\AppData\\Roaming\\Python\\Python310\\site-packages\\pysindy\\optimizers\\constrained_sr3.py:463: ConvergenceWarning: SR3._reduce did not converge after 30 iterations.\n",
      "  warnings.warn(\n",
      "C:\\Users\\wp7528\\AppData\\Roaming\\Python\\Python310\\site-packages\\pysindy\\optimizers\\constrained_sr3.py:463: ConvergenceWarning: SR3._reduce did not converge after 30 iterations.\n",
      "  warnings.warn(\n"
     ]
    },
    {
     "name": "stdout",
     "output_type": "stream",
     "text": [
      "Chunk 44 RMSE (constrained): 0.128964\n"
     ]
    },
    {
     "name": "stderr",
     "output_type": "stream",
     "text": [
      "C:\\Users\\wp7528\\AppData\\Roaming\\Python\\Python310\\site-packages\\pysindy\\optimizers\\constrained_sr3.py:463: ConvergenceWarning: SR3._reduce did not converge after 30 iterations.\n",
      "  warnings.warn(\n"
     ]
    },
    {
     "name": "stdout",
     "output_type": "stream",
     "text": [
      "Chunk 45 RMSE (constrained): 0.159757\n",
      "Chunk 46 RMSE (constrained): 0.105237\n"
     ]
    },
    {
     "name": "stderr",
     "output_type": "stream",
     "text": [
      "C:\\Users\\wp7528\\AppData\\Roaming\\Python\\Python310\\site-packages\\pysindy\\optimizers\\constrained_sr3.py:463: ConvergenceWarning: SR3._reduce did not converge after 30 iterations.\n",
      "  warnings.warn(\n",
      "C:\\Users\\wp7528\\AppData\\Roaming\\Python\\Python310\\site-packages\\pysindy\\optimizers\\constrained_sr3.py:463: ConvergenceWarning: SR3._reduce did not converge after 30 iterations.\n",
      "  warnings.warn(\n"
     ]
    },
    {
     "name": "stdout",
     "output_type": "stream",
     "text": [
      "Chunk 47 RMSE (constrained): 0.116013\n"
     ]
    },
    {
     "name": "stderr",
     "output_type": "stream",
     "text": [
      "C:\\Users\\wp7528\\AppData\\Roaming\\Python\\Python310\\site-packages\\pysindy\\optimizers\\constrained_sr3.py:463: ConvergenceWarning: SR3._reduce did not converge after 30 iterations.\n",
      "  warnings.warn(\n"
     ]
    },
    {
     "name": "stdout",
     "output_type": "stream",
     "text": [
      "Chunk 48 RMSE (constrained): 0.158442\n"
     ]
    },
    {
     "name": "stderr",
     "output_type": "stream",
     "text": [
      "C:\\Users\\wp7528\\AppData\\Roaming\\Python\\Python310\\site-packages\\pysindy\\optimizers\\constrained_sr3.py:463: ConvergenceWarning: SR3._reduce did not converge after 30 iterations.\n",
      "  warnings.warn(\n"
     ]
    },
    {
     "name": "stdout",
     "output_type": "stream",
     "text": [
      "Chunk 49 RMSE (constrained): 0.089230\n",
      "Chunk 50 RMSE (constrained): 0.087849\n"
     ]
    },
    {
     "name": "stderr",
     "output_type": "stream",
     "text": [
      "C:\\Users\\wp7528\\AppData\\Roaming\\Python\\Python310\\site-packages\\pysindy\\optimizers\\constrained_sr3.py:463: ConvergenceWarning: SR3._reduce did not converge after 30 iterations.\n",
      "  warnings.warn(\n"
     ]
    },
    {
     "name": "stdout",
     "output_type": "stream",
     "text": [
      "Chunk 51 RMSE (constrained): 0.123540\n"
     ]
    },
    {
     "name": "stderr",
     "output_type": "stream",
     "text": [
      "C:\\Users\\wp7528\\AppData\\Roaming\\Python\\Python310\\site-packages\\pysindy\\optimizers\\constrained_sr3.py:463: ConvergenceWarning: SR3._reduce did not converge after 30 iterations.\n",
      "  warnings.warn(\n"
     ]
    },
    {
     "name": "stdout",
     "output_type": "stream",
     "text": [
      "Chunk 52 RMSE (constrained): 0.100317\n"
     ]
    },
    {
     "name": "stderr",
     "output_type": "stream",
     "text": [
      "C:\\Users\\wp7528\\AppData\\Roaming\\Python\\Python310\\site-packages\\pysindy\\optimizers\\constrained_sr3.py:463: ConvergenceWarning: SR3._reduce did not converge after 30 iterations.\n",
      "  warnings.warn(\n"
     ]
    },
    {
     "name": "stdout",
     "output_type": "stream",
     "text": [
      "Chunk 53 RMSE (constrained): 0.129672\n"
     ]
    },
    {
     "name": "stderr",
     "output_type": "stream",
     "text": [
      "C:\\Users\\wp7528\\AppData\\Roaming\\Python\\Python310\\site-packages\\pysindy\\optimizers\\constrained_sr3.py:463: ConvergenceWarning: SR3._reduce did not converge after 30 iterations.\n",
      "  warnings.warn(\n"
     ]
    },
    {
     "name": "stdout",
     "output_type": "stream",
     "text": [
      "Chunk 54 RMSE (constrained): 0.161185\n",
      "Chunk 55 RMSE (constrained): 0.165586\n"
     ]
    },
    {
     "name": "stderr",
     "output_type": "stream",
     "text": [
      "C:\\Users\\wp7528\\AppData\\Roaming\\Python\\Python310\\site-packages\\pysindy\\optimizers\\constrained_sr3.py:463: ConvergenceWarning: SR3._reduce did not converge after 30 iterations.\n",
      "  warnings.warn(\n"
     ]
    },
    {
     "name": "stdout",
     "output_type": "stream",
     "text": [
      "Chunk 56 RMSE (constrained): 0.090514\n",
      "Chunk 57 RMSE (constrained): 0.109692\n",
      "Chunk 58 RMSE (constrained): 0.164374\n",
      "Chunk 59 RMSE (constrained): 0.191347\n",
      "Chunk 60 RMSE (constrained): 0.150127\n"
     ]
    },
    {
     "name": "stderr",
     "output_type": "stream",
     "text": [
      "C:\\Users\\wp7528\\AppData\\Roaming\\Python\\Python310\\site-packages\\pysindy\\optimizers\\constrained_sr3.py:463: ConvergenceWarning: SR3._reduce did not converge after 30 iterations.\n",
      "  warnings.warn(\n"
     ]
    },
    {
     "name": "stdout",
     "output_type": "stream",
     "text": [
      "Chunk 61 RMSE (constrained): 0.097461\n",
      "Chunk 62 RMSE (constrained): 0.140709\n"
     ]
    },
    {
     "name": "stderr",
     "output_type": "stream",
     "text": [
      "C:\\Users\\wp7528\\AppData\\Roaming\\Python\\Python310\\site-packages\\pysindy\\optimizers\\constrained_sr3.py:463: ConvergenceWarning: SR3._reduce did not converge after 30 iterations.\n",
      "  warnings.warn(\n",
      "C:\\Users\\wp7528\\AppData\\Roaming\\Python\\Python310\\site-packages\\pysindy\\optimizers\\constrained_sr3.py:463: ConvergenceWarning: SR3._reduce did not converge after 30 iterations.\n",
      "  warnings.warn(\n"
     ]
    },
    {
     "name": "stdout",
     "output_type": "stream",
     "text": [
      "Chunk 63 RMSE (constrained): 0.174037\n",
      "Chunk 64 RMSE (constrained): 0.106970\n",
      "Chunk 65 RMSE (constrained): 0.131285\n",
      "Chunk 66 RMSE (constrained): 0.147979\n"
     ]
    },
    {
     "name": "stderr",
     "output_type": "stream",
     "text": [
      "C:\\Users\\wp7528\\AppData\\Roaming\\Python\\Python310\\site-packages\\pysindy\\optimizers\\constrained_sr3.py:463: ConvergenceWarning: SR3._reduce did not converge after 30 iterations.\n",
      "  warnings.warn(\n"
     ]
    },
    {
     "name": "stdout",
     "output_type": "stream",
     "text": [
      "Chunk 67 RMSE (constrained): 0.107138\n"
     ]
    },
    {
     "name": "stderr",
     "output_type": "stream",
     "text": [
      "C:\\Users\\wp7528\\AppData\\Roaming\\Python\\Python310\\site-packages\\pysindy\\optimizers\\constrained_sr3.py:463: ConvergenceWarning: SR3._reduce did not converge after 30 iterations.\n",
      "  warnings.warn(\n"
     ]
    },
    {
     "name": "stdout",
     "output_type": "stream",
     "text": [
      "Chunk 68 RMSE (constrained): 0.116615\n"
     ]
    },
    {
     "name": "stderr",
     "output_type": "stream",
     "text": [
      "C:\\Users\\wp7528\\AppData\\Roaming\\Python\\Python310\\site-packages\\pysindy\\optimizers\\constrained_sr3.py:463: ConvergenceWarning: SR3._reduce did not converge after 30 iterations.\n",
      "  warnings.warn(\n"
     ]
    },
    {
     "name": "stdout",
     "output_type": "stream",
     "text": [
      "Chunk 69 RMSE (constrained): 0.086600\n"
     ]
    },
    {
     "name": "stderr",
     "output_type": "stream",
     "text": [
      "C:\\Users\\wp7528\\AppData\\Roaming\\Python\\Python310\\site-packages\\pysindy\\optimizers\\constrained_sr3.py:463: ConvergenceWarning: SR3._reduce did not converge after 30 iterations.\n",
      "  warnings.warn(\n"
     ]
    },
    {
     "name": "stdout",
     "output_type": "stream",
     "text": [
      "Chunk 70 RMSE (constrained): 0.147782\n"
     ]
    },
    {
     "name": "stderr",
     "output_type": "stream",
     "text": [
      "C:\\Users\\wp7528\\AppData\\Roaming\\Python\\Python310\\site-packages\\pysindy\\optimizers\\constrained_sr3.py:463: ConvergenceWarning: SR3._reduce did not converge after 30 iterations.\n",
      "  warnings.warn(\n"
     ]
    },
    {
     "name": "stdout",
     "output_type": "stream",
     "text": [
      "Chunk 71 RMSE (constrained): 0.057071\n"
     ]
    },
    {
     "name": "stderr",
     "output_type": "stream",
     "text": [
      "C:\\Users\\wp7528\\AppData\\Roaming\\Python\\Python310\\site-packages\\pysindy\\optimizers\\constrained_sr3.py:463: ConvergenceWarning: SR3._reduce did not converge after 30 iterations.\n",
      "  warnings.warn(\n"
     ]
    },
    {
     "name": "stdout",
     "output_type": "stream",
     "text": [
      "Chunk 72 RMSE (constrained): 0.084845\n"
     ]
    },
    {
     "name": "stderr",
     "output_type": "stream",
     "text": [
      "C:\\Users\\wp7528\\AppData\\Roaming\\Python\\Python310\\site-packages\\pysindy\\optimizers\\constrained_sr3.py:463: ConvergenceWarning: SR3._reduce did not converge after 30 iterations.\n",
      "  warnings.warn(\n"
     ]
    },
    {
     "name": "stdout",
     "output_type": "stream",
     "text": [
      "Chunk 73 RMSE (constrained): 0.092047\n"
     ]
    },
    {
     "name": "stderr",
     "output_type": "stream",
     "text": [
      "C:\\Users\\wp7528\\AppData\\Roaming\\Python\\Python310\\site-packages\\pysindy\\optimizers\\constrained_sr3.py:463: ConvergenceWarning: SR3._reduce did not converge after 30 iterations.\n",
      "  warnings.warn(\n"
     ]
    },
    {
     "name": "stdout",
     "output_type": "stream",
     "text": [
      "Chunk 74 RMSE (constrained): 0.159778\n"
     ]
    },
    {
     "name": "stderr",
     "output_type": "stream",
     "text": [
      "C:\\Users\\wp7528\\AppData\\Roaming\\Python\\Python310\\site-packages\\pysindy\\optimizers\\constrained_sr3.py:463: ConvergenceWarning: SR3._reduce did not converge after 30 iterations.\n",
      "  warnings.warn(\n"
     ]
    },
    {
     "name": "stdout",
     "output_type": "stream",
     "text": [
      "Chunk 75 RMSE (constrained): 0.128458\n"
     ]
    },
    {
     "name": "stderr",
     "output_type": "stream",
     "text": [
      "C:\\Users\\wp7528\\AppData\\Roaming\\Python\\Python310\\site-packages\\pysindy\\optimizers\\constrained_sr3.py:463: ConvergenceWarning: SR3._reduce did not converge after 30 iterations.\n",
      "  warnings.warn(\n"
     ]
    },
    {
     "name": "stdout",
     "output_type": "stream",
     "text": [
      "Chunk 76 RMSE (constrained): 0.157909\n",
      "Chunk 77 RMSE (constrained): 0.183109\n"
     ]
    },
    {
     "name": "stderr",
     "output_type": "stream",
     "text": [
      "C:\\Users\\wp7528\\AppData\\Roaming\\Python\\Python310\\site-packages\\pysindy\\optimizers\\constrained_sr3.py:463: ConvergenceWarning: SR3._reduce did not converge after 30 iterations.\n",
      "  warnings.warn(\n"
     ]
    },
    {
     "name": "stdout",
     "output_type": "stream",
     "text": [
      "Chunk 78 RMSE (constrained): 0.176751\n"
     ]
    },
    {
     "name": "stderr",
     "output_type": "stream",
     "text": [
      "C:\\Users\\wp7528\\AppData\\Roaming\\Python\\Python310\\site-packages\\pysindy\\optimizers\\constrained_sr3.py:463: ConvergenceWarning: SR3._reduce did not converge after 30 iterations.\n",
      "  warnings.warn(\n"
     ]
    },
    {
     "name": "stdout",
     "output_type": "stream",
     "text": [
      "Chunk 79 RMSE (constrained): 0.112499\n",
      "Chunk 80 RMSE (constrained): 0.111390\n"
     ]
    },
    {
     "name": "stderr",
     "output_type": "stream",
     "text": [
      "C:\\Users\\wp7528\\AppData\\Roaming\\Python\\Python310\\site-packages\\pysindy\\optimizers\\constrained_sr3.py:463: ConvergenceWarning: SR3._reduce did not converge after 30 iterations.\n",
      "  warnings.warn(\n"
     ]
    },
    {
     "name": "stdout",
     "output_type": "stream",
     "text": [
      "Chunk 81 RMSE (constrained): 0.125736\n"
     ]
    },
    {
     "name": "stderr",
     "output_type": "stream",
     "text": [
      "C:\\Users\\wp7528\\AppData\\Roaming\\Python\\Python310\\site-packages\\pysindy\\optimizers\\constrained_sr3.py:463: ConvergenceWarning: SR3._reduce did not converge after 30 iterations.\n",
      "  warnings.warn(\n"
     ]
    },
    {
     "name": "stdout",
     "output_type": "stream",
     "text": [
      "Chunk 82 RMSE (constrained): 0.117698\n"
     ]
    },
    {
     "name": "stderr",
     "output_type": "stream",
     "text": [
      "C:\\Users\\wp7528\\AppData\\Roaming\\Python\\Python310\\site-packages\\pysindy\\optimizers\\constrained_sr3.py:463: ConvergenceWarning: SR3._reduce did not converge after 30 iterations.\n",
      "  warnings.warn(\n"
     ]
    },
    {
     "name": "stdout",
     "output_type": "stream",
     "text": [
      "Chunk 83 RMSE (constrained): 0.109857\n"
     ]
    },
    {
     "name": "stderr",
     "output_type": "stream",
     "text": [
      "C:\\Users\\wp7528\\AppData\\Roaming\\Python\\Python310\\site-packages\\pysindy\\optimizers\\constrained_sr3.py:463: ConvergenceWarning: SR3._reduce did not converge after 30 iterations.\n",
      "  warnings.warn(\n"
     ]
    },
    {
     "name": "stdout",
     "output_type": "stream",
     "text": [
      "Chunk 84 RMSE (constrained): 0.134108\n"
     ]
    },
    {
     "name": "stderr",
     "output_type": "stream",
     "text": [
      "C:\\Users\\wp7528\\AppData\\Roaming\\Python\\Python310\\site-packages\\pysindy\\optimizers\\constrained_sr3.py:463: ConvergenceWarning: SR3._reduce did not converge after 30 iterations.\n",
      "  warnings.warn(\n"
     ]
    },
    {
     "name": "stdout",
     "output_type": "stream",
     "text": [
      "Chunk 85 RMSE (constrained): 0.133414\n"
     ]
    },
    {
     "name": "stderr",
     "output_type": "stream",
     "text": [
      "C:\\Users\\wp7528\\AppData\\Roaming\\Python\\Python310\\site-packages\\pysindy\\optimizers\\constrained_sr3.py:463: ConvergenceWarning: SR3._reduce did not converge after 30 iterations.\n",
      "  warnings.warn(\n"
     ]
    },
    {
     "name": "stdout",
     "output_type": "stream",
     "text": [
      "Chunk 86 RMSE (constrained): 0.089021\n"
     ]
    },
    {
     "name": "stderr",
     "output_type": "stream",
     "text": [
      "C:\\Users\\wp7528\\AppData\\Roaming\\Python\\Python310\\site-packages\\pysindy\\optimizers\\constrained_sr3.py:463: ConvergenceWarning: SR3._reduce did not converge after 30 iterations.\n",
      "  warnings.warn(\n"
     ]
    },
    {
     "name": "stdout",
     "output_type": "stream",
     "text": [
      "Chunk 87 RMSE (constrained): 0.075749\n"
     ]
    },
    {
     "name": "stderr",
     "output_type": "stream",
     "text": [
      "C:\\Users\\wp7528\\AppData\\Roaming\\Python\\Python310\\site-packages\\pysindy\\optimizers\\constrained_sr3.py:463: ConvergenceWarning: SR3._reduce did not converge after 30 iterations.\n",
      "  warnings.warn(\n"
     ]
    },
    {
     "name": "stdout",
     "output_type": "stream",
     "text": [
      "Chunk 88 RMSE (constrained): 0.092342\n"
     ]
    },
    {
     "name": "stderr",
     "output_type": "stream",
     "text": [
      "C:\\Users\\wp7528\\AppData\\Roaming\\Python\\Python310\\site-packages\\pysindy\\optimizers\\constrained_sr3.py:463: ConvergenceWarning: SR3._reduce did not converge after 30 iterations.\n",
      "  warnings.warn(\n"
     ]
    },
    {
     "name": "stdout",
     "output_type": "stream",
     "text": [
      "Chunk 89 RMSE (constrained): 0.057994\n"
     ]
    },
    {
     "name": "stderr",
     "output_type": "stream",
     "text": [
      "C:\\Users\\wp7528\\AppData\\Roaming\\Python\\Python310\\site-packages\\pysindy\\optimizers\\constrained_sr3.py:463: ConvergenceWarning: SR3._reduce did not converge after 30 iterations.\n",
      "  warnings.warn(\n"
     ]
    },
    {
     "name": "stdout",
     "output_type": "stream",
     "text": [
      "Chunk 90 RMSE (constrained): 0.072637\n",
      "Chunk 91 RMSE (constrained): 0.132510\n"
     ]
    },
    {
     "name": "stderr",
     "output_type": "stream",
     "text": [
      "C:\\Users\\wp7528\\AppData\\Roaming\\Python\\Python310\\site-packages\\pysindy\\optimizers\\constrained_sr3.py:463: ConvergenceWarning: SR3._reduce did not converge after 30 iterations.\n",
      "  warnings.warn(\n"
     ]
    },
    {
     "name": "stdout",
     "output_type": "stream",
     "text": [
      "Chunk 92 RMSE (constrained): 0.106736\n"
     ]
    },
    {
     "name": "stderr",
     "output_type": "stream",
     "text": [
      "C:\\Users\\wp7528\\AppData\\Roaming\\Python\\Python310\\site-packages\\pysindy\\optimizers\\constrained_sr3.py:463: ConvergenceWarning: SR3._reduce did not converge after 30 iterations.\n",
      "  warnings.warn(\n"
     ]
    },
    {
     "name": "stdout",
     "output_type": "stream",
     "text": [
      "Chunk 93 RMSE (constrained): 0.096453\n"
     ]
    },
    {
     "name": "stderr",
     "output_type": "stream",
     "text": [
      "C:\\Users\\wp7528\\AppData\\Roaming\\Python\\Python310\\site-packages\\pysindy\\optimizers\\constrained_sr3.py:463: ConvergenceWarning: SR3._reduce did not converge after 30 iterations.\n",
      "  warnings.warn(\n"
     ]
    },
    {
     "name": "stdout",
     "output_type": "stream",
     "text": [
      "Chunk 94 RMSE (constrained): 0.086248\n"
     ]
    },
    {
     "name": "stderr",
     "output_type": "stream",
     "text": [
      "C:\\Users\\wp7528\\AppData\\Roaming\\Python\\Python310\\site-packages\\pysindy\\optimizers\\constrained_sr3.py:463: ConvergenceWarning: SR3._reduce did not converge after 30 iterations.\n",
      "  warnings.warn(\n"
     ]
    },
    {
     "name": "stdout",
     "output_type": "stream",
     "text": [
      "Chunk 95 RMSE (constrained): 0.084731\n"
     ]
    },
    {
     "name": "stderr",
     "output_type": "stream",
     "text": [
      "C:\\Users\\wp7528\\AppData\\Roaming\\Python\\Python310\\site-packages\\pysindy\\optimizers\\constrained_sr3.py:463: ConvergenceWarning: SR3._reduce did not converge after 30 iterations.\n",
      "  warnings.warn(\n"
     ]
    },
    {
     "name": "stdout",
     "output_type": "stream",
     "text": [
      "Chunk 96 RMSE (constrained): 0.105826\n",
      "Chunk 97 RMSE (constrained): 0.177793\n"
     ]
    },
    {
     "name": "stderr",
     "output_type": "stream",
     "text": [
      "C:\\Users\\wp7528\\AppData\\Roaming\\Python\\Python310\\site-packages\\pysindy\\optimizers\\constrained_sr3.py:463: ConvergenceWarning: SR3._reduce did not converge after 30 iterations.\n",
      "  warnings.warn(\n"
     ]
    },
    {
     "name": "stdout",
     "output_type": "stream",
     "text": [
      "Chunk 98 RMSE (constrained): 0.103037\n"
     ]
    },
    {
     "name": "stderr",
     "output_type": "stream",
     "text": [
      "C:\\Users\\wp7528\\AppData\\Roaming\\Python\\Python310\\site-packages\\pysindy\\optimizers\\constrained_sr3.py:463: ConvergenceWarning: SR3._reduce did not converge after 30 iterations.\n",
      "  warnings.warn(\n"
     ]
    },
    {
     "name": "stdout",
     "output_type": "stream",
     "text": [
      "Chunk 99 RMSE (constrained): 0.110442\n"
     ]
    },
    {
     "name": "stderr",
     "output_type": "stream",
     "text": [
      "C:\\Users\\wp7528\\AppData\\Roaming\\Python\\Python310\\site-packages\\pysindy\\optimizers\\constrained_sr3.py:463: ConvergenceWarning: SR3._reduce did not converge after 30 iterations.\n",
      "  warnings.warn(\n"
     ]
    },
    {
     "name": "stdout",
     "output_type": "stream",
     "text": [
      "Chunk 100 RMSE (constrained): 0.098199\n"
     ]
    },
    {
     "name": "stderr",
     "output_type": "stream",
     "text": [
      "C:\\Users\\wp7528\\AppData\\Roaming\\Python\\Python310\\site-packages\\pysindy\\optimizers\\constrained_sr3.py:463: ConvergenceWarning: SR3._reduce did not converge after 30 iterations.\n",
      "  warnings.warn(\n"
     ]
    },
    {
     "name": "stdout",
     "output_type": "stream",
     "text": [
      "Chunk 101 RMSE (constrained): 0.122064\n"
     ]
    },
    {
     "name": "stderr",
     "output_type": "stream",
     "text": [
      "C:\\Users\\wp7528\\AppData\\Roaming\\Python\\Python310\\site-packages\\pysindy\\optimizers\\constrained_sr3.py:463: ConvergenceWarning: SR3._reduce did not converge after 30 iterations.\n",
      "  warnings.warn(\n"
     ]
    },
    {
     "name": "stdout",
     "output_type": "stream",
     "text": [
      "Chunk 102 RMSE (constrained): 0.057845\n"
     ]
    },
    {
     "name": "stderr",
     "output_type": "stream",
     "text": [
      "C:\\Users\\wp7528\\AppData\\Roaming\\Python\\Python310\\site-packages\\pysindy\\optimizers\\constrained_sr3.py:463: ConvergenceWarning: SR3._reduce did not converge after 30 iterations.\n",
      "  warnings.warn(\n"
     ]
    },
    {
     "name": "stdout",
     "output_type": "stream",
     "text": [
      "Chunk 103 RMSE (constrained): 0.126195\n"
     ]
    },
    {
     "name": "stderr",
     "output_type": "stream",
     "text": [
      "C:\\Users\\wp7528\\AppData\\Roaming\\Python\\Python310\\site-packages\\pysindy\\optimizers\\constrained_sr3.py:463: ConvergenceWarning: SR3._reduce did not converge after 30 iterations.\n",
      "  warnings.warn(\n"
     ]
    },
    {
     "name": "stdout",
     "output_type": "stream",
     "text": [
      "Chunk 104 RMSE (constrained): 0.076642\n"
     ]
    },
    {
     "name": "stderr",
     "output_type": "stream",
     "text": [
      "C:\\Users\\wp7528\\AppData\\Roaming\\Python\\Python310\\site-packages\\pysindy\\optimizers\\constrained_sr3.py:463: ConvergenceWarning: SR3._reduce did not converge after 30 iterations.\n",
      "  warnings.warn(\n"
     ]
    },
    {
     "name": "stdout",
     "output_type": "stream",
     "text": [
      "Chunk 105 RMSE (constrained): 0.122674\n"
     ]
    },
    {
     "name": "stderr",
     "output_type": "stream",
     "text": [
      "C:\\Users\\wp7528\\AppData\\Roaming\\Python\\Python310\\site-packages\\pysindy\\optimizers\\constrained_sr3.py:463: ConvergenceWarning: SR3._reduce did not converge after 30 iterations.\n",
      "  warnings.warn(\n"
     ]
    },
    {
     "name": "stdout",
     "output_type": "stream",
     "text": [
      "Chunk 106 RMSE (constrained): 0.098401\n"
     ]
    },
    {
     "name": "stderr",
     "output_type": "stream",
     "text": [
      "C:\\Users\\wp7528\\AppData\\Roaming\\Python\\Python310\\site-packages\\pysindy\\optimizers\\constrained_sr3.py:463: ConvergenceWarning: SR3._reduce did not converge after 30 iterations.\n",
      "  warnings.warn(\n"
     ]
    },
    {
     "name": "stdout",
     "output_type": "stream",
     "text": [
      "Chunk 107 RMSE (constrained): 0.283829\n"
     ]
    },
    {
     "name": "stderr",
     "output_type": "stream",
     "text": [
      "C:\\Users\\wp7528\\AppData\\Roaming\\Python\\Python310\\site-packages\\pysindy\\optimizers\\constrained_sr3.py:463: ConvergenceWarning: SR3._reduce did not converge after 30 iterations.\n",
      "  warnings.warn(\n"
     ]
    },
    {
     "name": "stdout",
     "output_type": "stream",
     "text": [
      "Chunk 108 RMSE (constrained): 0.076906\n"
     ]
    },
    {
     "name": "stderr",
     "output_type": "stream",
     "text": [
      "C:\\Users\\wp7528\\AppData\\Roaming\\Python\\Python310\\site-packages\\pysindy\\optimizers\\constrained_sr3.py:463: ConvergenceWarning: SR3._reduce did not converge after 30 iterations.\n",
      "  warnings.warn(\n"
     ]
    },
    {
     "name": "stdout",
     "output_type": "stream",
     "text": [
      "Chunk 109 RMSE (constrained): 0.096986\n"
     ]
    },
    {
     "name": "stderr",
     "output_type": "stream",
     "text": [
      "C:\\Users\\wp7528\\AppData\\Roaming\\Python\\Python310\\site-packages\\pysindy\\optimizers\\constrained_sr3.py:463: ConvergenceWarning: SR3._reduce did not converge after 30 iterations.\n",
      "  warnings.warn(\n"
     ]
    },
    {
     "name": "stdout",
     "output_type": "stream",
     "text": [
      "Chunk 110 RMSE (constrained): 0.066523\n"
     ]
    },
    {
     "name": "stderr",
     "output_type": "stream",
     "text": [
      "C:\\Users\\wp7528\\AppData\\Roaming\\Python\\Python310\\site-packages\\pysindy\\optimizers\\constrained_sr3.py:463: ConvergenceWarning: SR3._reduce did not converge after 30 iterations.\n",
      "  warnings.warn(\n"
     ]
    },
    {
     "name": "stdout",
     "output_type": "stream",
     "text": [
      "Chunk 111 RMSE (constrained): 0.086375\n"
     ]
    },
    {
     "name": "stderr",
     "output_type": "stream",
     "text": [
      "C:\\Users\\wp7528\\AppData\\Roaming\\Python\\Python310\\site-packages\\pysindy\\optimizers\\constrained_sr3.py:463: ConvergenceWarning: SR3._reduce did not converge after 30 iterations.\n",
      "  warnings.warn(\n"
     ]
    },
    {
     "name": "stdout",
     "output_type": "stream",
     "text": [
      "Chunk 112 RMSE (constrained): 0.110409\n"
     ]
    },
    {
     "name": "stderr",
     "output_type": "stream",
     "text": [
      "C:\\Users\\wp7528\\AppData\\Roaming\\Python\\Python310\\site-packages\\pysindy\\optimizers\\constrained_sr3.py:463: ConvergenceWarning: SR3._reduce did not converge after 30 iterations.\n",
      "  warnings.warn(\n"
     ]
    },
    {
     "name": "stdout",
     "output_type": "stream",
     "text": [
      "Chunk 113 RMSE (constrained): 0.158270\n"
     ]
    },
    {
     "name": "stderr",
     "output_type": "stream",
     "text": [
      "C:\\Users\\wp7528\\AppData\\Roaming\\Python\\Python310\\site-packages\\pysindy\\optimizers\\constrained_sr3.py:463: ConvergenceWarning: SR3._reduce did not converge after 30 iterations.\n",
      "  warnings.warn(\n"
     ]
    },
    {
     "name": "stdout",
     "output_type": "stream",
     "text": [
      "Chunk 114 RMSE (constrained): 0.084247\n"
     ]
    },
    {
     "name": "stderr",
     "output_type": "stream",
     "text": [
      "C:\\Users\\wp7528\\AppData\\Roaming\\Python\\Python310\\site-packages\\pysindy\\optimizers\\constrained_sr3.py:463: ConvergenceWarning: SR3._reduce did not converge after 30 iterations.\n",
      "  warnings.warn(\n"
     ]
    },
    {
     "name": "stdout",
     "output_type": "stream",
     "text": [
      "Chunk 115 RMSE (constrained): 0.127047\n"
     ]
    },
    {
     "name": "stderr",
     "output_type": "stream",
     "text": [
      "C:\\Users\\wp7528\\AppData\\Roaming\\Python\\Python310\\site-packages\\pysindy\\optimizers\\constrained_sr3.py:463: ConvergenceWarning: SR3._reduce did not converge after 30 iterations.\n",
      "  warnings.warn(\n"
     ]
    },
    {
     "name": "stdout",
     "output_type": "stream",
     "text": [
      "Chunk 116 RMSE (constrained): 0.142829\n",
      "Chunk 117 RMSE (constrained): 0.221453\n"
     ]
    },
    {
     "name": "stderr",
     "output_type": "stream",
     "text": [
      "C:\\Users\\wp7528\\AppData\\Roaming\\Python\\Python310\\site-packages\\pysindy\\optimizers\\constrained_sr3.py:463: ConvergenceWarning: SR3._reduce did not converge after 30 iterations.\n",
      "  warnings.warn(\n"
     ]
    },
    {
     "name": "stdout",
     "output_type": "stream",
     "text": [
      "Chunk 118 RMSE (constrained): 0.079013\n"
     ]
    },
    {
     "name": "stderr",
     "output_type": "stream",
     "text": [
      "C:\\Users\\wp7528\\AppData\\Roaming\\Python\\Python310\\site-packages\\pysindy\\optimizers\\constrained_sr3.py:463: ConvergenceWarning: SR3._reduce did not converge after 30 iterations.\n",
      "  warnings.warn(\n"
     ]
    },
    {
     "name": "stdout",
     "output_type": "stream",
     "text": [
      "Chunk 119 RMSE (constrained): 0.109122\n",
      "Chunk 120 RMSE (constrained): 0.089021\n"
     ]
    },
    {
     "name": "stderr",
     "output_type": "stream",
     "text": [
      "C:\\Users\\wp7528\\AppData\\Roaming\\Python\\Python310\\site-packages\\pysindy\\optimizers\\constrained_sr3.py:463: ConvergenceWarning: SR3._reduce did not converge after 30 iterations.\n",
      "  warnings.warn(\n"
     ]
    },
    {
     "name": "stdout",
     "output_type": "stream",
     "text": [
      "Chunk 121 RMSE (constrained): 0.138115\n"
     ]
    },
    {
     "name": "stderr",
     "output_type": "stream",
     "text": [
      "C:\\Users\\wp7528\\AppData\\Roaming\\Python\\Python310\\site-packages\\pysindy\\optimizers\\constrained_sr3.py:463: ConvergenceWarning: SR3._reduce did not converge after 30 iterations.\n",
      "  warnings.warn(\n"
     ]
    },
    {
     "name": "stdout",
     "output_type": "stream",
     "text": [
      "Chunk 122 RMSE (constrained): 0.088160\n"
     ]
    },
    {
     "name": "stderr",
     "output_type": "stream",
     "text": [
      "C:\\Users\\wp7528\\AppData\\Roaming\\Python\\Python310\\site-packages\\pysindy\\optimizers\\constrained_sr3.py:463: ConvergenceWarning: SR3._reduce did not converge after 30 iterations.\n",
      "  warnings.warn(\n"
     ]
    },
    {
     "name": "stdout",
     "output_type": "stream",
     "text": [
      "Chunk 123 RMSE (constrained): 0.149472\n"
     ]
    },
    {
     "name": "stderr",
     "output_type": "stream",
     "text": [
      "C:\\Users\\wp7528\\AppData\\Roaming\\Python\\Python310\\site-packages\\pysindy\\optimizers\\constrained_sr3.py:463: ConvergenceWarning: SR3._reduce did not converge after 30 iterations.\n",
      "  warnings.warn(\n"
     ]
    },
    {
     "name": "stdout",
     "output_type": "stream",
     "text": [
      "Chunk 124 RMSE (constrained): 0.089632\n"
     ]
    },
    {
     "name": "stderr",
     "output_type": "stream",
     "text": [
      "C:\\Users\\wp7528\\AppData\\Roaming\\Python\\Python310\\site-packages\\pysindy\\optimizers\\constrained_sr3.py:463: ConvergenceWarning: SR3._reduce did not converge after 30 iterations.\n",
      "  warnings.warn(\n"
     ]
    },
    {
     "name": "stdout",
     "output_type": "stream",
     "text": [
      "Chunk 125 RMSE (constrained): 0.069843\n"
     ]
    },
    {
     "name": "stderr",
     "output_type": "stream",
     "text": [
      "C:\\Users\\wp7528\\AppData\\Roaming\\Python\\Python310\\site-packages\\pysindy\\optimizers\\constrained_sr3.py:463: ConvergenceWarning: SR3._reduce did not converge after 30 iterations.\n",
      "  warnings.warn(\n"
     ]
    },
    {
     "name": "stdout",
     "output_type": "stream",
     "text": [
      "Chunk 126 RMSE (constrained): 0.077005\n"
     ]
    },
    {
     "name": "stderr",
     "output_type": "stream",
     "text": [
      "C:\\Users\\wp7528\\AppData\\Roaming\\Python\\Python310\\site-packages\\pysindy\\optimizers\\constrained_sr3.py:463: ConvergenceWarning: SR3._reduce did not converge after 30 iterations.\n",
      "  warnings.warn(\n"
     ]
    },
    {
     "name": "stdout",
     "output_type": "stream",
     "text": [
      "Chunk 127 RMSE (constrained): 0.096081\n",
      "Chunk 128 RMSE (constrained): 0.099917\n"
     ]
    },
    {
     "name": "stderr",
     "output_type": "stream",
     "text": [
      "C:\\Users\\wp7528\\AppData\\Roaming\\Python\\Python310\\site-packages\\pysindy\\optimizers\\constrained_sr3.py:463: ConvergenceWarning: SR3._reduce did not converge after 30 iterations.\n",
      "  warnings.warn(\n",
      "C:\\Users\\wp7528\\AppData\\Roaming\\Python\\Python310\\site-packages\\pysindy\\optimizers\\constrained_sr3.py:463: ConvergenceWarning: SR3._reduce did not converge after 30 iterations.\n",
      "  warnings.warn(\n"
     ]
    },
    {
     "name": "stdout",
     "output_type": "stream",
     "text": [
      "Chunk 129 RMSE (constrained): 0.069765\n"
     ]
    },
    {
     "name": "stderr",
     "output_type": "stream",
     "text": [
      "C:\\Users\\wp7528\\AppData\\Roaming\\Python\\Python310\\site-packages\\pysindy\\optimizers\\constrained_sr3.py:463: ConvergenceWarning: SR3._reduce did not converge after 30 iterations.\n",
      "  warnings.warn(\n"
     ]
    },
    {
     "name": "stdout",
     "output_type": "stream",
     "text": [
      "Chunk 130 RMSE (constrained): 0.065495\n"
     ]
    },
    {
     "name": "stderr",
     "output_type": "stream",
     "text": [
      "C:\\Users\\wp7528\\AppData\\Roaming\\Python\\Python310\\site-packages\\pysindy\\optimizers\\constrained_sr3.py:463: ConvergenceWarning: SR3._reduce did not converge after 30 iterations.\n",
      "  warnings.warn(\n"
     ]
    },
    {
     "name": "stdout",
     "output_type": "stream",
     "text": [
      "Chunk 131 RMSE (constrained): 0.071327\n"
     ]
    },
    {
     "name": "stderr",
     "output_type": "stream",
     "text": [
      "C:\\Users\\wp7528\\AppData\\Roaming\\Python\\Python310\\site-packages\\pysindy\\optimizers\\constrained_sr3.py:463: ConvergenceWarning: SR3._reduce did not converge after 30 iterations.\n",
      "  warnings.warn(\n"
     ]
    },
    {
     "name": "stdout",
     "output_type": "stream",
     "text": [
      "Chunk 132 RMSE (constrained): 0.113225\n",
      "Chunk 133 RMSE (constrained): 0.108868\n"
     ]
    },
    {
     "name": "stderr",
     "output_type": "stream",
     "text": [
      "C:\\Users\\wp7528\\AppData\\Roaming\\Python\\Python310\\site-packages\\pysindy\\optimizers\\constrained_sr3.py:463: ConvergenceWarning: SR3._reduce did not converge after 30 iterations.\n",
      "  warnings.warn(\n"
     ]
    },
    {
     "name": "stdout",
     "output_type": "stream",
     "text": [
      "Chunk 134 RMSE (constrained): 0.070293\n"
     ]
    },
    {
     "name": "stderr",
     "output_type": "stream",
     "text": [
      "C:\\Users\\wp7528\\AppData\\Roaming\\Python\\Python310\\site-packages\\pysindy\\optimizers\\constrained_sr3.py:463: ConvergenceWarning: SR3._reduce did not converge after 30 iterations.\n",
      "  warnings.warn(\n"
     ]
    },
    {
     "name": "stdout",
     "output_type": "stream",
     "text": [
      "Chunk 135 RMSE (constrained): 0.082195\n"
     ]
    },
    {
     "name": "stderr",
     "output_type": "stream",
     "text": [
      "C:\\Users\\wp7528\\AppData\\Roaming\\Python\\Python310\\site-packages\\pysindy\\optimizers\\constrained_sr3.py:463: ConvergenceWarning: SR3._reduce did not converge after 30 iterations.\n",
      "  warnings.warn(\n"
     ]
    },
    {
     "name": "stdout",
     "output_type": "stream",
     "text": [
      "Chunk 136 RMSE (constrained): 0.062175\n"
     ]
    },
    {
     "name": "stderr",
     "output_type": "stream",
     "text": [
      "C:\\Users\\wp7528\\AppData\\Roaming\\Python\\Python310\\site-packages\\pysindy\\optimizers\\constrained_sr3.py:463: ConvergenceWarning: SR3._reduce did not converge after 30 iterations.\n",
      "  warnings.warn(\n"
     ]
    },
    {
     "name": "stdout",
     "output_type": "stream",
     "text": [
      "Chunk 137 RMSE (constrained): 0.077180\n",
      "Chunk 138 RMSE (constrained): 0.077369\n"
     ]
    },
    {
     "name": "stderr",
     "output_type": "stream",
     "text": [
      "C:\\Users\\wp7528\\AppData\\Roaming\\Python\\Python310\\site-packages\\pysindy\\optimizers\\constrained_sr3.py:463: ConvergenceWarning: SR3._reduce did not converge after 30 iterations.\n",
      "  warnings.warn(\n"
     ]
    },
    {
     "name": "stdout",
     "output_type": "stream",
     "text": [
      "Chunk 139 RMSE (constrained): 0.232047\n"
     ]
    },
    {
     "name": "stderr",
     "output_type": "stream",
     "text": [
      "C:\\Users\\wp7528\\AppData\\Roaming\\Python\\Python310\\site-packages\\pysindy\\optimizers\\constrained_sr3.py:463: ConvergenceWarning: SR3._reduce did not converge after 30 iterations.\n",
      "  warnings.warn(\n"
     ]
    },
    {
     "name": "stdout",
     "output_type": "stream",
     "text": [
      "Chunk 140 RMSE (constrained): 0.085365\n"
     ]
    },
    {
     "name": "stderr",
     "output_type": "stream",
     "text": [
      "C:\\Users\\wp7528\\AppData\\Roaming\\Python\\Python310\\site-packages\\pysindy\\optimizers\\constrained_sr3.py:463: ConvergenceWarning: SR3._reduce did not converge after 30 iterations.\n",
      "  warnings.warn(\n"
     ]
    },
    {
     "name": "stdout",
     "output_type": "stream",
     "text": [
      "Chunk 141 RMSE (constrained): 0.124277\n",
      "Chunk 142 RMSE (constrained): 0.106661\n",
      "Chunk 143 RMSE (constrained): 0.126268\n",
      "Chunk 144 RMSE (constrained): 0.096425\n"
     ]
    },
    {
     "name": "stderr",
     "output_type": "stream",
     "text": [
      "C:\\Users\\wp7528\\AppData\\Roaming\\Python\\Python310\\site-packages\\pysindy\\optimizers\\constrained_sr3.py:463: ConvergenceWarning: SR3._reduce did not converge after 30 iterations.\n",
      "  warnings.warn(\n"
     ]
    },
    {
     "name": "stdout",
     "output_type": "stream",
     "text": [
      "Chunk 145 RMSE (constrained): 0.080199\n",
      "Chunk 146 RMSE (constrained): 0.160256\n"
     ]
    },
    {
     "name": "stderr",
     "output_type": "stream",
     "text": [
      "C:\\Users\\wp7528\\AppData\\Roaming\\Python\\Python310\\site-packages\\pysindy\\optimizers\\constrained_sr3.py:463: ConvergenceWarning: SR3._reduce did not converge after 30 iterations.\n",
      "  warnings.warn(\n"
     ]
    },
    {
     "name": "stdout",
     "output_type": "stream",
     "text": [
      "Chunk 147 RMSE (constrained): 0.152918\n",
      "Chunk 148 RMSE (constrained): 0.128852\n"
     ]
    },
    {
     "name": "stderr",
     "output_type": "stream",
     "text": [
      "C:\\Users\\wp7528\\AppData\\Roaming\\Python\\Python310\\site-packages\\pysindy\\optimizers\\constrained_sr3.py:463: ConvergenceWarning: SR3._reduce did not converge after 30 iterations.\n",
      "  warnings.warn(\n"
     ]
    },
    {
     "name": "stdout",
     "output_type": "stream",
     "text": [
      "Chunk 149 RMSE (constrained): 0.163940\n"
     ]
    },
    {
     "name": "stderr",
     "output_type": "stream",
     "text": [
      "C:\\Users\\wp7528\\AppData\\Roaming\\Python\\Python310\\site-packages\\pysindy\\optimizers\\constrained_sr3.py:463: ConvergenceWarning: SR3._reduce did not converge after 30 iterations.\n",
      "  warnings.warn(\n"
     ]
    },
    {
     "name": "stdout",
     "output_type": "stream",
     "text": [
      "Chunk 150 RMSE (constrained): 0.070921\n",
      "Chunk 151 RMSE (constrained): 0.091488\n"
     ]
    },
    {
     "name": "stderr",
     "output_type": "stream",
     "text": [
      "C:\\Users\\wp7528\\AppData\\Roaming\\Python\\Python310\\site-packages\\pysindy\\optimizers\\constrained_sr3.py:463: ConvergenceWarning: SR3._reduce did not converge after 30 iterations.\n",
      "  warnings.warn(\n"
     ]
    },
    {
     "name": "stdout",
     "output_type": "stream",
     "text": [
      "Chunk 152 RMSE (constrained): 0.128253\n"
     ]
    },
    {
     "name": "stderr",
     "output_type": "stream",
     "text": [
      "C:\\Users\\wp7528\\AppData\\Roaming\\Python\\Python310\\site-packages\\pysindy\\optimizers\\constrained_sr3.py:463: ConvergenceWarning: SR3._reduce did not converge after 30 iterations.\n",
      "  warnings.warn(\n"
     ]
    },
    {
     "name": "stdout",
     "output_type": "stream",
     "text": [
      "Chunk 153 RMSE (constrained): 0.063723\n"
     ]
    },
    {
     "name": "stderr",
     "output_type": "stream",
     "text": [
      "C:\\Users\\wp7528\\AppData\\Roaming\\Python\\Python310\\site-packages\\pysindy\\optimizers\\constrained_sr3.py:463: ConvergenceWarning: SR3._reduce did not converge after 30 iterations.\n",
      "  warnings.warn(\n"
     ]
    },
    {
     "name": "stdout",
     "output_type": "stream",
     "text": [
      "Chunk 154 RMSE (constrained): 0.061034\n"
     ]
    },
    {
     "name": "stderr",
     "output_type": "stream",
     "text": [
      "C:\\Users\\wp7528\\AppData\\Roaming\\Python\\Python310\\site-packages\\pysindy\\optimizers\\constrained_sr3.py:463: ConvergenceWarning: SR3._reduce did not converge after 30 iterations.\n",
      "  warnings.warn(\n"
     ]
    },
    {
     "name": "stdout",
     "output_type": "stream",
     "text": [
      "Chunk 155 RMSE (constrained): 0.053618\n"
     ]
    },
    {
     "name": "stderr",
     "output_type": "stream",
     "text": [
      "C:\\Users\\wp7528\\AppData\\Roaming\\Python\\Python310\\site-packages\\pysindy\\optimizers\\constrained_sr3.py:463: ConvergenceWarning: SR3._reduce did not converge after 30 iterations.\n",
      "  warnings.warn(\n"
     ]
    },
    {
     "name": "stdout",
     "output_type": "stream",
     "text": [
      "Chunk 156 RMSE (constrained): 0.097177\n",
      "Chunk 157 RMSE (constrained): 0.062532\n"
     ]
    },
    {
     "name": "stderr",
     "output_type": "stream",
     "text": [
      "C:\\Users\\wp7528\\AppData\\Roaming\\Python\\Python310\\site-packages\\pysindy\\optimizers\\constrained_sr3.py:463: ConvergenceWarning: SR3._reduce did not converge after 30 iterations.\n",
      "  warnings.warn(\n"
     ]
    },
    {
     "name": "stdout",
     "output_type": "stream",
     "text": [
      "Chunk 158 RMSE (constrained): 0.066974\n"
     ]
    },
    {
     "name": "stderr",
     "output_type": "stream",
     "text": [
      "C:\\Users\\wp7528\\AppData\\Roaming\\Python\\Python310\\site-packages\\pysindy\\optimizers\\constrained_sr3.py:463: ConvergenceWarning: SR3._reduce did not converge after 30 iterations.\n",
      "  warnings.warn(\n"
     ]
    },
    {
     "name": "stdout",
     "output_type": "stream",
     "text": [
      "Chunk 159 RMSE (constrained): 0.078918\n"
     ]
    },
    {
     "name": "stderr",
     "output_type": "stream",
     "text": [
      "C:\\Users\\wp7528\\AppData\\Roaming\\Python\\Python310\\site-packages\\pysindy\\optimizers\\constrained_sr3.py:463: ConvergenceWarning: SR3._reduce did not converge after 30 iterations.\n",
      "  warnings.warn(\n"
     ]
    },
    {
     "name": "stdout",
     "output_type": "stream",
     "text": [
      "Chunk 160 RMSE (constrained): 0.076900\n"
     ]
    },
    {
     "name": "stderr",
     "output_type": "stream",
     "text": [
      "C:\\Users\\wp7528\\AppData\\Roaming\\Python\\Python310\\site-packages\\pysindy\\optimizers\\constrained_sr3.py:463: ConvergenceWarning: SR3._reduce did not converge after 30 iterations.\n",
      "  warnings.warn(\n"
     ]
    },
    {
     "name": "stdout",
     "output_type": "stream",
     "text": [
      "Chunk 161 RMSE (constrained): 0.147556\n"
     ]
    },
    {
     "name": "stderr",
     "output_type": "stream",
     "text": [
      "C:\\Users\\wp7528\\AppData\\Roaming\\Python\\Python310\\site-packages\\pysindy\\optimizers\\constrained_sr3.py:463: ConvergenceWarning: SR3._reduce did not converge after 30 iterations.\n",
      "  warnings.warn(\n"
     ]
    },
    {
     "name": "stdout",
     "output_type": "stream",
     "text": [
      "Chunk 162 RMSE (constrained): 0.095905\n",
      "Chunk 163 RMSE (constrained): 0.083939\n"
     ]
    },
    {
     "name": "stderr",
     "output_type": "stream",
     "text": [
      "C:\\Users\\wp7528\\AppData\\Roaming\\Python\\Python310\\site-packages\\pysindy\\optimizers\\constrained_sr3.py:463: ConvergenceWarning: SR3._reduce did not converge after 30 iterations.\n",
      "  warnings.warn(\n"
     ]
    },
    {
     "name": "stdout",
     "output_type": "stream",
     "text": [
      "Chunk 164 RMSE (constrained): 0.112967\n"
     ]
    },
    {
     "name": "stderr",
     "output_type": "stream",
     "text": [
      "C:\\Users\\wp7528\\AppData\\Roaming\\Python\\Python310\\site-packages\\pysindy\\optimizers\\constrained_sr3.py:463: ConvergenceWarning: SR3._reduce did not converge after 30 iterations.\n",
      "  warnings.warn(\n"
     ]
    },
    {
     "name": "stdout",
     "output_type": "stream",
     "text": [
      "Chunk 165 RMSE (constrained): 0.098401\n"
     ]
    },
    {
     "name": "stderr",
     "output_type": "stream",
     "text": [
      "C:\\Users\\wp7528\\AppData\\Roaming\\Python\\Python310\\site-packages\\pysindy\\optimizers\\constrained_sr3.py:463: ConvergenceWarning: SR3._reduce did not converge after 30 iterations.\n",
      "  warnings.warn(\n"
     ]
    },
    {
     "name": "stdout",
     "output_type": "stream",
     "text": [
      "Chunk 166 RMSE (constrained): 0.103081\n"
     ]
    },
    {
     "name": "stderr",
     "output_type": "stream",
     "text": [
      "C:\\Users\\wp7528\\AppData\\Roaming\\Python\\Python310\\site-packages\\pysindy\\optimizers\\constrained_sr3.py:463: ConvergenceWarning: SR3._reduce did not converge after 30 iterations.\n",
      "  warnings.warn(\n"
     ]
    },
    {
     "name": "stdout",
     "output_type": "stream",
     "text": [
      "Chunk 167 RMSE (constrained): 0.082930\n",
      "Chunk 168 RMSE (constrained): 0.167411\n",
      "Chunk 169 RMSE (constrained): 0.103596\n"
     ]
    },
    {
     "name": "stderr",
     "output_type": "stream",
     "text": [
      "C:\\Users\\wp7528\\AppData\\Roaming\\Python\\Python310\\site-packages\\pysindy\\optimizers\\constrained_sr3.py:463: ConvergenceWarning: SR3._reduce did not converge after 30 iterations.\n",
      "  warnings.warn(\n"
     ]
    },
    {
     "name": "stdout",
     "output_type": "stream",
     "text": [
      "Chunk 170 RMSE (constrained): 0.119344\n"
     ]
    },
    {
     "name": "stderr",
     "output_type": "stream",
     "text": [
      "C:\\Users\\wp7528\\AppData\\Roaming\\Python\\Python310\\site-packages\\pysindy\\optimizers\\constrained_sr3.py:463: ConvergenceWarning: SR3._reduce did not converge after 30 iterations.\n",
      "  warnings.warn(\n"
     ]
    },
    {
     "name": "stdout",
     "output_type": "stream",
     "text": [
      "Chunk 171 RMSE (constrained): 0.146426\n"
     ]
    },
    {
     "name": "stderr",
     "output_type": "stream",
     "text": [
      "C:\\Users\\wp7528\\AppData\\Roaming\\Python\\Python310\\site-packages\\pysindy\\optimizers\\constrained_sr3.py:463: ConvergenceWarning: SR3._reduce did not converge after 30 iterations.\n",
      "  warnings.warn(\n"
     ]
    },
    {
     "name": "stdout",
     "output_type": "stream",
     "text": [
      "Chunk 172 RMSE (constrained): 0.071750\n"
     ]
    },
    {
     "name": "stderr",
     "output_type": "stream",
     "text": [
      "C:\\Users\\wp7528\\AppData\\Roaming\\Python\\Python310\\site-packages\\pysindy\\optimizers\\constrained_sr3.py:463: ConvergenceWarning: SR3._reduce did not converge after 30 iterations.\n",
      "  warnings.warn(\n"
     ]
    },
    {
     "name": "stdout",
     "output_type": "stream",
     "text": [
      "Chunk 173 RMSE (constrained): 0.060023\n"
     ]
    },
    {
     "name": "stderr",
     "output_type": "stream",
     "text": [
      "C:\\Users\\wp7528\\AppData\\Roaming\\Python\\Python310\\site-packages\\pysindy\\optimizers\\constrained_sr3.py:463: ConvergenceWarning: SR3._reduce did not converge after 30 iterations.\n",
      "  warnings.warn(\n"
     ]
    },
    {
     "name": "stdout",
     "output_type": "stream",
     "text": [
      "Chunk 174 RMSE (constrained): 0.134646\n"
     ]
    },
    {
     "name": "stderr",
     "output_type": "stream",
     "text": [
      "C:\\Users\\wp7528\\AppData\\Roaming\\Python\\Python310\\site-packages\\pysindy\\optimizers\\constrained_sr3.py:463: ConvergenceWarning: SR3._reduce did not converge after 30 iterations.\n",
      "  warnings.warn(\n"
     ]
    },
    {
     "name": "stdout",
     "output_type": "stream",
     "text": [
      "Chunk 175 RMSE (constrained): 0.176510\n",
      "Chunk 176 RMSE (constrained): 0.180305\n",
      "Chunk 177 RMSE (constrained): 0.158906\n"
     ]
    },
    {
     "name": "stderr",
     "output_type": "stream",
     "text": [
      "C:\\Users\\wp7528\\AppData\\Roaming\\Python\\Python310\\site-packages\\pysindy\\optimizers\\constrained_sr3.py:463: ConvergenceWarning: SR3._reduce did not converge after 30 iterations.\n",
      "  warnings.warn(\n"
     ]
    },
    {
     "name": "stdout",
     "output_type": "stream",
     "text": [
      "Chunk 178 RMSE (constrained): 0.075960\n"
     ]
    },
    {
     "name": "stderr",
     "output_type": "stream",
     "text": [
      "C:\\Users\\wp7528\\AppData\\Roaming\\Python\\Python310\\site-packages\\pysindy\\optimizers\\constrained_sr3.py:463: ConvergenceWarning: SR3._reduce did not converge after 30 iterations.\n",
      "  warnings.warn(\n"
     ]
    },
    {
     "name": "stdout",
     "output_type": "stream",
     "text": [
      "Chunk 179 RMSE (constrained): 0.125358\n"
     ]
    },
    {
     "name": "stderr",
     "output_type": "stream",
     "text": [
      "C:\\Users\\wp7528\\AppData\\Roaming\\Python\\Python310\\site-packages\\pysindy\\optimizers\\constrained_sr3.py:463: ConvergenceWarning: SR3._reduce did not converge after 30 iterations.\n",
      "  warnings.warn(\n"
     ]
    },
    {
     "name": "stdout",
     "output_type": "stream",
     "text": [
      "Chunk 180 RMSE (constrained): 0.126749\n"
     ]
    },
    {
     "name": "stderr",
     "output_type": "stream",
     "text": [
      "C:\\Users\\wp7528\\AppData\\Roaming\\Python\\Python310\\site-packages\\pysindy\\optimizers\\constrained_sr3.py:463: ConvergenceWarning: SR3._reduce did not converge after 30 iterations.\n",
      "  warnings.warn(\n"
     ]
    },
    {
     "name": "stdout",
     "output_type": "stream",
     "text": [
      "Chunk 181 RMSE (constrained): 0.071031\n",
      "Chunk 182 RMSE (constrained): 0.106623\n"
     ]
    },
    {
     "name": "stderr",
     "output_type": "stream",
     "text": [
      "C:\\Users\\wp7528\\AppData\\Roaming\\Python\\Python310\\site-packages\\pysindy\\optimizers\\constrained_sr3.py:463: ConvergenceWarning: SR3._reduce did not converge after 30 iterations.\n",
      "  warnings.warn(\n"
     ]
    },
    {
     "name": "stdout",
     "output_type": "stream",
     "text": [
      "Chunk 183 RMSE (constrained): 0.105738\n"
     ]
    },
    {
     "name": "stderr",
     "output_type": "stream",
     "text": [
      "C:\\Users\\wp7528\\AppData\\Roaming\\Python\\Python310\\site-packages\\pysindy\\optimizers\\constrained_sr3.py:463: ConvergenceWarning: SR3._reduce did not converge after 30 iterations.\n",
      "  warnings.warn(\n"
     ]
    },
    {
     "name": "stdout",
     "output_type": "stream",
     "text": [
      "Chunk 184 RMSE (constrained): 0.136976\n"
     ]
    },
    {
     "name": "stderr",
     "output_type": "stream",
     "text": [
      "C:\\Users\\wp7528\\AppData\\Roaming\\Python\\Python310\\site-packages\\pysindy\\optimizers\\constrained_sr3.py:463: ConvergenceWarning: SR3._reduce did not converge after 30 iterations.\n",
      "  warnings.warn(\n"
     ]
    },
    {
     "name": "stdout",
     "output_type": "stream",
     "text": [
      "Chunk 185 RMSE (constrained): 0.081252\n"
     ]
    },
    {
     "name": "stderr",
     "output_type": "stream",
     "text": [
      "C:\\Users\\wp7528\\AppData\\Roaming\\Python\\Python310\\site-packages\\pysindy\\optimizers\\constrained_sr3.py:463: ConvergenceWarning: SR3._reduce did not converge after 30 iterations.\n",
      "  warnings.warn(\n"
     ]
    },
    {
     "name": "stdout",
     "output_type": "stream",
     "text": [
      "Chunk 186 RMSE (constrained): 0.088610\n"
     ]
    },
    {
     "name": "stderr",
     "output_type": "stream",
     "text": [
      "C:\\Users\\wp7528\\AppData\\Roaming\\Python\\Python310\\site-packages\\pysindy\\optimizers\\constrained_sr3.py:463: ConvergenceWarning: SR3._reduce did not converge after 30 iterations.\n",
      "  warnings.warn(\n"
     ]
    },
    {
     "name": "stdout",
     "output_type": "stream",
     "text": [
      "Chunk 187 RMSE (constrained): 0.090775\n"
     ]
    },
    {
     "name": "stderr",
     "output_type": "stream",
     "text": [
      "C:\\Users\\wp7528\\AppData\\Roaming\\Python\\Python310\\site-packages\\pysindy\\optimizers\\constrained_sr3.py:463: ConvergenceWarning: SR3._reduce did not converge after 30 iterations.\n",
      "  warnings.warn(\n"
     ]
    },
    {
     "name": "stdout",
     "output_type": "stream",
     "text": [
      "Chunk 188 RMSE (constrained): 0.110673\n"
     ]
    },
    {
     "name": "stderr",
     "output_type": "stream",
     "text": [
      "C:\\Users\\wp7528\\AppData\\Roaming\\Python\\Python310\\site-packages\\pysindy\\optimizers\\constrained_sr3.py:463: ConvergenceWarning: SR3._reduce did not converge after 30 iterations.\n",
      "  warnings.warn(\n"
     ]
    },
    {
     "name": "stdout",
     "output_type": "stream",
     "text": [
      "Chunk 189 RMSE (constrained): 0.113310\n"
     ]
    },
    {
     "name": "stderr",
     "output_type": "stream",
     "text": [
      "C:\\Users\\wp7528\\AppData\\Roaming\\Python\\Python310\\site-packages\\pysindy\\optimizers\\constrained_sr3.py:463: ConvergenceWarning: SR3._reduce did not converge after 30 iterations.\n",
      "  warnings.warn(\n"
     ]
    },
    {
     "name": "stdout",
     "output_type": "stream",
     "text": [
      "Chunk 190 RMSE (constrained): 0.134413\n"
     ]
    },
    {
     "name": "stderr",
     "output_type": "stream",
     "text": [
      "C:\\Users\\wp7528\\AppData\\Roaming\\Python\\Python310\\site-packages\\pysindy\\optimizers\\constrained_sr3.py:463: ConvergenceWarning: SR3._reduce did not converge after 30 iterations.\n",
      "  warnings.warn(\n"
     ]
    },
    {
     "name": "stdout",
     "output_type": "stream",
     "text": [
      "Chunk 191 RMSE (constrained): 0.104534\n"
     ]
    },
    {
     "name": "stderr",
     "output_type": "stream",
     "text": [
      "C:\\Users\\wp7528\\AppData\\Roaming\\Python\\Python310\\site-packages\\pysindy\\optimizers\\constrained_sr3.py:463: ConvergenceWarning: SR3._reduce did not converge after 30 iterations.\n",
      "  warnings.warn(\n"
     ]
    },
    {
     "name": "stdout",
     "output_type": "stream",
     "text": [
      "Chunk 192 RMSE (constrained): 0.117001\n"
     ]
    },
    {
     "name": "stderr",
     "output_type": "stream",
     "text": [
      "C:\\Users\\wp7528\\AppData\\Roaming\\Python\\Python310\\site-packages\\pysindy\\optimizers\\constrained_sr3.py:463: ConvergenceWarning: SR3._reduce did not converge after 30 iterations.\n",
      "  warnings.warn(\n"
     ]
    },
    {
     "name": "stdout",
     "output_type": "stream",
     "text": [
      "Chunk 193 RMSE (constrained): 0.124805\n",
      "Chunk 194 RMSE (constrained): 0.134109\n",
      "Chunk 195 RMSE (constrained): 0.205895\n"
     ]
    },
    {
     "name": "stderr",
     "output_type": "stream",
     "text": [
      "C:\\Users\\wp7528\\AppData\\Roaming\\Python\\Python310\\site-packages\\pysindy\\optimizers\\constrained_sr3.py:463: ConvergenceWarning: SR3._reduce did not converge after 30 iterations.\n",
      "  warnings.warn(\n"
     ]
    },
    {
     "name": "stdout",
     "output_type": "stream",
     "text": [
      "Chunk 196 RMSE (constrained): 0.127942\n"
     ]
    },
    {
     "name": "stderr",
     "output_type": "stream",
     "text": [
      "C:\\Users\\wp7528\\AppData\\Roaming\\Python\\Python310\\site-packages\\pysindy\\optimizers\\constrained_sr3.py:463: ConvergenceWarning: SR3._reduce did not converge after 30 iterations.\n",
      "  warnings.warn(\n"
     ]
    },
    {
     "name": "stdout",
     "output_type": "stream",
     "text": [
      "Chunk 197 RMSE (constrained): 0.115553\n"
     ]
    },
    {
     "name": "stderr",
     "output_type": "stream",
     "text": [
      "C:\\Users\\wp7528\\AppData\\Roaming\\Python\\Python310\\site-packages\\pysindy\\optimizers\\constrained_sr3.py:463: ConvergenceWarning: SR3._reduce did not converge after 30 iterations.\n",
      "  warnings.warn(\n"
     ]
    },
    {
     "name": "stdout",
     "output_type": "stream",
     "text": [
      "Chunk 198 RMSE (constrained): 0.156116\n"
     ]
    },
    {
     "name": "stderr",
     "output_type": "stream",
     "text": [
      "C:\\Users\\wp7528\\AppData\\Roaming\\Python\\Python310\\site-packages\\pysindy\\optimizers\\constrained_sr3.py:463: ConvergenceWarning: SR3._reduce did not converge after 30 iterations.\n",
      "  warnings.warn(\n"
     ]
    },
    {
     "name": "stdout",
     "output_type": "stream",
     "text": [
      "Chunk 199 RMSE (constrained): 0.095521\n"
     ]
    },
    {
     "name": "stderr",
     "output_type": "stream",
     "text": [
      "C:\\Users\\wp7528\\AppData\\Roaming\\Python\\Python310\\site-packages\\pysindy\\optimizers\\constrained_sr3.py:463: ConvergenceWarning: SR3._reduce did not converge after 30 iterations.\n",
      "  warnings.warn(\n"
     ]
    },
    {
     "name": "stdout",
     "output_type": "stream",
     "text": [
      "Chunk 200 RMSE (constrained): 0.083438\n"
     ]
    },
    {
     "name": "stderr",
     "output_type": "stream",
     "text": [
      "C:\\Users\\wp7528\\AppData\\Roaming\\Python\\Python310\\site-packages\\pysindy\\optimizers\\constrained_sr3.py:463: ConvergenceWarning: SR3._reduce did not converge after 30 iterations.\n",
      "  warnings.warn(\n"
     ]
    },
    {
     "name": "stdout",
     "output_type": "stream",
     "text": [
      "Chunk 201 RMSE (constrained): 0.108803\n"
     ]
    },
    {
     "name": "stderr",
     "output_type": "stream",
     "text": [
      "C:\\Users\\wp7528\\AppData\\Roaming\\Python\\Python310\\site-packages\\pysindy\\optimizers\\constrained_sr3.py:463: ConvergenceWarning: SR3._reduce did not converge after 30 iterations.\n",
      "  warnings.warn(\n"
     ]
    },
    {
     "name": "stdout",
     "output_type": "stream",
     "text": [
      "Chunk 202 RMSE (constrained): 0.086384\n"
     ]
    },
    {
     "name": "stderr",
     "output_type": "stream",
     "text": [
      "C:\\Users\\wp7528\\AppData\\Roaming\\Python\\Python310\\site-packages\\pysindy\\optimizers\\constrained_sr3.py:463: ConvergenceWarning: SR3._reduce did not converge after 30 iterations.\n",
      "  warnings.warn(\n"
     ]
    },
    {
     "name": "stdout",
     "output_type": "stream",
     "text": [
      "Chunk 203 RMSE (constrained): 0.230546\n"
     ]
    },
    {
     "name": "stderr",
     "output_type": "stream",
     "text": [
      "C:\\Users\\wp7528\\AppData\\Roaming\\Python\\Python310\\site-packages\\pysindy\\optimizers\\constrained_sr3.py:463: ConvergenceWarning: SR3._reduce did not converge after 30 iterations.\n",
      "  warnings.warn(\n"
     ]
    },
    {
     "name": "stdout",
     "output_type": "stream",
     "text": [
      "Chunk 204 RMSE (constrained): 0.116981\n"
     ]
    },
    {
     "name": "stderr",
     "output_type": "stream",
     "text": [
      "C:\\Users\\wp7528\\AppData\\Roaming\\Python\\Python310\\site-packages\\pysindy\\optimizers\\constrained_sr3.py:463: ConvergenceWarning: SR3._reduce did not converge after 30 iterations.\n",
      "  warnings.warn(\n"
     ]
    },
    {
     "name": "stdout",
     "output_type": "stream",
     "text": [
      "Chunk 205 RMSE (constrained): 0.085075\n"
     ]
    },
    {
     "name": "stderr",
     "output_type": "stream",
     "text": [
      "C:\\Users\\wp7528\\AppData\\Roaming\\Python\\Python310\\site-packages\\pysindy\\optimizers\\constrained_sr3.py:463: ConvergenceWarning: SR3._reduce did not converge after 30 iterations.\n",
      "  warnings.warn(\n"
     ]
    },
    {
     "name": "stdout",
     "output_type": "stream",
     "text": [
      "Chunk 206 RMSE (constrained): 0.073775\n"
     ]
    },
    {
     "name": "stderr",
     "output_type": "stream",
     "text": [
      "C:\\Users\\wp7528\\AppData\\Roaming\\Python\\Python310\\site-packages\\pysindy\\optimizers\\constrained_sr3.py:463: ConvergenceWarning: SR3._reduce did not converge after 30 iterations.\n",
      "  warnings.warn(\n"
     ]
    },
    {
     "name": "stdout",
     "output_type": "stream",
     "text": [
      "Chunk 207 RMSE (constrained): 0.069308\n",
      "Chunk 208 RMSE (constrained): 0.161234\n"
     ]
    },
    {
     "name": "stderr",
     "output_type": "stream",
     "text": [
      "C:\\Users\\wp7528\\AppData\\Roaming\\Python\\Python310\\site-packages\\pysindy\\optimizers\\constrained_sr3.py:463: ConvergenceWarning: SR3._reduce did not converge after 30 iterations.\n",
      "  warnings.warn(\n"
     ]
    },
    {
     "name": "stdout",
     "output_type": "stream",
     "text": [
      "Chunk 209 RMSE (constrained): 0.084278\n"
     ]
    },
    {
     "name": "stderr",
     "output_type": "stream",
     "text": [
      "C:\\Users\\wp7528\\AppData\\Roaming\\Python\\Python310\\site-packages\\pysindy\\optimizers\\constrained_sr3.py:463: ConvergenceWarning: SR3._reduce did not converge after 30 iterations.\n",
      "  warnings.warn(\n"
     ]
    },
    {
     "name": "stdout",
     "output_type": "stream",
     "text": [
      "Chunk 210 RMSE (constrained): 0.115149\n"
     ]
    },
    {
     "name": "stderr",
     "output_type": "stream",
     "text": [
      "C:\\Users\\wp7528\\AppData\\Roaming\\Python\\Python310\\site-packages\\pysindy\\optimizers\\constrained_sr3.py:463: ConvergenceWarning: SR3._reduce did not converge after 30 iterations.\n",
      "  warnings.warn(\n"
     ]
    },
    {
     "name": "stdout",
     "output_type": "stream",
     "text": [
      "Chunk 211 RMSE (constrained): 0.077099\n",
      "Chunk 212 RMSE (constrained): 0.088821\n"
     ]
    },
    {
     "name": "stderr",
     "output_type": "stream",
     "text": [
      "C:\\Users\\wp7528\\AppData\\Roaming\\Python\\Python310\\site-packages\\pysindy\\optimizers\\constrained_sr3.py:463: ConvergenceWarning: SR3._reduce did not converge after 30 iterations.\n",
      "  warnings.warn(\n"
     ]
    },
    {
     "name": "stdout",
     "output_type": "stream",
     "text": [
      "Chunk 213 RMSE (constrained): 0.098228\n"
     ]
    },
    {
     "name": "stderr",
     "output_type": "stream",
     "text": [
      "C:\\Users\\wp7528\\AppData\\Roaming\\Python\\Python310\\site-packages\\pysindy\\optimizers\\constrained_sr3.py:463: ConvergenceWarning: SR3._reduce did not converge after 30 iterations.\n",
      "  warnings.warn(\n"
     ]
    },
    {
     "name": "stdout",
     "output_type": "stream",
     "text": [
      "Chunk 214 RMSE (constrained): 0.097414\n"
     ]
    },
    {
     "name": "stderr",
     "output_type": "stream",
     "text": [
      "C:\\Users\\wp7528\\AppData\\Roaming\\Python\\Python310\\site-packages\\pysindy\\optimizers\\constrained_sr3.py:463: ConvergenceWarning: SR3._reduce did not converge after 30 iterations.\n",
      "  warnings.warn(\n"
     ]
    },
    {
     "name": "stdout",
     "output_type": "stream",
     "text": [
      "Chunk 215 RMSE (constrained): 0.131349\n"
     ]
    },
    {
     "name": "stderr",
     "output_type": "stream",
     "text": [
      "C:\\Users\\wp7528\\AppData\\Roaming\\Python\\Python310\\site-packages\\pysindy\\optimizers\\constrained_sr3.py:463: ConvergenceWarning: SR3._reduce did not converge after 30 iterations.\n",
      "  warnings.warn(\n"
     ]
    },
    {
     "name": "stdout",
     "output_type": "stream",
     "text": [
      "Chunk 216 RMSE (constrained): 0.087806\n",
      "Chunk 217 RMSE (constrained): 0.106313\n"
     ]
    },
    {
     "name": "stderr",
     "output_type": "stream",
     "text": [
      "C:\\Users\\wp7528\\AppData\\Roaming\\Python\\Python310\\site-packages\\pysindy\\optimizers\\constrained_sr3.py:463: ConvergenceWarning: SR3._reduce did not converge after 30 iterations.\n",
      "  warnings.warn(\n"
     ]
    },
    {
     "name": "stdout",
     "output_type": "stream",
     "text": [
      "Chunk 218 RMSE (constrained): 0.166009\n"
     ]
    },
    {
     "name": "stderr",
     "output_type": "stream",
     "text": [
      "C:\\Users\\wp7528\\AppData\\Roaming\\Python\\Python310\\site-packages\\pysindy\\optimizers\\constrained_sr3.py:463: ConvergenceWarning: SR3._reduce did not converge after 30 iterations.\n",
      "  warnings.warn(\n"
     ]
    },
    {
     "name": "stdout",
     "output_type": "stream",
     "text": [
      "Chunk 219 RMSE (constrained): 0.124612\n",
      "Chunk 220 RMSE (constrained): 0.152203\n",
      "Chunk 221 RMSE (constrained): 0.128121\n"
     ]
    },
    {
     "name": "stderr",
     "output_type": "stream",
     "text": [
      "C:\\Users\\wp7528\\AppData\\Roaming\\Python\\Python310\\site-packages\\pysindy\\optimizers\\constrained_sr3.py:463: ConvergenceWarning: SR3._reduce did not converge after 30 iterations.\n",
      "  warnings.warn(\n"
     ]
    },
    {
     "name": "stdout",
     "output_type": "stream",
     "text": [
      "Chunk 222 RMSE (constrained): 0.092626\n",
      "Chunk 223 RMSE (constrained): 0.082149\n",
      "Chunk 224 RMSE (constrained): 0.123664\n"
     ]
    },
    {
     "name": "stderr",
     "output_type": "stream",
     "text": [
      "C:\\Users\\wp7528\\AppData\\Roaming\\Python\\Python310\\site-packages\\pysindy\\optimizers\\constrained_sr3.py:463: ConvergenceWarning: SR3._reduce did not converge after 30 iterations.\n",
      "  warnings.warn(\n"
     ]
    },
    {
     "name": "stdout",
     "output_type": "stream",
     "text": [
      "Chunk 225 RMSE (constrained): 0.108640\n"
     ]
    },
    {
     "name": "stderr",
     "output_type": "stream",
     "text": [
      "C:\\Users\\wp7528\\AppData\\Roaming\\Python\\Python310\\site-packages\\pysindy\\optimizers\\constrained_sr3.py:463: ConvergenceWarning: SR3._reduce did not converge after 30 iterations.\n",
      "  warnings.warn(\n"
     ]
    },
    {
     "name": "stdout",
     "output_type": "stream",
     "text": [
      "Chunk 226 RMSE (constrained): 0.093194\n"
     ]
    },
    {
     "name": "stderr",
     "output_type": "stream",
     "text": [
      "C:\\Users\\wp7528\\AppData\\Roaming\\Python\\Python310\\site-packages\\pysindy\\optimizers\\constrained_sr3.py:463: ConvergenceWarning: SR3._reduce did not converge after 30 iterations.\n",
      "  warnings.warn(\n"
     ]
    },
    {
     "name": "stdout",
     "output_type": "stream",
     "text": [
      "Chunk 227 RMSE (constrained): 0.168202\n"
     ]
    },
    {
     "name": "stderr",
     "output_type": "stream",
     "text": [
      "C:\\Users\\wp7528\\AppData\\Roaming\\Python\\Python310\\site-packages\\pysindy\\optimizers\\constrained_sr3.py:463: ConvergenceWarning: SR3._reduce did not converge after 30 iterations.\n",
      "  warnings.warn(\n"
     ]
    },
    {
     "name": "stdout",
     "output_type": "stream",
     "text": [
      "Chunk 228 RMSE (constrained): 0.099739\n",
      "Chunk 229 RMSE (constrained): 0.102885\n"
     ]
    },
    {
     "name": "stderr",
     "output_type": "stream",
     "text": [
      "C:\\Users\\wp7528\\AppData\\Roaming\\Python\\Python310\\site-packages\\pysindy\\optimizers\\constrained_sr3.py:463: ConvergenceWarning: SR3._reduce did not converge after 30 iterations.\n",
      "  warnings.warn(\n"
     ]
    },
    {
     "name": "stdout",
     "output_type": "stream",
     "text": [
      "Chunk 230 RMSE (constrained): 0.052247\n"
     ]
    },
    {
     "name": "stderr",
     "output_type": "stream",
     "text": [
      "C:\\Users\\wp7528\\AppData\\Roaming\\Python\\Python310\\site-packages\\pysindy\\optimizers\\constrained_sr3.py:463: ConvergenceWarning: SR3._reduce did not converge after 30 iterations.\n",
      "  warnings.warn(\n"
     ]
    },
    {
     "name": "stdout",
     "output_type": "stream",
     "text": [
      "Chunk 231 RMSE (constrained): 0.133635\n",
      "Chunk 232 RMSE (constrained): 0.121275\n"
     ]
    },
    {
     "name": "stderr",
     "output_type": "stream",
     "text": [
      "C:\\Users\\wp7528\\AppData\\Roaming\\Python\\Python310\\site-packages\\pysindy\\optimizers\\constrained_sr3.py:463: ConvergenceWarning: SR3._reduce did not converge after 30 iterations.\n",
      "  warnings.warn(\n"
     ]
    },
    {
     "name": "stdout",
     "output_type": "stream",
     "text": [
      "Chunk 233 RMSE (constrained): 0.139983\n",
      "Chunk 234 RMSE (constrained): 0.106183\n"
     ]
    },
    {
     "name": "stderr",
     "output_type": "stream",
     "text": [
      "C:\\Users\\wp7528\\AppData\\Roaming\\Python\\Python310\\site-packages\\pysindy\\optimizers\\constrained_sr3.py:463: ConvergenceWarning: SR3._reduce did not converge after 30 iterations.\n",
      "  warnings.warn(\n"
     ]
    },
    {
     "name": "stdout",
     "output_type": "stream",
     "text": [
      "Chunk 235 RMSE (constrained): 0.217227\n",
      "Chunk 236 RMSE (constrained): 0.115560\n"
     ]
    },
    {
     "name": "stderr",
     "output_type": "stream",
     "text": [
      "C:\\Users\\wp7528\\AppData\\Roaming\\Python\\Python310\\site-packages\\pysindy\\optimizers\\constrained_sr3.py:463: ConvergenceWarning: SR3._reduce did not converge after 30 iterations.\n",
      "  warnings.warn(\n"
     ]
    },
    {
     "name": "stdout",
     "output_type": "stream",
     "text": [
      "Chunk 237 RMSE (constrained): 0.144641\n",
      "Chunk 238 RMSE (constrained): 0.182036\n"
     ]
    },
    {
     "name": "stderr",
     "output_type": "stream",
     "text": [
      "C:\\Users\\wp7528\\AppData\\Roaming\\Python\\Python310\\site-packages\\pysindy\\optimizers\\constrained_sr3.py:463: ConvergenceWarning: SR3._reduce did not converge after 30 iterations.\n",
      "  warnings.warn(\n"
     ]
    },
    {
     "name": "stdout",
     "output_type": "stream",
     "text": [
      "Chunk 239 RMSE (constrained): 0.089863\n"
     ]
    },
    {
     "name": "stderr",
     "output_type": "stream",
     "text": [
      "C:\\Users\\wp7528\\AppData\\Roaming\\Python\\Python310\\site-packages\\pysindy\\optimizers\\constrained_sr3.py:463: ConvergenceWarning: SR3._reduce did not converge after 30 iterations.\n",
      "  warnings.warn(\n"
     ]
    },
    {
     "name": "stdout",
     "output_type": "stream",
     "text": [
      "Chunk 240 RMSE (constrained): 0.084412\n",
      "Chunk 241 RMSE (constrained): 0.093821\n"
     ]
    },
    {
     "name": "stderr",
     "output_type": "stream",
     "text": [
      "C:\\Users\\wp7528\\AppData\\Roaming\\Python\\Python310\\site-packages\\pysindy\\optimizers\\constrained_sr3.py:463: ConvergenceWarning: SR3._reduce did not converge after 30 iterations.\n",
      "  warnings.warn(\n"
     ]
    },
    {
     "name": "stdout",
     "output_type": "stream",
     "text": [
      "Chunk 242 RMSE (constrained): 0.108587\n"
     ]
    },
    {
     "name": "stderr",
     "output_type": "stream",
     "text": [
      "C:\\Users\\wp7528\\AppData\\Roaming\\Python\\Python310\\site-packages\\pysindy\\optimizers\\constrained_sr3.py:463: ConvergenceWarning: SR3._reduce did not converge after 30 iterations.\n",
      "  warnings.warn(\n"
     ]
    },
    {
     "name": "stdout",
     "output_type": "stream",
     "text": [
      "Chunk 243 RMSE (constrained): 0.161492\n"
     ]
    },
    {
     "name": "stderr",
     "output_type": "stream",
     "text": [
      "C:\\Users\\wp7528\\AppData\\Roaming\\Python\\Python310\\site-packages\\pysindy\\optimizers\\constrained_sr3.py:463: ConvergenceWarning: SR3._reduce did not converge after 30 iterations.\n",
      "  warnings.warn(\n"
     ]
    },
    {
     "name": "stdout",
     "output_type": "stream",
     "text": [
      "Chunk 244 RMSE (constrained): 0.091258\n",
      "Chunk 245 RMSE (constrained): 0.145614\n"
     ]
    },
    {
     "name": "stderr",
     "output_type": "stream",
     "text": [
      "C:\\Users\\wp7528\\AppData\\Roaming\\Python\\Python310\\site-packages\\pysindy\\optimizers\\constrained_sr3.py:463: ConvergenceWarning: SR3._reduce did not converge after 30 iterations.\n",
      "  warnings.warn(\n",
      "C:\\Users\\wp7528\\AppData\\Roaming\\Python\\Python310\\site-packages\\pysindy\\optimizers\\constrained_sr3.py:463: ConvergenceWarning: SR3._reduce did not converge after 30 iterations.\n",
      "  warnings.warn(\n"
     ]
    },
    {
     "name": "stdout",
     "output_type": "stream",
     "text": [
      "Chunk 246 RMSE (constrained): 0.101859\n"
     ]
    },
    {
     "name": "stderr",
     "output_type": "stream",
     "text": [
      "C:\\Users\\wp7528\\AppData\\Roaming\\Python\\Python310\\site-packages\\pysindy\\optimizers\\constrained_sr3.py:463: ConvergenceWarning: SR3._reduce did not converge after 30 iterations.\n",
      "  warnings.warn(\n"
     ]
    },
    {
     "name": "stdout",
     "output_type": "stream",
     "text": [
      "Chunk 247 RMSE (constrained): 0.094505\n"
     ]
    },
    {
     "name": "stderr",
     "output_type": "stream",
     "text": [
      "C:\\Users\\wp7528\\AppData\\Roaming\\Python\\Python310\\site-packages\\pysindy\\optimizers\\constrained_sr3.py:463: ConvergenceWarning: SR3._reduce did not converge after 30 iterations.\n",
      "  warnings.warn(\n"
     ]
    },
    {
     "name": "stdout",
     "output_type": "stream",
     "text": [
      "Chunk 248 RMSE (constrained): 0.090321\n"
     ]
    },
    {
     "name": "stderr",
     "output_type": "stream",
     "text": [
      "C:\\Users\\wp7528\\AppData\\Roaming\\Python\\Python310\\site-packages\\pysindy\\optimizers\\constrained_sr3.py:463: ConvergenceWarning: SR3._reduce did not converge after 30 iterations.\n",
      "  warnings.warn(\n"
     ]
    },
    {
     "name": "stdout",
     "output_type": "stream",
     "text": [
      "Chunk 249 RMSE (constrained): 0.078432\n",
      "Chunk 250 RMSE (constrained): 0.111469\n"
     ]
    },
    {
     "name": "stderr",
     "output_type": "stream",
     "text": [
      "C:\\Users\\wp7528\\AppData\\Roaming\\Python\\Python310\\site-packages\\pysindy\\optimizers\\constrained_sr3.py:463: ConvergenceWarning: SR3._reduce did not converge after 30 iterations.\n",
      "  warnings.warn(\n"
     ]
    },
    {
     "name": "stdout",
     "output_type": "stream",
     "text": [
      "Chunk 251 RMSE (constrained): 0.082338\n"
     ]
    },
    {
     "name": "stderr",
     "output_type": "stream",
     "text": [
      "C:\\Users\\wp7528\\AppData\\Roaming\\Python\\Python310\\site-packages\\pysindy\\optimizers\\constrained_sr3.py:463: ConvergenceWarning: SR3._reduce did not converge after 30 iterations.\n",
      "  warnings.warn(\n"
     ]
    },
    {
     "name": "stdout",
     "output_type": "stream",
     "text": [
      "Chunk 252 RMSE (constrained): 0.066606\n"
     ]
    },
    {
     "name": "stderr",
     "output_type": "stream",
     "text": [
      "C:\\Users\\wp7528\\AppData\\Roaming\\Python\\Python310\\site-packages\\pysindy\\optimizers\\constrained_sr3.py:463: ConvergenceWarning: SR3._reduce did not converge after 30 iterations.\n",
      "  warnings.warn(\n"
     ]
    },
    {
     "name": "stdout",
     "output_type": "stream",
     "text": [
      "Chunk 253 RMSE (constrained): 0.070310\n",
      "Chunk 254 RMSE (constrained): 0.061764\n",
      "Chunk 255 RMSE (constrained): 0.057050\n"
     ]
    },
    {
     "name": "stderr",
     "output_type": "stream",
     "text": [
      "C:\\Users\\wp7528\\AppData\\Roaming\\Python\\Python310\\site-packages\\pysindy\\optimizers\\constrained_sr3.py:463: ConvergenceWarning: SR3._reduce did not converge after 30 iterations.\n",
      "  warnings.warn(\n"
     ]
    },
    {
     "name": "stdout",
     "output_type": "stream",
     "text": [
      "Chunk 256 RMSE (constrained): 0.087760\n"
     ]
    },
    {
     "name": "stderr",
     "output_type": "stream",
     "text": [
      "C:\\Users\\wp7528\\AppData\\Roaming\\Python\\Python310\\site-packages\\pysindy\\optimizers\\constrained_sr3.py:463: ConvergenceWarning: SR3._reduce did not converge after 30 iterations.\n",
      "  warnings.warn(\n"
     ]
    },
    {
     "name": "stdout",
     "output_type": "stream",
     "text": [
      "Chunk 257 RMSE (constrained): 0.095461\n"
     ]
    },
    {
     "name": "stderr",
     "output_type": "stream",
     "text": [
      "C:\\Users\\wp7528\\AppData\\Roaming\\Python\\Python310\\site-packages\\pysindy\\optimizers\\constrained_sr3.py:463: ConvergenceWarning: SR3._reduce did not converge after 30 iterations.\n",
      "  warnings.warn(\n"
     ]
    },
    {
     "name": "stdout",
     "output_type": "stream",
     "text": [
      "Chunk 258 RMSE (constrained): 0.093123\n"
     ]
    },
    {
     "name": "stderr",
     "output_type": "stream",
     "text": [
      "C:\\Users\\wp7528\\AppData\\Roaming\\Python\\Python310\\site-packages\\pysindy\\optimizers\\constrained_sr3.py:463: ConvergenceWarning: SR3._reduce did not converge after 30 iterations.\n",
      "  warnings.warn(\n"
     ]
    },
    {
     "name": "stdout",
     "output_type": "stream",
     "text": [
      "Chunk 259 RMSE (constrained): 0.138545\n"
     ]
    },
    {
     "name": "stderr",
     "output_type": "stream",
     "text": [
      "C:\\Users\\wp7528\\AppData\\Roaming\\Python\\Python310\\site-packages\\pysindy\\optimizers\\constrained_sr3.py:463: ConvergenceWarning: SR3._reduce did not converge after 30 iterations.\n",
      "  warnings.warn(\n"
     ]
    },
    {
     "name": "stdout",
     "output_type": "stream",
     "text": [
      "Chunk 260 RMSE (constrained): 0.094554\n",
      "Chunk 261 RMSE (constrained): 0.129523\n"
     ]
    },
    {
     "name": "stderr",
     "output_type": "stream",
     "text": [
      "C:\\Users\\wp7528\\AppData\\Roaming\\Python\\Python310\\site-packages\\pysindy\\optimizers\\constrained_sr3.py:463: ConvergenceWarning: SR3._reduce did not converge after 30 iterations.\n",
      "  warnings.warn(\n",
      "C:\\Users\\wp7528\\AppData\\Roaming\\Python\\Python310\\site-packages\\pysindy\\optimizers\\constrained_sr3.py:463: ConvergenceWarning: SR3._reduce did not converge after 30 iterations.\n",
      "  warnings.warn(\n"
     ]
    },
    {
     "name": "stdout",
     "output_type": "stream",
     "text": [
      "Chunk 262 RMSE (constrained): 0.105800\n",
      "Chunk 263 RMSE (constrained): 0.223558\n",
      "Chunk 264 RMSE (constrained): 0.117156\n"
     ]
    },
    {
     "name": "stderr",
     "output_type": "stream",
     "text": [
      "C:\\Users\\wp7528\\AppData\\Roaming\\Python\\Python310\\site-packages\\pysindy\\optimizers\\constrained_sr3.py:463: ConvergenceWarning: SR3._reduce did not converge after 30 iterations.\n",
      "  warnings.warn(\n"
     ]
    },
    {
     "name": "stdout",
     "output_type": "stream",
     "text": [
      "Chunk 265 RMSE (constrained): 0.079266\n"
     ]
    },
    {
     "name": "stderr",
     "output_type": "stream",
     "text": [
      "C:\\Users\\wp7528\\AppData\\Roaming\\Python\\Python310\\site-packages\\pysindy\\optimizers\\constrained_sr3.py:463: ConvergenceWarning: SR3._reduce did not converge after 30 iterations.\n",
      "  warnings.warn(\n"
     ]
    },
    {
     "name": "stdout",
     "output_type": "stream",
     "text": [
      "Chunk 266 RMSE (constrained): 0.094341\n"
     ]
    },
    {
     "name": "stderr",
     "output_type": "stream",
     "text": [
      "C:\\Users\\wp7528\\AppData\\Roaming\\Python\\Python310\\site-packages\\pysindy\\optimizers\\constrained_sr3.py:463: ConvergenceWarning: SR3._reduce did not converge after 30 iterations.\n",
      "  warnings.warn(\n"
     ]
    },
    {
     "name": "stdout",
     "output_type": "stream",
     "text": [
      "Chunk 267 RMSE (constrained): 0.095716\n"
     ]
    },
    {
     "name": "stderr",
     "output_type": "stream",
     "text": [
      "C:\\Users\\wp7528\\AppData\\Roaming\\Python\\Python310\\site-packages\\pysindy\\optimizers\\constrained_sr3.py:463: ConvergenceWarning: SR3._reduce did not converge after 30 iterations.\n",
      "  warnings.warn(\n"
     ]
    },
    {
     "name": "stdout",
     "output_type": "stream",
     "text": [
      "Chunk 268 RMSE (constrained): 0.065053\n"
     ]
    },
    {
     "name": "stderr",
     "output_type": "stream",
     "text": [
      "C:\\Users\\wp7528\\AppData\\Roaming\\Python\\Python310\\site-packages\\pysindy\\optimizers\\constrained_sr3.py:463: ConvergenceWarning: SR3._reduce did not converge after 30 iterations.\n",
      "  warnings.warn(\n"
     ]
    },
    {
     "name": "stdout",
     "output_type": "stream",
     "text": [
      "Chunk 269 RMSE (constrained): 0.073381\n"
     ]
    },
    {
     "name": "stderr",
     "output_type": "stream",
     "text": [
      "C:\\Users\\wp7528\\AppData\\Roaming\\Python\\Python310\\site-packages\\pysindy\\optimizers\\constrained_sr3.py:463: ConvergenceWarning: SR3._reduce did not converge after 30 iterations.\n",
      "  warnings.warn(\n"
     ]
    },
    {
     "name": "stdout",
     "output_type": "stream",
     "text": [
      "Chunk 270 RMSE (constrained): 0.049704\n",
      "Chunk 271 RMSE (constrained): 0.079219\n"
     ]
    },
    {
     "name": "stderr",
     "output_type": "stream",
     "text": [
      "C:\\Users\\wp7528\\AppData\\Roaming\\Python\\Python310\\site-packages\\pysindy\\optimizers\\constrained_sr3.py:463: ConvergenceWarning: SR3._reduce did not converge after 30 iterations.\n",
      "  warnings.warn(\n"
     ]
    },
    {
     "name": "stdout",
     "output_type": "stream",
     "text": [
      "Chunk 272 RMSE (constrained): 0.088536\n"
     ]
    },
    {
     "name": "stderr",
     "output_type": "stream",
     "text": [
      "C:\\Users\\wp7528\\AppData\\Roaming\\Python\\Python310\\site-packages\\pysindy\\optimizers\\constrained_sr3.py:463: ConvergenceWarning: SR3._reduce did not converge after 30 iterations.\n",
      "  warnings.warn(\n"
     ]
    },
    {
     "name": "stdout",
     "output_type": "stream",
     "text": [
      "Chunk 273 RMSE (constrained): 0.079699\n"
     ]
    },
    {
     "name": "stderr",
     "output_type": "stream",
     "text": [
      "C:\\Users\\wp7528\\AppData\\Roaming\\Python\\Python310\\site-packages\\pysindy\\optimizers\\constrained_sr3.py:463: ConvergenceWarning: SR3._reduce did not converge after 30 iterations.\n",
      "  warnings.warn(\n"
     ]
    },
    {
     "name": "stdout",
     "output_type": "stream",
     "text": [
      "Chunk 274 RMSE (constrained): 0.064972\n"
     ]
    },
    {
     "name": "stderr",
     "output_type": "stream",
     "text": [
      "C:\\Users\\wp7528\\AppData\\Roaming\\Python\\Python310\\site-packages\\pysindy\\optimizers\\constrained_sr3.py:463: ConvergenceWarning: SR3._reduce did not converge after 30 iterations.\n",
      "  warnings.warn(\n"
     ]
    },
    {
     "name": "stdout",
     "output_type": "stream",
     "text": [
      "Chunk 275 RMSE (constrained): 0.144715\n"
     ]
    },
    {
     "name": "stderr",
     "output_type": "stream",
     "text": [
      "C:\\Users\\wp7528\\AppData\\Roaming\\Python\\Python310\\site-packages\\pysindy\\optimizers\\constrained_sr3.py:463: ConvergenceWarning: SR3._reduce did not converge after 30 iterations.\n",
      "  warnings.warn(\n"
     ]
    },
    {
     "name": "stdout",
     "output_type": "stream",
     "text": [
      "Chunk 276 RMSE (constrained): 0.091561\n",
      "Chunk 277 RMSE (constrained): 0.078581\n",
      "Chunk 278 RMSE (constrained): 0.162363\n",
      "Chunk 279 RMSE (constrained): 0.143621\n"
     ]
    },
    {
     "name": "stderr",
     "output_type": "stream",
     "text": [
      "C:\\Users\\wp7528\\AppData\\Roaming\\Python\\Python310\\site-packages\\pysindy\\optimizers\\constrained_sr3.py:463: ConvergenceWarning: SR3._reduce did not converge after 30 iterations.\n",
      "  warnings.warn(\n"
     ]
    },
    {
     "name": "stdout",
     "output_type": "stream",
     "text": [
      "Chunk 280 RMSE (constrained): 0.080616\n"
     ]
    },
    {
     "name": "stderr",
     "output_type": "stream",
     "text": [
      "C:\\Users\\wp7528\\AppData\\Roaming\\Python\\Python310\\site-packages\\pysindy\\optimizers\\constrained_sr3.py:463: ConvergenceWarning: SR3._reduce did not converge after 30 iterations.\n",
      "  warnings.warn(\n"
     ]
    },
    {
     "name": "stdout",
     "output_type": "stream",
     "text": [
      "Chunk 281 RMSE (constrained): 0.134331\n"
     ]
    },
    {
     "name": "stderr",
     "output_type": "stream",
     "text": [
      "C:\\Users\\wp7528\\AppData\\Roaming\\Python\\Python310\\site-packages\\pysindy\\optimizers\\constrained_sr3.py:463: ConvergenceWarning: SR3._reduce did not converge after 30 iterations.\n",
      "  warnings.warn(\n"
     ]
    },
    {
     "name": "stdout",
     "output_type": "stream",
     "text": [
      "Chunk 282 RMSE (constrained): 0.190640\n"
     ]
    },
    {
     "name": "stderr",
     "output_type": "stream",
     "text": [
      "C:\\Users\\wp7528\\AppData\\Roaming\\Python\\Python310\\site-packages\\pysindy\\optimizers\\constrained_sr3.py:463: ConvergenceWarning: SR3._reduce did not converge after 30 iterations.\n",
      "  warnings.warn(\n"
     ]
    },
    {
     "name": "stdout",
     "output_type": "stream",
     "text": [
      "Chunk 283 RMSE (constrained): 0.117765\n",
      "Chunk 284 RMSE (constrained): 0.086071\n",
      "Chunk 285 RMSE (constrained): 0.156989\n",
      "Chunk 286 RMSE (constrained): 0.155401\n"
     ]
    },
    {
     "name": "stderr",
     "output_type": "stream",
     "text": [
      "C:\\Users\\wp7528\\AppData\\Roaming\\Python\\Python310\\site-packages\\pysindy\\optimizers\\constrained_sr3.py:463: ConvergenceWarning: SR3._reduce did not converge after 30 iterations.\n",
      "  warnings.warn(\n"
     ]
    },
    {
     "name": "stdout",
     "output_type": "stream",
     "text": [
      "Chunk 287 RMSE (constrained): 0.113400\n",
      "Chunk 288 RMSE (constrained): 0.147387\n"
     ]
    },
    {
     "name": "stderr",
     "output_type": "stream",
     "text": [
      "C:\\Users\\wp7528\\AppData\\Roaming\\Python\\Python310\\site-packages\\pysindy\\optimizers\\constrained_sr3.py:463: ConvergenceWarning: SR3._reduce did not converge after 30 iterations.\n",
      "  warnings.warn(\n"
     ]
    },
    {
     "name": "stdout",
     "output_type": "stream",
     "text": [
      "Chunk 289 RMSE (constrained): 0.213784\n",
      "Chunk 290 RMSE (constrained): 0.067615\n"
     ]
    },
    {
     "name": "stderr",
     "output_type": "stream",
     "text": [
      "C:\\Users\\wp7528\\AppData\\Roaming\\Python\\Python310\\site-packages\\pysindy\\optimizers\\constrained_sr3.py:463: ConvergenceWarning: SR3._reduce did not converge after 30 iterations.\n",
      "  warnings.warn(\n"
     ]
    },
    {
     "name": "stdout",
     "output_type": "stream",
     "text": [
      "Chunk 291 RMSE (constrained): 0.127820\n"
     ]
    },
    {
     "name": "stderr",
     "output_type": "stream",
     "text": [
      "C:\\Users\\wp7528\\AppData\\Roaming\\Python\\Python310\\site-packages\\pysindy\\optimizers\\constrained_sr3.py:463: ConvergenceWarning: SR3._reduce did not converge after 30 iterations.\n",
      "  warnings.warn(\n"
     ]
    },
    {
     "name": "stdout",
     "output_type": "stream",
     "text": [
      "Chunk 292 RMSE (constrained): 0.119127\n"
     ]
    },
    {
     "name": "stderr",
     "output_type": "stream",
     "text": [
      "C:\\Users\\wp7528\\AppData\\Roaming\\Python\\Python310\\site-packages\\pysindy\\optimizers\\constrained_sr3.py:463: ConvergenceWarning: SR3._reduce did not converge after 30 iterations.\n",
      "  warnings.warn(\n"
     ]
    },
    {
     "name": "stdout",
     "output_type": "stream",
     "text": [
      "Chunk 293 RMSE (constrained): 0.128715\n"
     ]
    },
    {
     "name": "stderr",
     "output_type": "stream",
     "text": [
      "C:\\Users\\wp7528\\AppData\\Roaming\\Python\\Python310\\site-packages\\pysindy\\optimizers\\constrained_sr3.py:463: ConvergenceWarning: SR3._reduce did not converge after 30 iterations.\n",
      "  warnings.warn(\n"
     ]
    },
    {
     "name": "stdout",
     "output_type": "stream",
     "text": [
      "Chunk 294 RMSE (constrained): 0.098562\n"
     ]
    },
    {
     "name": "stderr",
     "output_type": "stream",
     "text": [
      "C:\\Users\\wp7528\\AppData\\Roaming\\Python\\Python310\\site-packages\\pysindy\\optimizers\\constrained_sr3.py:463: ConvergenceWarning: SR3._reduce did not converge after 30 iterations.\n",
      "  warnings.warn(\n"
     ]
    },
    {
     "name": "stdout",
     "output_type": "stream",
     "text": [
      "Chunk 295 RMSE (constrained): 0.103647\n"
     ]
    },
    {
     "name": "stderr",
     "output_type": "stream",
     "text": [
      "C:\\Users\\wp7528\\AppData\\Roaming\\Python\\Python310\\site-packages\\pysindy\\optimizers\\constrained_sr3.py:463: ConvergenceWarning: SR3._reduce did not converge after 30 iterations.\n",
      "  warnings.warn(\n"
     ]
    },
    {
     "name": "stdout",
     "output_type": "stream",
     "text": [
      "Chunk 296 RMSE (constrained): 0.114249\n"
     ]
    },
    {
     "name": "stderr",
     "output_type": "stream",
     "text": [
      "C:\\Users\\wp7528\\AppData\\Roaming\\Python\\Python310\\site-packages\\pysindy\\optimizers\\constrained_sr3.py:463: ConvergenceWarning: SR3._reduce did not converge after 30 iterations.\n",
      "  warnings.warn(\n"
     ]
    },
    {
     "name": "stdout",
     "output_type": "stream",
     "text": [
      "Chunk 297 RMSE (constrained): 0.103544\n"
     ]
    },
    {
     "name": "stderr",
     "output_type": "stream",
     "text": [
      "C:\\Users\\wp7528\\AppData\\Roaming\\Python\\Python310\\site-packages\\pysindy\\optimizers\\constrained_sr3.py:463: ConvergenceWarning: SR3._reduce did not converge after 30 iterations.\n",
      "  warnings.warn(\n"
     ]
    },
    {
     "name": "stdout",
     "output_type": "stream",
     "text": [
      "Chunk 298 RMSE (constrained): 0.140616\n"
     ]
    },
    {
     "name": "stderr",
     "output_type": "stream",
     "text": [
      "C:\\Users\\wp7528\\AppData\\Roaming\\Python\\Python310\\site-packages\\pysindy\\optimizers\\constrained_sr3.py:463: ConvergenceWarning: SR3._reduce did not converge after 30 iterations.\n",
      "  warnings.warn(\n"
     ]
    },
    {
     "name": "stdout",
     "output_type": "stream",
     "text": [
      "Chunk 299 RMSE (constrained): 0.105819\n"
     ]
    },
    {
     "name": "stderr",
     "output_type": "stream",
     "text": [
      "C:\\Users\\wp7528\\AppData\\Roaming\\Python\\Python310\\site-packages\\pysindy\\optimizers\\constrained_sr3.py:463: ConvergenceWarning: SR3._reduce did not converge after 30 iterations.\n",
      "  warnings.warn(\n"
     ]
    },
    {
     "name": "stdout",
     "output_type": "stream",
     "text": [
      "Chunk 300 RMSE (constrained): 0.083380\n"
     ]
    },
    {
     "name": "stderr",
     "output_type": "stream",
     "text": [
      "C:\\Users\\wp7528\\AppData\\Roaming\\Python\\Python310\\site-packages\\pysindy\\optimizers\\constrained_sr3.py:463: ConvergenceWarning: SR3._reduce did not converge after 30 iterations.\n",
      "  warnings.warn(\n"
     ]
    },
    {
     "name": "stdout",
     "output_type": "stream",
     "text": [
      "Chunk 301 RMSE (constrained): 0.147484\n"
     ]
    },
    {
     "name": "stderr",
     "output_type": "stream",
     "text": [
      "C:\\Users\\wp7528\\AppData\\Roaming\\Python\\Python310\\site-packages\\pysindy\\optimizers\\constrained_sr3.py:463: ConvergenceWarning: SR3._reduce did not converge after 30 iterations.\n",
      "  warnings.warn(\n"
     ]
    },
    {
     "name": "stdout",
     "output_type": "stream",
     "text": [
      "Chunk 302 RMSE (constrained): 0.084005\n"
     ]
    },
    {
     "name": "stderr",
     "output_type": "stream",
     "text": [
      "C:\\Users\\wp7528\\AppData\\Roaming\\Python\\Python310\\site-packages\\pysindy\\optimizers\\constrained_sr3.py:463: ConvergenceWarning: SR3._reduce did not converge after 30 iterations.\n",
      "  warnings.warn(\n"
     ]
    },
    {
     "name": "stdout",
     "output_type": "stream",
     "text": [
      "Chunk 303 RMSE (constrained): 0.230076\n"
     ]
    },
    {
     "name": "stderr",
     "output_type": "stream",
     "text": [
      "C:\\Users\\wp7528\\AppData\\Roaming\\Python\\Python310\\site-packages\\pysindy\\optimizers\\constrained_sr3.py:463: ConvergenceWarning: SR3._reduce did not converge after 30 iterations.\n",
      "  warnings.warn(\n"
     ]
    },
    {
     "name": "stdout",
     "output_type": "stream",
     "text": [
      "Chunk 304 RMSE (constrained): 0.098128\n",
      "Chunk 305 RMSE (constrained): 0.128223\n"
     ]
    },
    {
     "name": "stderr",
     "output_type": "stream",
     "text": [
      "C:\\Users\\wp7528\\AppData\\Roaming\\Python\\Python310\\site-packages\\pysindy\\optimizers\\constrained_sr3.py:463: ConvergenceWarning: SR3._reduce did not converge after 30 iterations.\n",
      "  warnings.warn(\n"
     ]
    },
    {
     "name": "stdout",
     "output_type": "stream",
     "text": [
      "Chunk 306 RMSE (constrained): 0.153083\n"
     ]
    },
    {
     "name": "stderr",
     "output_type": "stream",
     "text": [
      "C:\\Users\\wp7528\\AppData\\Roaming\\Python\\Python310\\site-packages\\pysindy\\optimizers\\constrained_sr3.py:463: ConvergenceWarning: SR3._reduce did not converge after 30 iterations.\n",
      "  warnings.warn(\n"
     ]
    },
    {
     "name": "stdout",
     "output_type": "stream",
     "text": [
      "Chunk 307 RMSE (constrained): 0.155724\n",
      "Chunk 308 RMSE (constrained): 0.094111\n"
     ]
    },
    {
     "name": "stderr",
     "output_type": "stream",
     "text": [
      "C:\\Users\\wp7528\\AppData\\Roaming\\Python\\Python310\\site-packages\\pysindy\\optimizers\\constrained_sr3.py:463: ConvergenceWarning: SR3._reduce did not converge after 30 iterations.\n",
      "  warnings.warn(\n",
      "C:\\Users\\wp7528\\AppData\\Roaming\\Python\\Python310\\site-packages\\pysindy\\optimizers\\constrained_sr3.py:463: ConvergenceWarning: SR3._reduce did not converge after 30 iterations.\n",
      "  warnings.warn(\n"
     ]
    },
    {
     "name": "stdout",
     "output_type": "stream",
     "text": [
      "Chunk 309 RMSE (constrained): 0.109125\n"
     ]
    },
    {
     "name": "stderr",
     "output_type": "stream",
     "text": [
      "C:\\Users\\wp7528\\AppData\\Roaming\\Python\\Python310\\site-packages\\pysindy\\optimizers\\constrained_sr3.py:463: ConvergenceWarning: SR3._reduce did not converge after 30 iterations.\n",
      "  warnings.warn(\n"
     ]
    },
    {
     "name": "stdout",
     "output_type": "stream",
     "text": [
      "Chunk 310 RMSE (constrained): 0.099211\n",
      "Chunk 311 RMSE (constrained): 0.181615\n",
      "Chunk 312 RMSE (constrained): 0.114844\n",
      "Chunk 313 RMSE (constrained): 0.137551\n",
      "Chunk 314 RMSE (constrained): 0.100790\n",
      "Chunk 315 RMSE (constrained): 0.116949\n"
     ]
    },
    {
     "name": "stderr",
     "output_type": "stream",
     "text": [
      "C:\\Users\\wp7528\\AppData\\Roaming\\Python\\Python310\\site-packages\\pysindy\\optimizers\\constrained_sr3.py:463: ConvergenceWarning: SR3._reduce did not converge after 30 iterations.\n",
      "  warnings.warn(\n"
     ]
    },
    {
     "name": "stdout",
     "output_type": "stream",
     "text": [
      "Chunk 316 RMSE (constrained): 0.103145\n",
      "Chunk 317 RMSE (constrained): 0.101947\n"
     ]
    },
    {
     "name": "stderr",
     "output_type": "stream",
     "text": [
      "C:\\Users\\wp7528\\AppData\\Roaming\\Python\\Python310\\site-packages\\pysindy\\optimizers\\constrained_sr3.py:463: ConvergenceWarning: SR3._reduce did not converge after 30 iterations.\n",
      "  warnings.warn(\n"
     ]
    },
    {
     "name": "stdout",
     "output_type": "stream",
     "text": [
      "Chunk 318 RMSE (constrained): 0.138564\n"
     ]
    },
    {
     "name": "stderr",
     "output_type": "stream",
     "text": [
      "C:\\Users\\wp7528\\AppData\\Roaming\\Python\\Python310\\site-packages\\pysindy\\optimizers\\constrained_sr3.py:463: ConvergenceWarning: SR3._reduce did not converge after 30 iterations.\n",
      "  warnings.warn(\n"
     ]
    },
    {
     "name": "stdout",
     "output_type": "stream",
     "text": [
      "Chunk 319 RMSE (constrained): 0.105676\n"
     ]
    },
    {
     "name": "stderr",
     "output_type": "stream",
     "text": [
      "C:\\Users\\wp7528\\AppData\\Roaming\\Python\\Python310\\site-packages\\pysindy\\optimizers\\constrained_sr3.py:463: ConvergenceWarning: SR3._reduce did not converge after 30 iterations.\n",
      "  warnings.warn(\n"
     ]
    },
    {
     "name": "stdout",
     "output_type": "stream",
     "text": [
      "Chunk 320 RMSE (constrained): 0.135065\n",
      "Chunk 321 RMSE (constrained): 0.057745\n",
      "Chunk 322 RMSE (constrained): 0.083545\n"
     ]
    },
    {
     "name": "stderr",
     "output_type": "stream",
     "text": [
      "C:\\Users\\wp7528\\AppData\\Roaming\\Python\\Python310\\site-packages\\pysindy\\optimizers\\constrained_sr3.py:463: ConvergenceWarning: SR3._reduce did not converge after 30 iterations.\n",
      "  warnings.warn(\n"
     ]
    },
    {
     "name": "stdout",
     "output_type": "stream",
     "text": [
      "Chunk 323 RMSE (constrained): 0.031866\n"
     ]
    },
    {
     "name": "stderr",
     "output_type": "stream",
     "text": [
      "C:\\Users\\wp7528\\AppData\\Roaming\\Python\\Python310\\site-packages\\pysindy\\optimizers\\constrained_sr3.py:463: ConvergenceWarning: SR3._reduce did not converge after 30 iterations.\n",
      "  warnings.warn(\n"
     ]
    },
    {
     "name": "stdout",
     "output_type": "stream",
     "text": [
      "Chunk 324 RMSE (constrained): 0.041800\n"
     ]
    },
    {
     "name": "stderr",
     "output_type": "stream",
     "text": [
      "C:\\Users\\wp7528\\AppData\\Roaming\\Python\\Python310\\site-packages\\pysindy\\optimizers\\constrained_sr3.py:463: ConvergenceWarning: SR3._reduce did not converge after 30 iterations.\n",
      "  warnings.warn(\n"
     ]
    },
    {
     "name": "stdout",
     "output_type": "stream",
     "text": [
      "Chunk 325 RMSE (constrained): 0.095794\n"
     ]
    },
    {
     "name": "stderr",
     "output_type": "stream",
     "text": [
      "C:\\Users\\wp7528\\AppData\\Roaming\\Python\\Python310\\site-packages\\pysindy\\optimizers\\constrained_sr3.py:463: ConvergenceWarning: SR3._reduce did not converge after 30 iterations.\n",
      "  warnings.warn(\n"
     ]
    },
    {
     "name": "stdout",
     "output_type": "stream",
     "text": [
      "Chunk 326 RMSE (constrained): 0.105647\n"
     ]
    },
    {
     "name": "stderr",
     "output_type": "stream",
     "text": [
      "C:\\Users\\wp7528\\AppData\\Roaming\\Python\\Python310\\site-packages\\pysindy\\optimizers\\constrained_sr3.py:463: ConvergenceWarning: SR3._reduce did not converge after 30 iterations.\n",
      "  warnings.warn(\n"
     ]
    },
    {
     "name": "stdout",
     "output_type": "stream",
     "text": [
      "Chunk 327 RMSE (constrained): 0.100394\n"
     ]
    },
    {
     "name": "stderr",
     "output_type": "stream",
     "text": [
      "C:\\Users\\wp7528\\AppData\\Roaming\\Python\\Python310\\site-packages\\pysindy\\optimizers\\constrained_sr3.py:463: ConvergenceWarning: SR3._reduce did not converge after 30 iterations.\n",
      "  warnings.warn(\n"
     ]
    },
    {
     "name": "stdout",
     "output_type": "stream",
     "text": [
      "Chunk 328 RMSE (constrained): 0.141104\n"
     ]
    },
    {
     "name": "stderr",
     "output_type": "stream",
     "text": [
      "C:\\Users\\wp7528\\AppData\\Roaming\\Python\\Python310\\site-packages\\pysindy\\optimizers\\constrained_sr3.py:463: ConvergenceWarning: SR3._reduce did not converge after 30 iterations.\n",
      "  warnings.warn(\n"
     ]
    },
    {
     "name": "stdout",
     "output_type": "stream",
     "text": [
      "Chunk 329 RMSE (constrained): 0.102453\n",
      "Chunk 330 RMSE (constrained): 0.113613\n"
     ]
    },
    {
     "name": "stderr",
     "output_type": "stream",
     "text": [
      "C:\\Users\\wp7528\\AppData\\Roaming\\Python\\Python310\\site-packages\\pysindy\\optimizers\\constrained_sr3.py:463: ConvergenceWarning: SR3._reduce did not converge after 30 iterations.\n",
      "  warnings.warn(\n"
     ]
    },
    {
     "name": "stdout",
     "output_type": "stream",
     "text": [
      "Chunk 331 RMSE (constrained): 0.106189\n"
     ]
    },
    {
     "name": "stderr",
     "output_type": "stream",
     "text": [
      "C:\\Users\\wp7528\\AppData\\Roaming\\Python\\Python310\\site-packages\\pysindy\\optimizers\\constrained_sr3.py:463: ConvergenceWarning: SR3._reduce did not converge after 30 iterations.\n",
      "  warnings.warn(\n"
     ]
    },
    {
     "name": "stdout",
     "output_type": "stream",
     "text": [
      "Chunk 332 RMSE (constrained): 0.129611\n"
     ]
    },
    {
     "name": "stderr",
     "output_type": "stream",
     "text": [
      "C:\\Users\\wp7528\\AppData\\Roaming\\Python\\Python310\\site-packages\\pysindy\\optimizers\\constrained_sr3.py:463: ConvergenceWarning: SR3._reduce did not converge after 30 iterations.\n",
      "  warnings.warn(\n"
     ]
    },
    {
     "name": "stdout",
     "output_type": "stream",
     "text": [
      "Chunk 333 RMSE (constrained): 0.133247\n"
     ]
    },
    {
     "name": "stderr",
     "output_type": "stream",
     "text": [
      "C:\\Users\\wp7528\\AppData\\Roaming\\Python\\Python310\\site-packages\\pysindy\\optimizers\\constrained_sr3.py:463: ConvergenceWarning: SR3._reduce did not converge after 30 iterations.\n",
      "  warnings.warn(\n"
     ]
    },
    {
     "name": "stdout",
     "output_type": "stream",
     "text": [
      "Chunk 334 RMSE (constrained): 0.150129\n",
      "Chunk 335 RMSE (constrained): 0.146262\n",
      "Chunk 336 RMSE (constrained): 0.100777\n"
     ]
    },
    {
     "name": "stderr",
     "output_type": "stream",
     "text": [
      "C:\\Users\\wp7528\\AppData\\Roaming\\Python\\Python310\\site-packages\\pysindy\\optimizers\\constrained_sr3.py:463: ConvergenceWarning: SR3._reduce did not converge after 30 iterations.\n",
      "  warnings.warn(\n"
     ]
    },
    {
     "name": "stdout",
     "output_type": "stream",
     "text": [
      "Chunk 337 RMSE (constrained): 0.105306\n"
     ]
    },
    {
     "name": "stderr",
     "output_type": "stream",
     "text": [
      "C:\\Users\\wp7528\\AppData\\Roaming\\Python\\Python310\\site-packages\\pysindy\\optimizers\\constrained_sr3.py:463: ConvergenceWarning: SR3._reduce did not converge after 30 iterations.\n",
      "  warnings.warn(\n"
     ]
    },
    {
     "name": "stdout",
     "output_type": "stream",
     "text": [
      "Chunk 338 RMSE (constrained): 0.109455\n"
     ]
    },
    {
     "name": "stderr",
     "output_type": "stream",
     "text": [
      "C:\\Users\\wp7528\\AppData\\Roaming\\Python\\Python310\\site-packages\\pysindy\\optimizers\\constrained_sr3.py:463: ConvergenceWarning: SR3._reduce did not converge after 30 iterations.\n",
      "  warnings.warn(\n"
     ]
    },
    {
     "name": "stdout",
     "output_type": "stream",
     "text": [
      "Chunk 339 RMSE (constrained): 0.162488\n"
     ]
    },
    {
     "name": "stderr",
     "output_type": "stream",
     "text": [
      "C:\\Users\\wp7528\\AppData\\Roaming\\Python\\Python310\\site-packages\\pysindy\\optimizers\\constrained_sr3.py:463: ConvergenceWarning: SR3._reduce did not converge after 30 iterations.\n",
      "  warnings.warn(\n"
     ]
    },
    {
     "name": "stdout",
     "output_type": "stream",
     "text": [
      "Chunk 340 RMSE (constrained): 0.086161\n"
     ]
    },
    {
     "name": "stderr",
     "output_type": "stream",
     "text": [
      "C:\\Users\\wp7528\\AppData\\Roaming\\Python\\Python310\\site-packages\\pysindy\\optimizers\\constrained_sr3.py:463: ConvergenceWarning: SR3._reduce did not converge after 30 iterations.\n",
      "  warnings.warn(\n"
     ]
    },
    {
     "name": "stdout",
     "output_type": "stream",
     "text": [
      "Chunk 341 RMSE (constrained): 0.124984\n"
     ]
    },
    {
     "name": "stderr",
     "output_type": "stream",
     "text": [
      "C:\\Users\\wp7528\\AppData\\Roaming\\Python\\Python310\\site-packages\\pysindy\\optimizers\\constrained_sr3.py:463: ConvergenceWarning: SR3._reduce did not converge after 30 iterations.\n",
      "  warnings.warn(\n"
     ]
    },
    {
     "name": "stdout",
     "output_type": "stream",
     "text": [
      "Chunk 342 RMSE (constrained): 0.064887\n"
     ]
    },
    {
     "name": "stderr",
     "output_type": "stream",
     "text": [
      "C:\\Users\\wp7528\\AppData\\Roaming\\Python\\Python310\\site-packages\\pysindy\\optimizers\\constrained_sr3.py:463: ConvergenceWarning: SR3._reduce did not converge after 30 iterations.\n",
      "  warnings.warn(\n"
     ]
    },
    {
     "name": "stdout",
     "output_type": "stream",
     "text": [
      "Chunk 343 RMSE (constrained): 0.066880\n"
     ]
    },
    {
     "name": "stderr",
     "output_type": "stream",
     "text": [
      "C:\\Users\\wp7528\\AppData\\Roaming\\Python\\Python310\\site-packages\\pysindy\\optimizers\\constrained_sr3.py:463: ConvergenceWarning: SR3._reduce did not converge after 30 iterations.\n",
      "  warnings.warn(\n"
     ]
    },
    {
     "name": "stdout",
     "output_type": "stream",
     "text": [
      "Chunk 344 RMSE (constrained): 0.081024\n"
     ]
    },
    {
     "name": "stderr",
     "output_type": "stream",
     "text": [
      "C:\\Users\\wp7528\\AppData\\Roaming\\Python\\Python310\\site-packages\\pysindy\\optimizers\\constrained_sr3.py:463: ConvergenceWarning: SR3._reduce did not converge after 30 iterations.\n",
      "  warnings.warn(\n"
     ]
    },
    {
     "name": "stdout",
     "output_type": "stream",
     "text": [
      "Chunk 345 RMSE (constrained): 0.055092\n"
     ]
    },
    {
     "name": "stderr",
     "output_type": "stream",
     "text": [
      "C:\\Users\\wp7528\\AppData\\Roaming\\Python\\Python310\\site-packages\\pysindy\\optimizers\\constrained_sr3.py:463: ConvergenceWarning: SR3._reduce did not converge after 30 iterations.\n",
      "  warnings.warn(\n"
     ]
    },
    {
     "name": "stdout",
     "output_type": "stream",
     "text": [
      "Chunk 346 RMSE (constrained): 0.060044\n"
     ]
    },
    {
     "name": "stderr",
     "output_type": "stream",
     "text": [
      "C:\\Users\\wp7528\\AppData\\Roaming\\Python\\Python310\\site-packages\\pysindy\\optimizers\\constrained_sr3.py:463: ConvergenceWarning: SR3._reduce did not converge after 30 iterations.\n",
      "  warnings.warn(\n"
     ]
    },
    {
     "name": "stdout",
     "output_type": "stream",
     "text": [
      "Chunk 347 RMSE (constrained): 0.080976\n"
     ]
    },
    {
     "name": "stderr",
     "output_type": "stream",
     "text": [
      "C:\\Users\\wp7528\\AppData\\Roaming\\Python\\Python310\\site-packages\\pysindy\\optimizers\\constrained_sr3.py:463: ConvergenceWarning: SR3._reduce did not converge after 30 iterations.\n",
      "  warnings.warn(\n"
     ]
    },
    {
     "name": "stdout",
     "output_type": "stream",
     "text": [
      "Chunk 348 RMSE (constrained): 0.102363\n"
     ]
    },
    {
     "name": "stderr",
     "output_type": "stream",
     "text": [
      "C:\\Users\\wp7528\\AppData\\Roaming\\Python\\Python310\\site-packages\\pysindy\\optimizers\\constrained_sr3.py:463: ConvergenceWarning: SR3._reduce did not converge after 30 iterations.\n",
      "  warnings.warn(\n"
     ]
    },
    {
     "name": "stdout",
     "output_type": "stream",
     "text": [
      "Chunk 349 RMSE (constrained): 0.077202\n"
     ]
    },
    {
     "name": "stderr",
     "output_type": "stream",
     "text": [
      "C:\\Users\\wp7528\\AppData\\Roaming\\Python\\Python310\\site-packages\\pysindy\\optimizers\\constrained_sr3.py:463: ConvergenceWarning: SR3._reduce did not converge after 30 iterations.\n",
      "  warnings.warn(\n"
     ]
    },
    {
     "name": "stdout",
     "output_type": "stream",
     "text": [
      "Chunk 350 RMSE (constrained): 0.081731\n",
      "Chunk 351 RMSE (constrained): 0.141069\n",
      "Chunk 352 RMSE (constrained): 0.094260\n",
      "Chunk 353 RMSE (constrained): 0.167729\n",
      "Chunk 354 RMSE (constrained): 0.146615\n",
      "Chunk 355 RMSE (constrained): 0.206180\n"
     ]
    },
    {
     "name": "stderr",
     "output_type": "stream",
     "text": [
      "C:\\Users\\wp7528\\AppData\\Roaming\\Python\\Python310\\site-packages\\pysindy\\optimizers\\constrained_sr3.py:463: ConvergenceWarning: SR3._reduce did not converge after 30 iterations.\n",
      "  warnings.warn(\n"
     ]
    },
    {
     "name": "stdout",
     "output_type": "stream",
     "text": [
      "Chunk 356 RMSE (constrained): 0.094080\n"
     ]
    },
    {
     "name": "stderr",
     "output_type": "stream",
     "text": [
      "C:\\Users\\wp7528\\AppData\\Roaming\\Python\\Python310\\site-packages\\pysindy\\optimizers\\constrained_sr3.py:463: ConvergenceWarning: SR3._reduce did not converge after 30 iterations.\n",
      "  warnings.warn(\n"
     ]
    },
    {
     "name": "stdout",
     "output_type": "stream",
     "text": [
      "Chunk 357 RMSE (constrained): 0.099625\n"
     ]
    },
    {
     "name": "stderr",
     "output_type": "stream",
     "text": [
      "C:\\Users\\wp7528\\AppData\\Roaming\\Python\\Python310\\site-packages\\pysindy\\optimizers\\constrained_sr3.py:463: ConvergenceWarning: SR3._reduce did not converge after 30 iterations.\n",
      "  warnings.warn(\n"
     ]
    },
    {
     "name": "stdout",
     "output_type": "stream",
     "text": [
      "Chunk 358 RMSE (constrained): 0.109425\n"
     ]
    },
    {
     "name": "stderr",
     "output_type": "stream",
     "text": [
      "C:\\Users\\wp7528\\AppData\\Roaming\\Python\\Python310\\site-packages\\pysindy\\optimizers\\constrained_sr3.py:463: ConvergenceWarning: SR3._reduce did not converge after 30 iterations.\n",
      "  warnings.warn(\n"
     ]
    },
    {
     "name": "stdout",
     "output_type": "stream",
     "text": [
      "Chunk 359 RMSE (constrained): 0.109515\n"
     ]
    },
    {
     "ename": "KeyboardInterrupt",
     "evalue": "",
     "output_type": "error",
     "traceback": [
      "\u001b[1;31m---------------------------------------------------------------------------\u001b[0m",
      "\u001b[1;31mKeyboardInterrupt\u001b[0m                         Traceback (most recent call last)",
      "Cell \u001b[1;32mIn[10], line 14\u001b[0m\n\u001b[0;32m     11\u001b[0m \u001b[38;5;28mprint\u001b[39m(\u001b[38;5;124mf\u001b[39m\u001b[38;5;124m\"\u001b[39m\u001b[38;5;124mTotal number of valid hourly chunks: \u001b[39m\u001b[38;5;132;01m{\u001b[39;00m\u001b[38;5;28mlen\u001b[39m(region_data_list)\u001b[38;5;132;01m}\u001b[39;00m\u001b[38;5;124m\"\u001b[39m)\n\u001b[0;32m     13\u001b[0m \u001b[38;5;66;03m# Run the analysis\u001b[39;00m\n\u001b[1;32m---> 14\u001b[0m results, all_omega_data, all_rmse_data \u001b[38;5;241m=\u001b[39m \u001b[43manalyze_constrained_sindy\u001b[49m\u001b[43m(\u001b[49m\u001b[43mregion_data_list\u001b[49m\u001b[43m,\u001b[49m\u001b[43m \u001b[49m\u001b[43msigma\u001b[49m\u001b[38;5;241;43m=\u001b[39;49m\u001b[38;5;241;43m60\u001b[39;49m\u001b[43m,\u001b[49m\u001b[43m \u001b[49m\u001b[43mdegree\u001b[49m\u001b[38;5;241;43m=\u001b[39;49m\u001b[38;5;241;43m2\u001b[39;49m\u001b[43m,\u001b[49m\u001b[43m \u001b[49m\u001b[43mdivergence_threshold\u001b[49m\u001b[38;5;241;43m=\u001b[39;49m\u001b[38;5;241;43m0.5\u001b[39;49m\u001b[43m)\u001b[49m\n",
      "Cell \u001b[1;32mIn[8], line 148\u001b[0m, in \u001b[0;36manalyze_constrained_sindy\u001b[1;34m(filtered_data, sigma, degree, divergence_threshold, transform_name)\u001b[0m\n\u001b[0;32m    144\u001b[0m \u001b[38;5;66;03m# Constrained model\u001b[39;00m\n\u001b[0;32m    145\u001b[0m constrained_model \u001b[38;5;241m=\u001b[39m SINDy(feature_names\u001b[38;5;241m=\u001b[39mfeature_names, \n\u001b[0;32m    146\u001b[0m                           feature_library\u001b[38;5;241m=\u001b[39mpoly_library, \n\u001b[0;32m    147\u001b[0m                           optimizer\u001b[38;5;241m=\u001b[39mconstrained_optimizer)\n\u001b[1;32m--> 148\u001b[0m \u001b[43mconstrained_model\u001b[49m\u001b[38;5;241;43m.\u001b[39;49m\u001b[43mfit\u001b[49m\u001b[43m(\u001b[49m\u001b[43mx_train_augmented_chunk\u001b[49m\u001b[43m,\u001b[49m\u001b[43m \u001b[49m\u001b[43mt\u001b[49m\u001b[38;5;241;43m=\u001b[39;49m\u001b[38;5;241;43m1\u001b[39;49m\u001b[43m)\u001b[49m\n\u001b[0;32m    149\u001b[0m constrained_coefficients \u001b[38;5;241m=\u001b[39m constrained_model\u001b[38;5;241m.\u001b[39mcoefficients()\n\u001b[0;32m    151\u001b[0m th \u001b[38;5;241m=\u001b[39m np\u001b[38;5;241m.\u001b[39mzeros(simulation_steps)\n",
      "File \u001b[1;32m~\\AppData\\Roaming\\Python\\Python310\\site-packages\\pysindy\\pysindy.py:414\u001b[0m, in \u001b[0;36mSINDy.fit\u001b[1;34m(self, x, t, x_dot, u, multiple_trajectories, unbias, quiet, ensemble, library_ensemble, replace, n_candidates_to_drop, n_subset, n_models, ensemble_aggregator)\u001b[0m\n\u001b[0;32m    412\u001b[0m     warnings\u001b[38;5;241m.\u001b[39mfilterwarnings(action, category\u001b[38;5;241m=\u001b[39mLinAlgWarning)\n\u001b[0;32m    413\u001b[0m     warnings\u001b[38;5;241m.\u001b[39mfilterwarnings(action, category\u001b[38;5;241m=\u001b[39m\u001b[38;5;167;01mUserWarning\u001b[39;00m)\n\u001b[1;32m--> 414\u001b[0m     \u001b[38;5;28;43mself\u001b[39;49m\u001b[38;5;241;43m.\u001b[39;49m\u001b[43mmodel\u001b[49m\u001b[38;5;241;43m.\u001b[39;49m\u001b[43mfit\u001b[49m\u001b[43m(\u001b[49m\u001b[43mx\u001b[49m\u001b[43m,\u001b[49m\u001b[43m \u001b[49m\u001b[43mx_dot\u001b[49m\u001b[43m)\u001b[49m\n\u001b[0;32m    416\u001b[0m \u001b[38;5;66;03m# New version of sklearn changes attribute name\u001b[39;00m\n\u001b[0;32m    417\u001b[0m \u001b[38;5;28;01mif\u001b[39;00m \u001b[38;5;28mfloat\u001b[39m(__version__[:\u001b[38;5;241m3\u001b[39m]) \u001b[38;5;241m>\u001b[39m\u001b[38;5;241m=\u001b[39m \u001b[38;5;241m1.0\u001b[39m:\n",
      "File \u001b[1;32m~\\AppData\\Roaming\\Python\\Python310\\site-packages\\sklearn\\base.py:1151\u001b[0m, in \u001b[0;36m_fit_context.<locals>.decorator.<locals>.wrapper\u001b[1;34m(estimator, *args, **kwargs)\u001b[0m\n\u001b[0;32m   1144\u001b[0m     estimator\u001b[38;5;241m.\u001b[39m_validate_params()\n\u001b[0;32m   1146\u001b[0m \u001b[38;5;28;01mwith\u001b[39;00m config_context(\n\u001b[0;32m   1147\u001b[0m     skip_parameter_validation\u001b[38;5;241m=\u001b[39m(\n\u001b[0;32m   1148\u001b[0m         prefer_skip_nested_validation \u001b[38;5;129;01mor\u001b[39;00m global_skip_validation\n\u001b[0;32m   1149\u001b[0m     )\n\u001b[0;32m   1150\u001b[0m ):\n\u001b[1;32m-> 1151\u001b[0m     \u001b[38;5;28;01mreturn\u001b[39;00m fit_method(estimator, \u001b[38;5;241m*\u001b[39margs, \u001b[38;5;241m*\u001b[39m\u001b[38;5;241m*\u001b[39mkwargs)\n",
      "File \u001b[1;32m~\\AppData\\Roaming\\Python\\Python310\\site-packages\\sklearn\\pipeline.py:420\u001b[0m, in \u001b[0;36mPipeline.fit\u001b[1;34m(self, X, y, **fit_params)\u001b[0m\n\u001b[0;32m    418\u001b[0m     \u001b[38;5;28;01mif\u001b[39;00m \u001b[38;5;28mself\u001b[39m\u001b[38;5;241m.\u001b[39m_final_estimator \u001b[38;5;241m!=\u001b[39m \u001b[38;5;124m\"\u001b[39m\u001b[38;5;124mpassthrough\u001b[39m\u001b[38;5;124m\"\u001b[39m:\n\u001b[0;32m    419\u001b[0m         fit_params_last_step \u001b[38;5;241m=\u001b[39m fit_params_steps[\u001b[38;5;28mself\u001b[39m\u001b[38;5;241m.\u001b[39msteps[\u001b[38;5;241m-\u001b[39m\u001b[38;5;241m1\u001b[39m][\u001b[38;5;241m0\u001b[39m]]\n\u001b[1;32m--> 420\u001b[0m         \u001b[38;5;28mself\u001b[39m\u001b[38;5;241m.\u001b[39m_final_estimator\u001b[38;5;241m.\u001b[39mfit(Xt, y, \u001b[38;5;241m*\u001b[39m\u001b[38;5;241m*\u001b[39mfit_params_last_step)\n\u001b[0;32m    422\u001b[0m \u001b[38;5;28;01mreturn\u001b[39;00m \u001b[38;5;28mself\u001b[39m\n",
      "File \u001b[1;32m~\\AppData\\Roaming\\Python\\Python310\\site-packages\\pysindy\\optimizers\\sindy_optimizer.py:60\u001b[0m, in \u001b[0;36mSINDyOptimizer.fit\u001b[1;34m(self, x, y)\u001b[0m\n\u001b[0;32m     53\u001b[0m \u001b[38;5;28;01mdef\u001b[39;00m \u001b[38;5;21mfit\u001b[39m(\u001b[38;5;28mself\u001b[39m, x, y):\n\u001b[0;32m     55\u001b[0m     x, y \u001b[38;5;241m=\u001b[39m drop_nan_samples(\n\u001b[0;32m     56\u001b[0m         AxesArray(x, {\u001b[38;5;124m\"\u001b[39m\u001b[38;5;124max_sample\u001b[39m\u001b[38;5;124m\"\u001b[39m: \u001b[38;5;241m0\u001b[39m, \u001b[38;5;124m\"\u001b[39m\u001b[38;5;124max_coord\u001b[39m\u001b[38;5;124m\"\u001b[39m: \u001b[38;5;241m1\u001b[39m}),\n\u001b[0;32m     57\u001b[0m         AxesArray(y, {\u001b[38;5;124m\"\u001b[39m\u001b[38;5;124max_sample\u001b[39m\u001b[38;5;124m\"\u001b[39m: \u001b[38;5;241m0\u001b[39m, \u001b[38;5;124m\"\u001b[39m\u001b[38;5;124max_coord\u001b[39m\u001b[38;5;124m\"\u001b[39m: \u001b[38;5;241m1\u001b[39m}),\n\u001b[0;32m     58\u001b[0m     )\n\u001b[1;32m---> 60\u001b[0m     \u001b[38;5;28;43mself\u001b[39;49m\u001b[38;5;241;43m.\u001b[39;49m\u001b[43moptimizer\u001b[49m\u001b[38;5;241;43m.\u001b[39;49m\u001b[43mfit\u001b[49m\u001b[43m(\u001b[49m\u001b[43mx\u001b[49m\u001b[43m,\u001b[49m\u001b[43m \u001b[49m\u001b[43my\u001b[49m\u001b[43m)\u001b[49m\n\u001b[0;32m     61\u001b[0m     \u001b[38;5;28;01mif\u001b[39;00m \u001b[38;5;129;01mnot\u001b[39;00m \u001b[38;5;28mhasattr\u001b[39m(\u001b[38;5;28mself\u001b[39m\u001b[38;5;241m.\u001b[39moptimizer, \u001b[38;5;124m\"\u001b[39m\u001b[38;5;124mcoef_\u001b[39m\u001b[38;5;124m\"\u001b[39m):\n\u001b[0;32m     62\u001b[0m         \u001b[38;5;28;01mraise\u001b[39;00m \u001b[38;5;167;01mAttributeError\u001b[39;00m(\u001b[38;5;124m\"\u001b[39m\u001b[38;5;124moptimizer has no attribute coef_\u001b[39m\u001b[38;5;124m\"\u001b[39m)\n",
      "File \u001b[1;32m~\\AppData\\Roaming\\Python\\Python310\\site-packages\\pysindy\\optimizers\\base.py:178\u001b[0m, in \u001b[0;36mBaseOptimizer.fit\u001b[1;34m(self, x_, y, sample_weight, **reduce_kws)\u001b[0m\n\u001b[0;32m    174\u001b[0m \u001b[38;5;28mself\u001b[39m\u001b[38;5;241m.\u001b[39mhistory_ \u001b[38;5;241m=\u001b[39m [\u001b[38;5;28mself\u001b[39m\u001b[38;5;241m.\u001b[39mcoef_]\n\u001b[0;32m    176\u001b[0m x_normed \u001b[38;5;241m=\u001b[39m np\u001b[38;5;241m.\u001b[39masarray(x_normed)\n\u001b[1;32m--> 178\u001b[0m \u001b[38;5;28mself\u001b[39m\u001b[38;5;241m.\u001b[39m_reduce(x_normed, y, \u001b[38;5;241m*\u001b[39m\u001b[38;5;241m*\u001b[39mreduce_kws)\n\u001b[0;32m    179\u001b[0m \u001b[38;5;28mself\u001b[39m\u001b[38;5;241m.\u001b[39mind_ \u001b[38;5;241m=\u001b[39m np\u001b[38;5;241m.\u001b[39mabs(\u001b[38;5;28mself\u001b[39m\u001b[38;5;241m.\u001b[39mcoef_) \u001b[38;5;241m>\u001b[39m \u001b[38;5;241m1e-14\u001b[39m\n\u001b[0;32m    181\u001b[0m \u001b[38;5;66;03m# Rescale coefficients to original units\u001b[39;00m\n",
      "File \u001b[1;32m~\\AppData\\Roaming\\Python\\Python310\\site-packages\\pysindy\\optimizers\\constrained_sr3.py:439\u001b[0m, in \u001b[0;36mConstrainedSR3._reduce\u001b[1;34m(self, x, y)\u001b[0m\n\u001b[0;32m    437\u001b[0m     trimming_grad \u001b[38;5;241m=\u001b[39m \u001b[38;5;241m0.5\u001b[39m \u001b[38;5;241m*\u001b[39m np\u001b[38;5;241m.\u001b[39msum((y \u001b[38;5;241m-\u001b[39m x\u001b[38;5;241m.\u001b[39mdot(coef_full)) \u001b[38;5;241m*\u001b[39m\u001b[38;5;241m*\u001b[39m \u001b[38;5;241m2\u001b[39m, axis\u001b[38;5;241m=\u001b[39m\u001b[38;5;241m1\u001b[39m)\n\u001b[0;32m    438\u001b[0m \u001b[38;5;28;01mif\u001b[39;00m \u001b[38;5;28mself\u001b[39m\u001b[38;5;241m.\u001b[39muse_constraints:\n\u001b[1;32m--> 439\u001b[0m     coef_full \u001b[38;5;241m=\u001b[39m \u001b[38;5;28;43mself\u001b[39;49m\u001b[38;5;241;43m.\u001b[39;49m\u001b[43m_update_full_coef_constraints\u001b[49m\u001b[43m(\u001b[49m\n\u001b[0;32m    440\u001b[0m \u001b[43m        \u001b[49m\u001b[43mH\u001b[49m\u001b[43m,\u001b[49m\u001b[43m \u001b[49m\u001b[43mx_transpose_y\u001b[49m\u001b[43m,\u001b[49m\u001b[43m \u001b[49m\u001b[43mcoef_sparse\u001b[49m\n\u001b[0;32m    441\u001b[0m \u001b[43m    \u001b[49m\u001b[43m)\u001b[49m\n\u001b[0;32m    442\u001b[0m \u001b[38;5;28;01melse\u001b[39;00m:\n\u001b[0;32m    443\u001b[0m     coef_full \u001b[38;5;241m=\u001b[39m \u001b[38;5;28mself\u001b[39m\u001b[38;5;241m.\u001b[39m_update_full_coef(cho, x_transpose_y, coef_sparse)\n",
      "File \u001b[1;32m~\\AppData\\Roaming\\Python\\Python310\\site-packages\\pysindy\\optimizers\\constrained_sr3.py:243\u001b[0m, in \u001b[0;36mConstrainedSR3._update_full_coef_constraints\u001b[1;34m(self, H, x_transpose_y, coef_sparse)\u001b[0m\n\u001b[0;32m    241\u001b[0m g \u001b[38;5;241m=\u001b[39m x_transpose_y \u001b[38;5;241m+\u001b[39m coef_sparse \u001b[38;5;241m/\u001b[39m \u001b[38;5;28mself\u001b[39m\u001b[38;5;241m.\u001b[39mnu\n\u001b[0;32m    242\u001b[0m inv1 \u001b[38;5;241m=\u001b[39m np\u001b[38;5;241m.\u001b[39mlinalg\u001b[38;5;241m.\u001b[39minv(H)\n\u001b[1;32m--> 243\u001b[0m inv1_mod \u001b[38;5;241m=\u001b[39m \u001b[43mnp\u001b[49m\u001b[38;5;241;43m.\u001b[39;49m\u001b[43mkron\u001b[49m\u001b[43m(\u001b[49m\u001b[43minv1\u001b[49m\u001b[43m,\u001b[49m\u001b[43m \u001b[49m\u001b[43mnp\u001b[49m\u001b[38;5;241;43m.\u001b[39;49m\u001b[43meye\u001b[49m\u001b[43m(\u001b[49m\u001b[43mcoef_sparse\u001b[49m\u001b[38;5;241;43m.\u001b[39;49m\u001b[43mshape\u001b[49m\u001b[43m[\u001b[49m\u001b[38;5;241;43m1\u001b[39;49m\u001b[43m]\u001b[49m\u001b[43m)\u001b[49m\u001b[43m)\u001b[49m\n\u001b[0;32m    244\u001b[0m inv2 \u001b[38;5;241m=\u001b[39m np\u001b[38;5;241m.\u001b[39mlinalg\u001b[38;5;241m.\u001b[39minv(\n\u001b[0;32m    245\u001b[0m     \u001b[38;5;28mself\u001b[39m\u001b[38;5;241m.\u001b[39mconstraint_lhs\u001b[38;5;241m.\u001b[39mdot(inv1_mod)\u001b[38;5;241m.\u001b[39mdot(\u001b[38;5;28mself\u001b[39m\u001b[38;5;241m.\u001b[39mconstraint_lhs\u001b[38;5;241m.\u001b[39mT)\n\u001b[0;32m    246\u001b[0m )\n\u001b[0;32m    248\u001b[0m rhs \u001b[38;5;241m=\u001b[39m g\u001b[38;5;241m.\u001b[39mflatten() \u001b[38;5;241m+\u001b[39m \u001b[38;5;28mself\u001b[39m\u001b[38;5;241m.\u001b[39mconstraint_lhs\u001b[38;5;241m.\u001b[39mT\u001b[38;5;241m.\u001b[39mdot(inv2)\u001b[38;5;241m.\u001b[39mdot(\n\u001b[0;32m    249\u001b[0m     \u001b[38;5;28mself\u001b[39m\u001b[38;5;241m.\u001b[39mconstraint_rhs \u001b[38;5;241m-\u001b[39m \u001b[38;5;28mself\u001b[39m\u001b[38;5;241m.\u001b[39mconstraint_lhs\u001b[38;5;241m.\u001b[39mdot(inv1_mod)\u001b[38;5;241m.\u001b[39mdot(g\u001b[38;5;241m.\u001b[39mflatten())\n\u001b[0;32m    250\u001b[0m )\n",
      "File \u001b[1;32mc:\\ProjectSINDyRL\\sindy_rl\\lib\\site-packages\\numpy\\lib\\shape_base.py:1173\u001b[0m, in \u001b[0;36mkron\u001b[1;34m(a, b)\u001b[0m\n\u001b[0;32m   1171\u001b[0m b_arr \u001b[38;5;241m=\u001b[39m expand_dims(b_arr, axis\u001b[38;5;241m=\u001b[39m\u001b[38;5;28mtuple\u001b[39m(\u001b[38;5;28mrange\u001b[39m(\u001b[38;5;241m0\u001b[39m, nd\u001b[38;5;241m*\u001b[39m\u001b[38;5;241m2\u001b[39m, \u001b[38;5;241m2\u001b[39m)))\n\u001b[0;32m   1172\u001b[0m \u001b[38;5;66;03m# In case of `mat`, convert result to `array`\u001b[39;00m\n\u001b[1;32m-> 1173\u001b[0m result \u001b[38;5;241m=\u001b[39m \u001b[43m_nx\u001b[49m\u001b[38;5;241;43m.\u001b[39;49m\u001b[43mmultiply\u001b[49m\u001b[43m(\u001b[49m\u001b[43ma_arr\u001b[49m\u001b[43m,\u001b[49m\u001b[43m \u001b[49m\u001b[43mb_arr\u001b[49m\u001b[43m,\u001b[49m\u001b[43m \u001b[49m\u001b[43msubok\u001b[49m\u001b[38;5;241;43m=\u001b[39;49m\u001b[43m(\u001b[49m\u001b[38;5;129;43;01mnot\u001b[39;49;00m\u001b[43m \u001b[49m\u001b[43mis_any_mat\u001b[49m\u001b[43m)\u001b[49m\u001b[43m)\u001b[49m\n\u001b[0;32m   1175\u001b[0m \u001b[38;5;66;03m# Reshape back\u001b[39;00m\n\u001b[0;32m   1176\u001b[0m result \u001b[38;5;241m=\u001b[39m result\u001b[38;5;241m.\u001b[39mreshape(_nx\u001b[38;5;241m.\u001b[39mmultiply(as_, bs))\n",
      "\u001b[1;31mKeyboardInterrupt\u001b[0m: "
     ]
    }
   ],
   "source": [
    "# Load and preprocess data\n",
    "data = pd.read_pickle(\"C:/1. Power grid frequency data/df_South_Korea_cleansed_2024-08-15_2024-12-10.pkl\")\n",
    "data.index = pd.to_datetime(data.index)\n",
    "data_filtered = data[(data['QI'] == 0) & (data['freq'].notna())].drop(columns=['QI']).dropna()\n",
    "hourly_groups = data_filtered.groupby(data_filtered.index.floor('H'))\n",
    "valid_hours = hourly_groups.filter(lambda x: len(x) == 3600)\n",
    "valid_hours['omega'] = 2 * np.pi * (valid_hours['freq'] - 60)\n",
    "\n",
    "# Split data into hourly chunks\n",
    "region_data_list = [group for _, group in valid_hours.groupby(valid_hours.index.floor('H'))]\n",
    "print(f\"Total number of valid hourly chunks: {len(region_data_list)}\")\n",
    "\n",
    "# Run the analysis\n",
    "results, all_omega_data, all_rmse_data = analyze_constrained_sindy(region_data_list, sigma=60, degree=2, divergence_threshold=0.5)"
   ]
  },
  {
   "cell_type": "code",
   "execution_count": null,
   "metadata": {},
   "outputs": [],
   "source": [
    "# Optional: Save results\n",
    "import pickle\n",
    "output_dir = \"C:/1. Power grid frequency data/results/\"\n",
    "os.makedirs(output_dir, exist_ok=True)\n",
    "with open(f\"{output_dir}constrained_sindy_results.pkl\", 'wb') as f:\n",
    "    pickle.dump(results, f)\n",
    "with open(f\"{output_dir}all_omega_data.pkl\", 'wb') as f:\n",
    "    pickle.dump(all_omega_data, f)\n",
    "print(\"Results saved.\")"
   ]
  },
  {
   "cell_type": "code",
   "execution_count": null,
   "metadata": {},
   "outputs": [],
   "source": []
  },
  {
   "cell_type": "code",
   "execution_count": null,
   "metadata": {},
   "outputs": [],
   "source": []
  },
  {
   "cell_type": "code",
   "execution_count": null,
   "metadata": {},
   "outputs": [],
   "source": []
  },
  {
   "cell_type": "code",
   "execution_count": null,
   "metadata": {},
   "outputs": [],
   "source": [
    "# CE Data\n",
    "ce_path = \"C:/1. Power grid frequency data/CE/2024.csv\"\n",
    "data_ce = pd.read_csv(ce_path, header=None, names=['Time', 'freq'])\n",
    "\n",
    "# Convert Time column to datetime and set as index\n",
    "data_ce['Time'] = pd.to_datetime(data_ce['Time'])\n",
    "data_ce.set_index('Time', inplace=True)\n",
    "data_ce['freq'] = pd.to_numeric(data_ce['freq'])\n",
    "\n",
    "# Print rows with NA in CE before filtering\n",
    "print(\"Rows with NA in CE data before filtering:\")\n",
    "print(data_ce[data_ce.isna().any(axis=1)])\n",
    "\n",
    "# South Korea Data\n",
    "data_sk = pd.read_pickle(\"C:/1. Power grid frequency data/df_South_Korea_cleansed_2024-08-15_2024-12-10.pkl\")\n",
    "data_sk.index = pd.to_datetime(data_sk.index)\n",
    "\n",
    "# Print rows with NA in South Korea before filtering\n",
    "print(\"\\nRows with NA in South Korea data before filtering:\")\n",
    "print(data_sk[data_sk.isna().any(axis=1)])\n",
    "\n",
    "# CE Filtering\n",
    "data_filtered_ce = data_ce.dropna(subset=['freq'])\n",
    "valid_hours_ce = data_filtered_ce.groupby(data_filtered_ce.index.floor('H')).filter(lambda x: len(x) == 3600)\n",
    "valid_hours_ce['omega'] = 2 * np.pi * (valid_hours_ce['freq'] - 50)  # 50 Hz base for CE\n",
    "\n",
    "# South Korea Filtering\n",
    "data_filtered_sk = data_sk[(data_sk['QI'] == 0) & (data_sk['freq'].notna())].dropna()\n",
    "valid_hours_sk = data_filtered_sk.groupby(data_filtered_sk.index.floor('H')).filter(lambda x: len(x) == 3600)\n",
    "valid_hours_sk['omega'] = 2 * np.pi * (valid_hours_sk['freq'] - 60)  # 60 Hz base for South Korea"
   ]
  },
  {
   "cell_type": "code",
   "execution_count": null,
   "metadata": {},
   "outputs": [],
   "source": [
    "# Apply Gaussian filter to the omega data\n",
    "filtered_data_ce = apply_gaussian_filter(valid_hours_ce['omega'], 'CE')\n",
    "filtered_data_sk = apply_gaussian_filter(valid_hours_sk['omega'], 'SK')"
   ]
  },
  {
   "cell_type": "code",
   "execution_count": null,
   "metadata": {},
   "outputs": [],
   "source": [
    "# Feature names\n",
    "feature_names = ['1', 'theta', 'omega', 'time', 'theta^2', 'theta omega', \n",
    "                 'theta time', 'omega^2', 'omega time', 'time^2']\n",
    "n_features = len(feature_names)\n",
    "\n",
    "# Simulation parameters\n",
    "s = 1  # Sampling rate (1 Hz)\n",
    "delta_t = 1 / s\n",
    "simulation_steps = 3600\n",
    "divergence_threshold = 0.5\n",
    "\n",
    "# Single sigma value\n",
    "sigma = 60\n",
    "\n",
    "# Polynomial library\n",
    "poly_library = PolynomialLibrary(degree=2)\n",
    "\n",
    "# Optimizers for original model (unchanged)\n",
    "original_optimizer = STLSQ(threshold=1e-10)\n",
    "\n",
    "# Store results for each constraint\n",
    "results = {\n",
    "    'constraint_index': [],\n",
    "    'constrained_term': [],\n",
    "    'mean_original_rmse': [],\n",
    "    'mean_constrained_rmse': [],\n",
    "    'unstable_original': [],\n",
    "    'unstable_constrained': [],\n",
    "    'total_chunks': []\n",
    "}\n",
    "\n",
    "# Dictionary to store all omega values: {constraint_term: {chunk_idx: {'true': ..., 'filtered': ..., 'original': ..., 'constrained': ..., 'time': ...}}}\n",
    "all_omega_data = {}\n",
    "\n",
    "# Loop over constraint indices from n_features + 3 to n_features + 9\n",
    "constraint_indices = range(n_features , n_features + 10)  # 13 to 19\n",
    "constrained_terms = feature_names[0:10]  # Corresponding terms: 'time' to 'time^2'\n",
    "\n",
    "for constraint_idx, constrained_term in zip(constraint_indices, constrained_terms):\n",
    "    # Initialize lists for this constraint case\n",
    "    original_rmse = []\n",
    "    constrained_rmse = []\n",
    "    original_coeffs_all = []\n",
    "    constrained_coeffs_all = []\n",
    "    unstable_original = 0\n",
    "    unstable_constrained = 0\n",
    "    total_chunks = 0\n",
    "\n",
    "    # Initialize storage for this constraint term\n",
    "    all_omega_data[constrained_term] = {}\n",
    "\n",
    "    # Set up constrained optimizer for this specific term\n",
    "    constraint_lhs = np.zeros((1, 3 * n_features))  # Single constraint\n",
    "    constraint_lhs[0, constraint_idx] = 1  # Constrain one term in domega/dt\n",
    "    constraint_rhs = np.array([0])\n",
    "    constrained_optimizer = ConstrainedSR3(\n",
    "        threshold=1e-10,\n",
    "        constraint_lhs=constraint_lhs,\n",
    "        constraint_rhs=constraint_rhs,\n",
    "        constraint_order=\"feature\"\n",
    "    )\n",
    "\n",
    "    # Suppress numerical warnings\n",
    "    np.seterr(over='raise', divide='raise', invalid='raise')\n",
    "\n",
    "    # Loop over all chunks in filtered_data_sk\n",
    "    for i, chunk in enumerate(filtered_data_sk):\n",
    "        total_chunks += 1\n",
    "\n",
    "        # Apply Gaussian filter with sigma=60\n",
    "        omega_filtered = apply_gaussian_filter(chunk['omega'].values, sigma=sigma)\n",
    "        chunk['omega_filtered'] = omega_filtered\n",
    "\n",
    "        # Prepare data for SINDy\n",
    "        theta_chunk = integrate_data(chunk['omega_filtered'].values)\n",
    "        stacked_data_chunk = np.column_stack((theta_chunk, chunk['omega_filtered'].values))\n",
    "        t_train_chunk = np.arange(0, len(chunk), 1).reshape(-1, 1)\n",
    "        x_train_augmented_chunk = np.hstack([stacked_data_chunk, t_train_chunk])\n",
    "\n",
    "        # True omega for comparison\n",
    "        true_omega = chunk['omega'].values\n",
    "\n",
    "        # Time points\n",
    "        time_points = np.arange(0, simulation_steps, 1) * delta_t\n",
    "\n",
    "        # Fit original model (STLSQ) for 3 states\n",
    "        original_model = SINDy(feature_names=feature_names, \n",
    "                               feature_library=poly_library, \n",
    "                               optimizer=original_optimizer)\n",
    "        original_model.fit(x_train_augmented_chunk, t=1)\n",
    "        original_coefficients = original_model.coefficients()\n",
    "\n",
    "        # Manual simulation for original model\n",
    "        th = np.zeros(simulation_steps)\n",
    "        om_original = np.zeros(simulation_steps)\n",
    "        t = np.zeros(simulation_steps)\n",
    "        th[0], om_original[0], t[0] = theta_chunk[0], true_omega[0], 0 \n",
    "        limited_simulation = False\n",
    "\n",
    "        try:\n",
    "            for step in range(simulation_steps - 1):\n",
    "                state = np.array([th[step], om_original[step], t[step]])\n",
    "                features = poly_library.fit_transform(state.reshape(1, -1))[0]\n",
    "                derivatives = original_coefficients @ features\n",
    "\n",
    "                th[step + 1] = th[step] + delta_t * derivatives[0]\n",
    "                om_original[step + 1] = om_original[step] + delta_t * derivatives[1]\n",
    "                t[step + 1] = t[step] + delta_t * derivatives[2]\n",
    "\n",
    "                if np.abs(om_original[step + 1]) > divergence_threshold:\n",
    "                    limited_simulation = True\n",
    "                    simulation_end = step + 2\n",
    "                    unstable_original += 1\n",
    "                    break\n",
    "        except (FloatingPointError, OverflowError, RuntimeWarning):\n",
    "            limited_simulation = True\n",
    "            simulation_end = 3600\n",
    "            unstable_original += 1\n",
    "\n",
    "        om_original_used = om_original[:simulation_end] if limited_simulation else om_original\n",
    "        true_omega_used = true_omega[:len(om_original_used)]\n",
    "        rmse_original = calculate_rmse(true_omega_used, om_original_used)\n",
    "        original_rmse.append(rmse_original)\n",
    "        original_coeffs_all.append(original_coefficients[1])\n",
    "\n",
    "        # Fit constrained model\n",
    "        constrained_model = SINDy(feature_names=feature_names, \n",
    "                                  feature_library=poly_library, \n",
    "                                  optimizer=constrained_optimizer)\n",
    "        constrained_model.fit(x_train_augmented_chunk, t=1)\n",
    "        constrained_coefficients = constrained_model.coefficients()\n",
    "\n",
    "        # Manual simulation for constrained model\n",
    "        th = np.zeros(simulation_steps)\n",
    "        om_constrained = np.zeros(simulation_steps)\n",
    "        t = np.zeros(simulation_steps)\n",
    "        th[0], om_constrained[0], t[0] = theta_chunk[0], omega_filtered[0], 0\n",
    "        limited_simulation = False\n",
    "\n",
    "        try:\n",
    "            for step in range(simulation_steps - 1):\n",
    "                state = np.array([th[step], om_constrained[step], t[step]])\n",
    "                features = poly_library.fit_transform(state.reshape(1, -1))[0]\n",
    "                derivatives = constrained_coefficients @ features\n",
    "\n",
    "                th[step + 1] = th[step] + delta_t * derivatives[0]\n",
    "                om_constrained[step + 1] = om_constrained[step] + delta_t * derivatives[1]\n",
    "                t[step + 1] = t[step] + delta_t * derivatives[2]\n",
    "\n",
    "                if np.abs(om_constrained[step + 1]) > divergence_threshold:\n",
    "                    limited_simulation = True\n",
    "                    simulation_end = step + 2\n",
    "                    unstable_constrained += 1\n",
    "                    break\n",
    "        except (FloatingPointError, OverflowError, RuntimeWarning):\n",
    "            limited_simulation = True\n",
    "            simulation_end = 3600\n",
    "            unstable_constrained += 1\n",
    "\n",
    "        om_constrained_used = om_constrained[:simulation_end] if limited_simulation else om_constrained\n",
    "        true_omega_used = true_omega[:len(om_constrained_used)]\n",
    "        rmse_constrained = calculate_rmse(true_omega_used, om_constrained_used)\n",
    "        constrained_rmse.append(rmse_constrained)\n",
    "        constrained_coeffs_all.append(constrained_coefficients[1])\n",
    "\n",
    "        # Store all omega values for this chunk and constraint\n",
    "        all_omega_data[constrained_term][i] = {\n",
    "            'true': true_omega.copy(),\n",
    "            'filtered': omega_filtered.copy(),\n",
    "            'original': om_original.copy(),\n",
    "            'constrained': om_constrained.copy(),\n",
    "            'time': time_points[:len(om_original)] if limited_simulation else time_points.copy()\n",
    "        }\n",
    "\n",
    "    # Aggregate results for this constraint\n",
    "    mean_original_rmse = np.mean(original_rmse)\n",
    "    mean_constrained_rmse = np.mean(constrained_rmse)\n",
    "\n",
    "    # Store results\n",
    "    results['constraint_index'].append(constraint_idx)\n",
    "    results['constrained_term'].append(constrained_term)\n",
    "    results['mean_original_rmse'].append(mean_original_rmse)\n",
    "    results['mean_constrained_rmse'].append(mean_constrained_rmse)\n",
    "    results['unstable_original'].append(unstable_original)\n",
    "    results['unstable_constrained'].append(unstable_constrained)\n",
    "    results['total_chunks'].append(total_chunks)"
   ]
  },
  {
   "cell_type": "code",
   "execution_count": null,
   "metadata": {},
   "outputs": [],
   "source": [
    "# Print results for all constraints\n",
    "print(\"\\nResults for each constrained term in domega/dt (sigma=60):\")\n",
    "for i in range(len(results['constraint_index'])):\n",
    "    idx = results['constraint_index'][i]\n",
    "    term = results['constrained_term'][i]\n",
    "    orig_rmse = results['mean_original_rmse'][i]\n",
    "    const_rmse = results['mean_constrained_rmse'][i]\n",
    "    unst_orig = results['unstable_original'][i]\n",
    "    unst_const = results['unstable_constrained'][i]\n",
    "    total = results['total_chunks'][i]\n",
    "    print(f\"\\nConstrained term: {term} (index {idx})\")\n",
    "    print(f\"Mean Original RMSE: {orig_rmse}\")\n",
    "    print(f\"Mean Constrained RMSE: {const_rmse}\")\n",
    "    print(f\"Number of unstable original chunks: {unst_orig}\")\n",
    "    print(f\"Share of unstable original chunks: {unst_orig / total:.2%}\")\n",
    "    print(f\"Number of unstable constrained chunks: {unst_const}\")\n",
    "    print(f\"Share of unstable constrained chunks: {unst_const / total:.2%}\")"
   ]
  },
  {
   "cell_type": "code",
   "execution_count": null,
   "metadata": {},
   "outputs": [],
   "source": []
  }
 ],
 "metadata": {
  "kernelspec": {
   "display_name": "sindy_rl",
   "language": "python",
   "name": "python3"
  },
  "language_info": {
   "codemirror_mode": {
    "name": "ipython",
    "version": 3
   },
   "file_extension": ".py",
   "mimetype": "text/x-python",
   "name": "python",
   "nbconvert_exporter": "python",
   "pygments_lexer": "ipython3",
   "version": "3.10.15"
  }
 },
 "nbformat": 4,
 "nbformat_minor": 2
}
